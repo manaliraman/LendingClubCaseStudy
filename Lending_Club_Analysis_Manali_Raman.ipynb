{
 "cells": [
  {
   "cell_type": "markdown",
   "metadata": {},
   "source": [
    "## Lending Club Case Study"
   ]
  },
  {
   "cell_type": "markdown",
   "metadata": {},
   "source": [
    "The aim is to identify patterns which indicate if a person is likely to default which may be used for taking actions such as denying the loan, reducing the amount of loan, lending (to risky applicants) at a higher interest rate, etc."
   ]
  },
  {
   "cell_type": "markdown",
   "metadata": {},
   "source": [
    "We will use EDA to understand how consumer attributes and loan attributes influence the tendency of default. We need to understand the driving factors (or driver variables) behind loan default, i.e. the variables which are strong indicators of default.  The company can utilise this knowledge for its portfolio and risk assessment. "
   ]
  },
  {
   "cell_type": "markdown",
   "metadata": {},
   "source": [
    "The analysis can be divided into following steps\n",
    "1. Data loading and u derstanding\n",
    "2. Data Cleaning and Preprocessing\n",
    "3. Exploratory Data Analysis comprising Univariate Analysis, Bivariate Analysis, Segmented Univariate Analysis and Multivariate Analysis"
   ]
  },
  {
   "cell_type": "code",
   "execution_count": 1,
   "metadata": {},
   "outputs": [],
   "source": [
    "## import required libraries\n",
    "import numpy as np\n",
    "import pandas as pd\n",
    "import matplotlib.pyplot as plt\n",
    "import seaborn as sns"
   ]
  },
  {
   "cell_type": "code",
   "execution_count": 2,
   "metadata": {},
   "outputs": [],
   "source": [
    "#Load the data\n",
    "loan_df = pd.read_csv(\"loan.csv\", low_memory=False)"
   ]
  },
  {
   "cell_type": "code",
   "execution_count": 3,
   "metadata": {},
   "outputs": [
    {
     "data": {
      "text/html": [
       "<div>\n",
       "<style scoped>\n",
       "    .dataframe tbody tr th:only-of-type {\n",
       "        vertical-align: middle;\n",
       "    }\n",
       "\n",
       "    .dataframe tbody tr th {\n",
       "        vertical-align: top;\n",
       "    }\n",
       "\n",
       "    .dataframe thead th {\n",
       "        text-align: right;\n",
       "    }\n",
       "</style>\n",
       "<table border=\"1\" class=\"dataframe\">\n",
       "  <thead>\n",
       "    <tr style=\"text-align: right;\">\n",
       "      <th></th>\n",
       "      <th>id</th>\n",
       "      <th>member_id</th>\n",
       "      <th>loan_amnt</th>\n",
       "      <th>funded_amnt</th>\n",
       "      <th>funded_amnt_inv</th>\n",
       "      <th>term</th>\n",
       "      <th>int_rate</th>\n",
       "      <th>installment</th>\n",
       "      <th>grade</th>\n",
       "      <th>sub_grade</th>\n",
       "      <th>emp_title</th>\n",
       "      <th>emp_length</th>\n",
       "      <th>home_ownership</th>\n",
       "      <th>annual_inc</th>\n",
       "      <th>verification_status</th>\n",
       "      <th>issue_d</th>\n",
       "      <th>loan_status</th>\n",
       "      <th>pymnt_plan</th>\n",
       "      <th>url</th>\n",
       "      <th>desc</th>\n",
       "      <th>purpose</th>\n",
       "      <th>title</th>\n",
       "      <th>zip_code</th>\n",
       "      <th>addr_state</th>\n",
       "      <th>dti</th>\n",
       "      <th>delinq_2yrs</th>\n",
       "      <th>earliest_cr_line</th>\n",
       "      <th>inq_last_6mths</th>\n",
       "      <th>mths_since_last_delinq</th>\n",
       "      <th>mths_since_last_record</th>\n",
       "      <th>open_acc</th>\n",
       "      <th>pub_rec</th>\n",
       "      <th>revol_bal</th>\n",
       "      <th>revol_util</th>\n",
       "      <th>total_acc</th>\n",
       "      <th>initial_list_status</th>\n",
       "      <th>out_prncp</th>\n",
       "      <th>out_prncp_inv</th>\n",
       "      <th>total_pymnt</th>\n",
       "      <th>total_pymnt_inv</th>\n",
       "      <th>total_rec_prncp</th>\n",
       "      <th>total_rec_int</th>\n",
       "      <th>total_rec_late_fee</th>\n",
       "      <th>recoveries</th>\n",
       "      <th>collection_recovery_fee</th>\n",
       "      <th>last_pymnt_d</th>\n",
       "      <th>last_pymnt_amnt</th>\n",
       "      <th>next_pymnt_d</th>\n",
       "      <th>last_credit_pull_d</th>\n",
       "      <th>collections_12_mths_ex_med</th>\n",
       "      <th>mths_since_last_major_derog</th>\n",
       "      <th>policy_code</th>\n",
       "      <th>application_type</th>\n",
       "      <th>annual_inc_joint</th>\n",
       "      <th>dti_joint</th>\n",
       "      <th>verification_status_joint</th>\n",
       "      <th>acc_now_delinq</th>\n",
       "      <th>tot_coll_amt</th>\n",
       "      <th>tot_cur_bal</th>\n",
       "      <th>open_acc_6m</th>\n",
       "      <th>open_il_6m</th>\n",
       "      <th>open_il_12m</th>\n",
       "      <th>open_il_24m</th>\n",
       "      <th>mths_since_rcnt_il</th>\n",
       "      <th>total_bal_il</th>\n",
       "      <th>il_util</th>\n",
       "      <th>open_rv_12m</th>\n",
       "      <th>open_rv_24m</th>\n",
       "      <th>max_bal_bc</th>\n",
       "      <th>all_util</th>\n",
       "      <th>total_rev_hi_lim</th>\n",
       "      <th>inq_fi</th>\n",
       "      <th>total_cu_tl</th>\n",
       "      <th>inq_last_12m</th>\n",
       "      <th>acc_open_past_24mths</th>\n",
       "      <th>avg_cur_bal</th>\n",
       "      <th>bc_open_to_buy</th>\n",
       "      <th>bc_util</th>\n",
       "      <th>chargeoff_within_12_mths</th>\n",
       "      <th>delinq_amnt</th>\n",
       "      <th>mo_sin_old_il_acct</th>\n",
       "      <th>mo_sin_old_rev_tl_op</th>\n",
       "      <th>mo_sin_rcnt_rev_tl_op</th>\n",
       "      <th>mo_sin_rcnt_tl</th>\n",
       "      <th>mort_acc</th>\n",
       "      <th>mths_since_recent_bc</th>\n",
       "      <th>mths_since_recent_bc_dlq</th>\n",
       "      <th>mths_since_recent_inq</th>\n",
       "      <th>mths_since_recent_revol_delinq</th>\n",
       "      <th>num_accts_ever_120_pd</th>\n",
       "      <th>num_actv_bc_tl</th>\n",
       "      <th>num_actv_rev_tl</th>\n",
       "      <th>num_bc_sats</th>\n",
       "      <th>num_bc_tl</th>\n",
       "      <th>num_il_tl</th>\n",
       "      <th>num_op_rev_tl</th>\n",
       "      <th>num_rev_accts</th>\n",
       "      <th>num_rev_tl_bal_gt_0</th>\n",
       "      <th>num_sats</th>\n",
       "      <th>num_tl_120dpd_2m</th>\n",
       "      <th>num_tl_30dpd</th>\n",
       "      <th>num_tl_90g_dpd_24m</th>\n",
       "      <th>num_tl_op_past_12m</th>\n",
       "      <th>pct_tl_nvr_dlq</th>\n",
       "      <th>percent_bc_gt_75</th>\n",
       "      <th>pub_rec_bankruptcies</th>\n",
       "      <th>tax_liens</th>\n",
       "      <th>tot_hi_cred_lim</th>\n",
       "      <th>total_bal_ex_mort</th>\n",
       "      <th>total_bc_limit</th>\n",
       "      <th>total_il_high_credit_limit</th>\n",
       "    </tr>\n",
       "  </thead>\n",
       "  <tbody>\n",
       "    <tr>\n",
       "      <th>0</th>\n",
       "      <td>1077501</td>\n",
       "      <td>1296599</td>\n",
       "      <td>5000</td>\n",
       "      <td>5000</td>\n",
       "      <td>4975.0</td>\n",
       "      <td>36 months</td>\n",
       "      <td>10.65%</td>\n",
       "      <td>162.87</td>\n",
       "      <td>B</td>\n",
       "      <td>B2</td>\n",
       "      <td>NaN</td>\n",
       "      <td>10+ years</td>\n",
       "      <td>RENT</td>\n",
       "      <td>24000.0</td>\n",
       "      <td>Verified</td>\n",
       "      <td>Dec-11</td>\n",
       "      <td>Fully Paid</td>\n",
       "      <td>n</td>\n",
       "      <td>https://lendingclub.com/browse/loanDetail.acti...</td>\n",
       "      <td>Borrower added on 12/22/11 &gt; I need to upgra...</td>\n",
       "      <td>credit_card</td>\n",
       "      <td>Computer</td>\n",
       "      <td>860xx</td>\n",
       "      <td>AZ</td>\n",
       "      <td>27.65</td>\n",
       "      <td>0</td>\n",
       "      <td>Jan-85</td>\n",
       "      <td>1</td>\n",
       "      <td>NaN</td>\n",
       "      <td>NaN</td>\n",
       "      <td>3</td>\n",
       "      <td>0</td>\n",
       "      <td>13648</td>\n",
       "      <td>83.70%</td>\n",
       "      <td>9</td>\n",
       "      <td>f</td>\n",
       "      <td>0.00</td>\n",
       "      <td>0.00</td>\n",
       "      <td>5863.155187</td>\n",
       "      <td>5833.84</td>\n",
       "      <td>5000.00</td>\n",
       "      <td>863.16</td>\n",
       "      <td>0.00</td>\n",
       "      <td>0.00</td>\n",
       "      <td>0.00</td>\n",
       "      <td>Jan-15</td>\n",
       "      <td>171.62</td>\n",
       "      <td>NaN</td>\n",
       "      <td>May-16</td>\n",
       "      <td>0.0</td>\n",
       "      <td>NaN</td>\n",
       "      <td>1</td>\n",
       "      <td>INDIVIDUAL</td>\n",
       "      <td>NaN</td>\n",
       "      <td>NaN</td>\n",
       "      <td>NaN</td>\n",
       "      <td>0</td>\n",
       "      <td>NaN</td>\n",
       "      <td>NaN</td>\n",
       "      <td>NaN</td>\n",
       "      <td>NaN</td>\n",
       "      <td>NaN</td>\n",
       "      <td>NaN</td>\n",
       "      <td>NaN</td>\n",
       "      <td>NaN</td>\n",
       "      <td>NaN</td>\n",
       "      <td>NaN</td>\n",
       "      <td>NaN</td>\n",
       "      <td>NaN</td>\n",
       "      <td>NaN</td>\n",
       "      <td>NaN</td>\n",
       "      <td>NaN</td>\n",
       "      <td>NaN</td>\n",
       "      <td>NaN</td>\n",
       "      <td>NaN</td>\n",
       "      <td>NaN</td>\n",
       "      <td>NaN</td>\n",
       "      <td>NaN</td>\n",
       "      <td>0.0</td>\n",
       "      <td>0</td>\n",
       "      <td>NaN</td>\n",
       "      <td>NaN</td>\n",
       "      <td>NaN</td>\n",
       "      <td>NaN</td>\n",
       "      <td>NaN</td>\n",
       "      <td>NaN</td>\n",
       "      <td>NaN</td>\n",
       "      <td>NaN</td>\n",
       "      <td>NaN</td>\n",
       "      <td>NaN</td>\n",
       "      <td>NaN</td>\n",
       "      <td>NaN</td>\n",
       "      <td>NaN</td>\n",
       "      <td>NaN</td>\n",
       "      <td>NaN</td>\n",
       "      <td>NaN</td>\n",
       "      <td>NaN</td>\n",
       "      <td>NaN</td>\n",
       "      <td>NaN</td>\n",
       "      <td>NaN</td>\n",
       "      <td>NaN</td>\n",
       "      <td>NaN</td>\n",
       "      <td>NaN</td>\n",
       "      <td>NaN</td>\n",
       "      <td>NaN</td>\n",
       "      <td>0.0</td>\n",
       "      <td>0.0</td>\n",
       "      <td>NaN</td>\n",
       "      <td>NaN</td>\n",
       "      <td>NaN</td>\n",
       "      <td>NaN</td>\n",
       "    </tr>\n",
       "    <tr>\n",
       "      <th>1</th>\n",
       "      <td>1077430</td>\n",
       "      <td>1314167</td>\n",
       "      <td>2500</td>\n",
       "      <td>2500</td>\n",
       "      <td>2500.0</td>\n",
       "      <td>60 months</td>\n",
       "      <td>15.27%</td>\n",
       "      <td>59.83</td>\n",
       "      <td>C</td>\n",
       "      <td>C4</td>\n",
       "      <td>Ryder</td>\n",
       "      <td>&lt; 1 year</td>\n",
       "      <td>RENT</td>\n",
       "      <td>30000.0</td>\n",
       "      <td>Source Verified</td>\n",
       "      <td>Dec-11</td>\n",
       "      <td>Charged Off</td>\n",
       "      <td>n</td>\n",
       "      <td>https://lendingclub.com/browse/loanDetail.acti...</td>\n",
       "      <td>Borrower added on 12/22/11 &gt; I plan to use t...</td>\n",
       "      <td>car</td>\n",
       "      <td>bike</td>\n",
       "      <td>309xx</td>\n",
       "      <td>GA</td>\n",
       "      <td>1.00</td>\n",
       "      <td>0</td>\n",
       "      <td>Apr-99</td>\n",
       "      <td>5</td>\n",
       "      <td>NaN</td>\n",
       "      <td>NaN</td>\n",
       "      <td>3</td>\n",
       "      <td>0</td>\n",
       "      <td>1687</td>\n",
       "      <td>9.40%</td>\n",
       "      <td>4</td>\n",
       "      <td>f</td>\n",
       "      <td>0.00</td>\n",
       "      <td>0.00</td>\n",
       "      <td>1008.710000</td>\n",
       "      <td>1008.71</td>\n",
       "      <td>456.46</td>\n",
       "      <td>435.17</td>\n",
       "      <td>0.00</td>\n",
       "      <td>117.08</td>\n",
       "      <td>1.11</td>\n",
       "      <td>Apr-13</td>\n",
       "      <td>119.66</td>\n",
       "      <td>NaN</td>\n",
       "      <td>Sep-13</td>\n",
       "      <td>0.0</td>\n",
       "      <td>NaN</td>\n",
       "      <td>1</td>\n",
       "      <td>INDIVIDUAL</td>\n",
       "      <td>NaN</td>\n",
       "      <td>NaN</td>\n",
       "      <td>NaN</td>\n",
       "      <td>0</td>\n",
       "      <td>NaN</td>\n",
       "      <td>NaN</td>\n",
       "      <td>NaN</td>\n",
       "      <td>NaN</td>\n",
       "      <td>NaN</td>\n",
       "      <td>NaN</td>\n",
       "      <td>NaN</td>\n",
       "      <td>NaN</td>\n",
       "      <td>NaN</td>\n",
       "      <td>NaN</td>\n",
       "      <td>NaN</td>\n",
       "      <td>NaN</td>\n",
       "      <td>NaN</td>\n",
       "      <td>NaN</td>\n",
       "      <td>NaN</td>\n",
       "      <td>NaN</td>\n",
       "      <td>NaN</td>\n",
       "      <td>NaN</td>\n",
       "      <td>NaN</td>\n",
       "      <td>NaN</td>\n",
       "      <td>NaN</td>\n",
       "      <td>0.0</td>\n",
       "      <td>0</td>\n",
       "      <td>NaN</td>\n",
       "      <td>NaN</td>\n",
       "      <td>NaN</td>\n",
       "      <td>NaN</td>\n",
       "      <td>NaN</td>\n",
       "      <td>NaN</td>\n",
       "      <td>NaN</td>\n",
       "      <td>NaN</td>\n",
       "      <td>NaN</td>\n",
       "      <td>NaN</td>\n",
       "      <td>NaN</td>\n",
       "      <td>NaN</td>\n",
       "      <td>NaN</td>\n",
       "      <td>NaN</td>\n",
       "      <td>NaN</td>\n",
       "      <td>NaN</td>\n",
       "      <td>NaN</td>\n",
       "      <td>NaN</td>\n",
       "      <td>NaN</td>\n",
       "      <td>NaN</td>\n",
       "      <td>NaN</td>\n",
       "      <td>NaN</td>\n",
       "      <td>NaN</td>\n",
       "      <td>NaN</td>\n",
       "      <td>NaN</td>\n",
       "      <td>0.0</td>\n",
       "      <td>0.0</td>\n",
       "      <td>NaN</td>\n",
       "      <td>NaN</td>\n",
       "      <td>NaN</td>\n",
       "      <td>NaN</td>\n",
       "    </tr>\n",
       "    <tr>\n",
       "      <th>2</th>\n",
       "      <td>1077175</td>\n",
       "      <td>1313524</td>\n",
       "      <td>2400</td>\n",
       "      <td>2400</td>\n",
       "      <td>2400.0</td>\n",
       "      <td>36 months</td>\n",
       "      <td>15.96%</td>\n",
       "      <td>84.33</td>\n",
       "      <td>C</td>\n",
       "      <td>C5</td>\n",
       "      <td>NaN</td>\n",
       "      <td>10+ years</td>\n",
       "      <td>RENT</td>\n",
       "      <td>12252.0</td>\n",
       "      <td>Not Verified</td>\n",
       "      <td>Dec-11</td>\n",
       "      <td>Fully Paid</td>\n",
       "      <td>n</td>\n",
       "      <td>https://lendingclub.com/browse/loanDetail.acti...</td>\n",
       "      <td>NaN</td>\n",
       "      <td>small_business</td>\n",
       "      <td>real estate business</td>\n",
       "      <td>606xx</td>\n",
       "      <td>IL</td>\n",
       "      <td>8.72</td>\n",
       "      <td>0</td>\n",
       "      <td>Nov-01</td>\n",
       "      <td>2</td>\n",
       "      <td>NaN</td>\n",
       "      <td>NaN</td>\n",
       "      <td>2</td>\n",
       "      <td>0</td>\n",
       "      <td>2956</td>\n",
       "      <td>98.50%</td>\n",
       "      <td>10</td>\n",
       "      <td>f</td>\n",
       "      <td>0.00</td>\n",
       "      <td>0.00</td>\n",
       "      <td>3005.666844</td>\n",
       "      <td>3005.67</td>\n",
       "      <td>2400.00</td>\n",
       "      <td>605.67</td>\n",
       "      <td>0.00</td>\n",
       "      <td>0.00</td>\n",
       "      <td>0.00</td>\n",
       "      <td>Jun-14</td>\n",
       "      <td>649.91</td>\n",
       "      <td>NaN</td>\n",
       "      <td>May-16</td>\n",
       "      <td>0.0</td>\n",
       "      <td>NaN</td>\n",
       "      <td>1</td>\n",
       "      <td>INDIVIDUAL</td>\n",
       "      <td>NaN</td>\n",
       "      <td>NaN</td>\n",
       "      <td>NaN</td>\n",
       "      <td>0</td>\n",
       "      <td>NaN</td>\n",
       "      <td>NaN</td>\n",
       "      <td>NaN</td>\n",
       "      <td>NaN</td>\n",
       "      <td>NaN</td>\n",
       "      <td>NaN</td>\n",
       "      <td>NaN</td>\n",
       "      <td>NaN</td>\n",
       "      <td>NaN</td>\n",
       "      <td>NaN</td>\n",
       "      <td>NaN</td>\n",
       "      <td>NaN</td>\n",
       "      <td>NaN</td>\n",
       "      <td>NaN</td>\n",
       "      <td>NaN</td>\n",
       "      <td>NaN</td>\n",
       "      <td>NaN</td>\n",
       "      <td>NaN</td>\n",
       "      <td>NaN</td>\n",
       "      <td>NaN</td>\n",
       "      <td>NaN</td>\n",
       "      <td>0.0</td>\n",
       "      <td>0</td>\n",
       "      <td>NaN</td>\n",
       "      <td>NaN</td>\n",
       "      <td>NaN</td>\n",
       "      <td>NaN</td>\n",
       "      <td>NaN</td>\n",
       "      <td>NaN</td>\n",
       "      <td>NaN</td>\n",
       "      <td>NaN</td>\n",
       "      <td>NaN</td>\n",
       "      <td>NaN</td>\n",
       "      <td>NaN</td>\n",
       "      <td>NaN</td>\n",
       "      <td>NaN</td>\n",
       "      <td>NaN</td>\n",
       "      <td>NaN</td>\n",
       "      <td>NaN</td>\n",
       "      <td>NaN</td>\n",
       "      <td>NaN</td>\n",
       "      <td>NaN</td>\n",
       "      <td>NaN</td>\n",
       "      <td>NaN</td>\n",
       "      <td>NaN</td>\n",
       "      <td>NaN</td>\n",
       "      <td>NaN</td>\n",
       "      <td>NaN</td>\n",
       "      <td>0.0</td>\n",
       "      <td>0.0</td>\n",
       "      <td>NaN</td>\n",
       "      <td>NaN</td>\n",
       "      <td>NaN</td>\n",
       "      <td>NaN</td>\n",
       "    </tr>\n",
       "    <tr>\n",
       "      <th>3</th>\n",
       "      <td>1076863</td>\n",
       "      <td>1277178</td>\n",
       "      <td>10000</td>\n",
       "      <td>10000</td>\n",
       "      <td>10000.0</td>\n",
       "      <td>36 months</td>\n",
       "      <td>13.49%</td>\n",
       "      <td>339.31</td>\n",
       "      <td>C</td>\n",
       "      <td>C1</td>\n",
       "      <td>AIR RESOURCES BOARD</td>\n",
       "      <td>10+ years</td>\n",
       "      <td>RENT</td>\n",
       "      <td>49200.0</td>\n",
       "      <td>Source Verified</td>\n",
       "      <td>Dec-11</td>\n",
       "      <td>Fully Paid</td>\n",
       "      <td>n</td>\n",
       "      <td>https://lendingclub.com/browse/loanDetail.acti...</td>\n",
       "      <td>Borrower added on 12/21/11 &gt; to pay for prop...</td>\n",
       "      <td>other</td>\n",
       "      <td>personel</td>\n",
       "      <td>917xx</td>\n",
       "      <td>CA</td>\n",
       "      <td>20.00</td>\n",
       "      <td>0</td>\n",
       "      <td>Feb-96</td>\n",
       "      <td>1</td>\n",
       "      <td>35.0</td>\n",
       "      <td>NaN</td>\n",
       "      <td>10</td>\n",
       "      <td>0</td>\n",
       "      <td>5598</td>\n",
       "      <td>21%</td>\n",
       "      <td>37</td>\n",
       "      <td>f</td>\n",
       "      <td>0.00</td>\n",
       "      <td>0.00</td>\n",
       "      <td>12231.890000</td>\n",
       "      <td>12231.89</td>\n",
       "      <td>10000.00</td>\n",
       "      <td>2214.92</td>\n",
       "      <td>16.97</td>\n",
       "      <td>0.00</td>\n",
       "      <td>0.00</td>\n",
       "      <td>Jan-15</td>\n",
       "      <td>357.48</td>\n",
       "      <td>NaN</td>\n",
       "      <td>Apr-16</td>\n",
       "      <td>0.0</td>\n",
       "      <td>NaN</td>\n",
       "      <td>1</td>\n",
       "      <td>INDIVIDUAL</td>\n",
       "      <td>NaN</td>\n",
       "      <td>NaN</td>\n",
       "      <td>NaN</td>\n",
       "      <td>0</td>\n",
       "      <td>NaN</td>\n",
       "      <td>NaN</td>\n",
       "      <td>NaN</td>\n",
       "      <td>NaN</td>\n",
       "      <td>NaN</td>\n",
       "      <td>NaN</td>\n",
       "      <td>NaN</td>\n",
       "      <td>NaN</td>\n",
       "      <td>NaN</td>\n",
       "      <td>NaN</td>\n",
       "      <td>NaN</td>\n",
       "      <td>NaN</td>\n",
       "      <td>NaN</td>\n",
       "      <td>NaN</td>\n",
       "      <td>NaN</td>\n",
       "      <td>NaN</td>\n",
       "      <td>NaN</td>\n",
       "      <td>NaN</td>\n",
       "      <td>NaN</td>\n",
       "      <td>NaN</td>\n",
       "      <td>NaN</td>\n",
       "      <td>0.0</td>\n",
       "      <td>0</td>\n",
       "      <td>NaN</td>\n",
       "      <td>NaN</td>\n",
       "      <td>NaN</td>\n",
       "      <td>NaN</td>\n",
       "      <td>NaN</td>\n",
       "      <td>NaN</td>\n",
       "      <td>NaN</td>\n",
       "      <td>NaN</td>\n",
       "      <td>NaN</td>\n",
       "      <td>NaN</td>\n",
       "      <td>NaN</td>\n",
       "      <td>NaN</td>\n",
       "      <td>NaN</td>\n",
       "      <td>NaN</td>\n",
       "      <td>NaN</td>\n",
       "      <td>NaN</td>\n",
       "      <td>NaN</td>\n",
       "      <td>NaN</td>\n",
       "      <td>NaN</td>\n",
       "      <td>NaN</td>\n",
       "      <td>NaN</td>\n",
       "      <td>NaN</td>\n",
       "      <td>NaN</td>\n",
       "      <td>NaN</td>\n",
       "      <td>NaN</td>\n",
       "      <td>0.0</td>\n",
       "      <td>0.0</td>\n",
       "      <td>NaN</td>\n",
       "      <td>NaN</td>\n",
       "      <td>NaN</td>\n",
       "      <td>NaN</td>\n",
       "    </tr>\n",
       "    <tr>\n",
       "      <th>4</th>\n",
       "      <td>1075358</td>\n",
       "      <td>1311748</td>\n",
       "      <td>3000</td>\n",
       "      <td>3000</td>\n",
       "      <td>3000.0</td>\n",
       "      <td>60 months</td>\n",
       "      <td>12.69%</td>\n",
       "      <td>67.79</td>\n",
       "      <td>B</td>\n",
       "      <td>B5</td>\n",
       "      <td>University Medical Group</td>\n",
       "      <td>1 year</td>\n",
       "      <td>RENT</td>\n",
       "      <td>80000.0</td>\n",
       "      <td>Source Verified</td>\n",
       "      <td>Dec-11</td>\n",
       "      <td>Current</td>\n",
       "      <td>n</td>\n",
       "      <td>https://lendingclub.com/browse/loanDetail.acti...</td>\n",
       "      <td>Borrower added on 12/21/11 &gt; I plan on combi...</td>\n",
       "      <td>other</td>\n",
       "      <td>Personal</td>\n",
       "      <td>972xx</td>\n",
       "      <td>OR</td>\n",
       "      <td>17.94</td>\n",
       "      <td>0</td>\n",
       "      <td>Jan-96</td>\n",
       "      <td>0</td>\n",
       "      <td>38.0</td>\n",
       "      <td>NaN</td>\n",
       "      <td>15</td>\n",
       "      <td>0</td>\n",
       "      <td>27783</td>\n",
       "      <td>53.90%</td>\n",
       "      <td>38</td>\n",
       "      <td>f</td>\n",
       "      <td>524.06</td>\n",
       "      <td>524.06</td>\n",
       "      <td>3513.330000</td>\n",
       "      <td>3513.33</td>\n",
       "      <td>2475.94</td>\n",
       "      <td>1037.39</td>\n",
       "      <td>0.00</td>\n",
       "      <td>0.00</td>\n",
       "      <td>0.00</td>\n",
       "      <td>May-16</td>\n",
       "      <td>67.79</td>\n",
       "      <td>Jun-16</td>\n",
       "      <td>May-16</td>\n",
       "      <td>0.0</td>\n",
       "      <td>NaN</td>\n",
       "      <td>1</td>\n",
       "      <td>INDIVIDUAL</td>\n",
       "      <td>NaN</td>\n",
       "      <td>NaN</td>\n",
       "      <td>NaN</td>\n",
       "      <td>0</td>\n",
       "      <td>NaN</td>\n",
       "      <td>NaN</td>\n",
       "      <td>NaN</td>\n",
       "      <td>NaN</td>\n",
       "      <td>NaN</td>\n",
       "      <td>NaN</td>\n",
       "      <td>NaN</td>\n",
       "      <td>NaN</td>\n",
       "      <td>NaN</td>\n",
       "      <td>NaN</td>\n",
       "      <td>NaN</td>\n",
       "      <td>NaN</td>\n",
       "      <td>NaN</td>\n",
       "      <td>NaN</td>\n",
       "      <td>NaN</td>\n",
       "      <td>NaN</td>\n",
       "      <td>NaN</td>\n",
       "      <td>NaN</td>\n",
       "      <td>NaN</td>\n",
       "      <td>NaN</td>\n",
       "      <td>NaN</td>\n",
       "      <td>0.0</td>\n",
       "      <td>0</td>\n",
       "      <td>NaN</td>\n",
       "      <td>NaN</td>\n",
       "      <td>NaN</td>\n",
       "      <td>NaN</td>\n",
       "      <td>NaN</td>\n",
       "      <td>NaN</td>\n",
       "      <td>NaN</td>\n",
       "      <td>NaN</td>\n",
       "      <td>NaN</td>\n",
       "      <td>NaN</td>\n",
       "      <td>NaN</td>\n",
       "      <td>NaN</td>\n",
       "      <td>NaN</td>\n",
       "      <td>NaN</td>\n",
       "      <td>NaN</td>\n",
       "      <td>NaN</td>\n",
       "      <td>NaN</td>\n",
       "      <td>NaN</td>\n",
       "      <td>NaN</td>\n",
       "      <td>NaN</td>\n",
       "      <td>NaN</td>\n",
       "      <td>NaN</td>\n",
       "      <td>NaN</td>\n",
       "      <td>NaN</td>\n",
       "      <td>NaN</td>\n",
       "      <td>0.0</td>\n",
       "      <td>0.0</td>\n",
       "      <td>NaN</td>\n",
       "      <td>NaN</td>\n",
       "      <td>NaN</td>\n",
       "      <td>NaN</td>\n",
       "    </tr>\n",
       "  </tbody>\n",
       "</table>\n",
       "</div>"
      ],
      "text/plain": [
       "        id  member_id  loan_amnt  funded_amnt  funded_amnt_inv        term  \\\n",
       "0  1077501    1296599       5000         5000           4975.0   36 months   \n",
       "1  1077430    1314167       2500         2500           2500.0   60 months   \n",
       "2  1077175    1313524       2400         2400           2400.0   36 months   \n",
       "3  1076863    1277178      10000        10000          10000.0   36 months   \n",
       "4  1075358    1311748       3000         3000           3000.0   60 months   \n",
       "\n",
       "  int_rate  installment grade sub_grade                 emp_title emp_length  \\\n",
       "0   10.65%       162.87     B        B2                       NaN  10+ years   \n",
       "1   15.27%        59.83     C        C4                     Ryder   < 1 year   \n",
       "2   15.96%        84.33     C        C5                       NaN  10+ years   \n",
       "3   13.49%       339.31     C        C1       AIR RESOURCES BOARD  10+ years   \n",
       "4   12.69%        67.79     B        B5  University Medical Group     1 year   \n",
       "\n",
       "  home_ownership  annual_inc verification_status issue_d  loan_status  \\\n",
       "0           RENT     24000.0            Verified  Dec-11   Fully Paid   \n",
       "1           RENT     30000.0     Source Verified  Dec-11  Charged Off   \n",
       "2           RENT     12252.0        Not Verified  Dec-11   Fully Paid   \n",
       "3           RENT     49200.0     Source Verified  Dec-11   Fully Paid   \n",
       "4           RENT     80000.0     Source Verified  Dec-11      Current   \n",
       "\n",
       "  pymnt_plan                                                url  \\\n",
       "0          n  https://lendingclub.com/browse/loanDetail.acti...   \n",
       "1          n  https://lendingclub.com/browse/loanDetail.acti...   \n",
       "2          n  https://lendingclub.com/browse/loanDetail.acti...   \n",
       "3          n  https://lendingclub.com/browse/loanDetail.acti...   \n",
       "4          n  https://lendingclub.com/browse/loanDetail.acti...   \n",
       "\n",
       "                                                desc         purpose  \\\n",
       "0    Borrower added on 12/22/11 > I need to upgra...     credit_card   \n",
       "1    Borrower added on 12/22/11 > I plan to use t...             car   \n",
       "2                                                NaN  small_business   \n",
       "3    Borrower added on 12/21/11 > to pay for prop...           other   \n",
       "4    Borrower added on 12/21/11 > I plan on combi...           other   \n",
       "\n",
       "                  title zip_code addr_state    dti  delinq_2yrs  \\\n",
       "0              Computer    860xx         AZ  27.65            0   \n",
       "1                  bike    309xx         GA   1.00            0   \n",
       "2  real estate business    606xx         IL   8.72            0   \n",
       "3              personel    917xx         CA  20.00            0   \n",
       "4              Personal    972xx         OR  17.94            0   \n",
       "\n",
       "  earliest_cr_line  inq_last_6mths  mths_since_last_delinq  \\\n",
       "0           Jan-85               1                     NaN   \n",
       "1           Apr-99               5                     NaN   \n",
       "2           Nov-01               2                     NaN   \n",
       "3           Feb-96               1                    35.0   \n",
       "4           Jan-96               0                    38.0   \n",
       "\n",
       "   mths_since_last_record  open_acc  pub_rec  revol_bal revol_util  total_acc  \\\n",
       "0                     NaN         3        0      13648     83.70%          9   \n",
       "1                     NaN         3        0       1687      9.40%          4   \n",
       "2                     NaN         2        0       2956     98.50%         10   \n",
       "3                     NaN        10        0       5598        21%         37   \n",
       "4                     NaN        15        0      27783     53.90%         38   \n",
       "\n",
       "  initial_list_status  out_prncp  out_prncp_inv   total_pymnt  \\\n",
       "0                   f       0.00           0.00   5863.155187   \n",
       "1                   f       0.00           0.00   1008.710000   \n",
       "2                   f       0.00           0.00   3005.666844   \n",
       "3                   f       0.00           0.00  12231.890000   \n",
       "4                   f     524.06         524.06   3513.330000   \n",
       "\n",
       "   total_pymnt_inv  total_rec_prncp  total_rec_int  total_rec_late_fee  \\\n",
       "0          5833.84          5000.00         863.16                0.00   \n",
       "1          1008.71           456.46         435.17                0.00   \n",
       "2          3005.67          2400.00         605.67                0.00   \n",
       "3         12231.89         10000.00        2214.92               16.97   \n",
       "4          3513.33          2475.94        1037.39                0.00   \n",
       "\n",
       "   recoveries  collection_recovery_fee last_pymnt_d  last_pymnt_amnt  \\\n",
       "0        0.00                     0.00       Jan-15           171.62   \n",
       "1      117.08                     1.11       Apr-13           119.66   \n",
       "2        0.00                     0.00       Jun-14           649.91   \n",
       "3        0.00                     0.00       Jan-15           357.48   \n",
       "4        0.00                     0.00       May-16            67.79   \n",
       "\n",
       "  next_pymnt_d last_credit_pull_d  collections_12_mths_ex_med  \\\n",
       "0          NaN             May-16                         0.0   \n",
       "1          NaN             Sep-13                         0.0   \n",
       "2          NaN             May-16                         0.0   \n",
       "3          NaN             Apr-16                         0.0   \n",
       "4       Jun-16             May-16                         0.0   \n",
       "\n",
       "   mths_since_last_major_derog  policy_code application_type  \\\n",
       "0                          NaN            1       INDIVIDUAL   \n",
       "1                          NaN            1       INDIVIDUAL   \n",
       "2                          NaN            1       INDIVIDUAL   \n",
       "3                          NaN            1       INDIVIDUAL   \n",
       "4                          NaN            1       INDIVIDUAL   \n",
       "\n",
       "   annual_inc_joint  dti_joint  verification_status_joint  acc_now_delinq  \\\n",
       "0               NaN        NaN                        NaN               0   \n",
       "1               NaN        NaN                        NaN               0   \n",
       "2               NaN        NaN                        NaN               0   \n",
       "3               NaN        NaN                        NaN               0   \n",
       "4               NaN        NaN                        NaN               0   \n",
       "\n",
       "   tot_coll_amt  tot_cur_bal  open_acc_6m  open_il_6m  open_il_12m  \\\n",
       "0           NaN          NaN          NaN         NaN          NaN   \n",
       "1           NaN          NaN          NaN         NaN          NaN   \n",
       "2           NaN          NaN          NaN         NaN          NaN   \n",
       "3           NaN          NaN          NaN         NaN          NaN   \n",
       "4           NaN          NaN          NaN         NaN          NaN   \n",
       "\n",
       "   open_il_24m  mths_since_rcnt_il  total_bal_il  il_util  open_rv_12m  \\\n",
       "0          NaN                 NaN           NaN      NaN          NaN   \n",
       "1          NaN                 NaN           NaN      NaN          NaN   \n",
       "2          NaN                 NaN           NaN      NaN          NaN   \n",
       "3          NaN                 NaN           NaN      NaN          NaN   \n",
       "4          NaN                 NaN           NaN      NaN          NaN   \n",
       "\n",
       "   open_rv_24m  max_bal_bc  all_util  total_rev_hi_lim  inq_fi  total_cu_tl  \\\n",
       "0          NaN         NaN       NaN               NaN     NaN          NaN   \n",
       "1          NaN         NaN       NaN               NaN     NaN          NaN   \n",
       "2          NaN         NaN       NaN               NaN     NaN          NaN   \n",
       "3          NaN         NaN       NaN               NaN     NaN          NaN   \n",
       "4          NaN         NaN       NaN               NaN     NaN          NaN   \n",
       "\n",
       "   inq_last_12m  acc_open_past_24mths  avg_cur_bal  bc_open_to_buy  bc_util  \\\n",
       "0           NaN                   NaN          NaN             NaN      NaN   \n",
       "1           NaN                   NaN          NaN             NaN      NaN   \n",
       "2           NaN                   NaN          NaN             NaN      NaN   \n",
       "3           NaN                   NaN          NaN             NaN      NaN   \n",
       "4           NaN                   NaN          NaN             NaN      NaN   \n",
       "\n",
       "   chargeoff_within_12_mths  delinq_amnt  mo_sin_old_il_acct  \\\n",
       "0                       0.0            0                 NaN   \n",
       "1                       0.0            0                 NaN   \n",
       "2                       0.0            0                 NaN   \n",
       "3                       0.0            0                 NaN   \n",
       "4                       0.0            0                 NaN   \n",
       "\n",
       "   mo_sin_old_rev_tl_op  mo_sin_rcnt_rev_tl_op  mo_sin_rcnt_tl  mort_acc  \\\n",
       "0                   NaN                    NaN             NaN       NaN   \n",
       "1                   NaN                    NaN             NaN       NaN   \n",
       "2                   NaN                    NaN             NaN       NaN   \n",
       "3                   NaN                    NaN             NaN       NaN   \n",
       "4                   NaN                    NaN             NaN       NaN   \n",
       "\n",
       "   mths_since_recent_bc  mths_since_recent_bc_dlq  mths_since_recent_inq  \\\n",
       "0                   NaN                       NaN                    NaN   \n",
       "1                   NaN                       NaN                    NaN   \n",
       "2                   NaN                       NaN                    NaN   \n",
       "3                   NaN                       NaN                    NaN   \n",
       "4                   NaN                       NaN                    NaN   \n",
       "\n",
       "   mths_since_recent_revol_delinq  num_accts_ever_120_pd  num_actv_bc_tl  \\\n",
       "0                             NaN                    NaN             NaN   \n",
       "1                             NaN                    NaN             NaN   \n",
       "2                             NaN                    NaN             NaN   \n",
       "3                             NaN                    NaN             NaN   \n",
       "4                             NaN                    NaN             NaN   \n",
       "\n",
       "   num_actv_rev_tl  num_bc_sats  num_bc_tl  num_il_tl  num_op_rev_tl  \\\n",
       "0              NaN          NaN        NaN        NaN            NaN   \n",
       "1              NaN          NaN        NaN        NaN            NaN   \n",
       "2              NaN          NaN        NaN        NaN            NaN   \n",
       "3              NaN          NaN        NaN        NaN            NaN   \n",
       "4              NaN          NaN        NaN        NaN            NaN   \n",
       "\n",
       "   num_rev_accts  num_rev_tl_bal_gt_0  num_sats  num_tl_120dpd_2m  \\\n",
       "0            NaN                  NaN       NaN               NaN   \n",
       "1            NaN                  NaN       NaN               NaN   \n",
       "2            NaN                  NaN       NaN               NaN   \n",
       "3            NaN                  NaN       NaN               NaN   \n",
       "4            NaN                  NaN       NaN               NaN   \n",
       "\n",
       "   num_tl_30dpd  num_tl_90g_dpd_24m  num_tl_op_past_12m  pct_tl_nvr_dlq  \\\n",
       "0           NaN                 NaN                 NaN             NaN   \n",
       "1           NaN                 NaN                 NaN             NaN   \n",
       "2           NaN                 NaN                 NaN             NaN   \n",
       "3           NaN                 NaN                 NaN             NaN   \n",
       "4           NaN                 NaN                 NaN             NaN   \n",
       "\n",
       "   percent_bc_gt_75  pub_rec_bankruptcies  tax_liens  tot_hi_cred_lim  \\\n",
       "0               NaN                   0.0        0.0              NaN   \n",
       "1               NaN                   0.0        0.0              NaN   \n",
       "2               NaN                   0.0        0.0              NaN   \n",
       "3               NaN                   0.0        0.0              NaN   \n",
       "4               NaN                   0.0        0.0              NaN   \n",
       "\n",
       "   total_bal_ex_mort  total_bc_limit  total_il_high_credit_limit  \n",
       "0                NaN             NaN                         NaN  \n",
       "1                NaN             NaN                         NaN  \n",
       "2                NaN             NaN                         NaN  \n",
       "3                NaN             NaN                         NaN  \n",
       "4                NaN             NaN                         NaN  "
      ]
     },
     "execution_count": 3,
     "metadata": {},
     "output_type": "execute_result"
    }
   ],
   "source": [
    "# Looking at the top 5 rows to understand data\n",
    "pd.set_option('display.max_columns', None)\n",
    "loan_df.head()"
   ]
  },
  {
   "cell_type": "code",
   "execution_count": 4,
   "metadata": {},
   "outputs": [
    {
     "data": {
      "text/plain": [
       "(39717, 111)"
      ]
     },
     "execution_count": 4,
     "metadata": {},
     "output_type": "execute_result"
    }
   ],
   "source": [
    "loan_df.shape"
   ]
  },
  {
   "cell_type": "markdown",
   "metadata": {},
   "source": [
    "## Data Cleaning"
   ]
  },
  {
   "cell_type": "markdown",
   "metadata": {},
   "source": [
    "##### This dataset contains 39717 rows and 111 columns. Out of these 111 columns, many columns have null values in majority. "
   ]
  },
  {
   "cell_type": "code",
   "execution_count": 5,
   "metadata": {},
   "outputs": [
    {
     "data": {
      "text/plain": [
       "0.5133989643393677"
      ]
     },
     "execution_count": 5,
     "metadata": {},
     "output_type": "execute_result"
    }
   ],
   "source": [
    "# Total percentage of null values in the data\n",
    "(loan_df.isnull().sum().sum())/(loan_df.shape[0]*loan_df.shape[1])"
   ]
  },
  {
   "cell_type": "markdown",
   "metadata": {},
   "source": [
    "### Handling null values\n",
    "#####  51.33% of the values in the overall data are null values. So, it becomes necessary to deal with these null values with utmost care as they can significantly affect our results."
   ]
  },
  {
   "cell_type": "code",
   "execution_count": 6,
   "metadata": {},
   "outputs": [
    {
     "data": {
      "text/html": [
       "<div>\n",
       "<style scoped>\n",
       "    .dataframe tbody tr th:only-of-type {\n",
       "        vertical-align: middle;\n",
       "    }\n",
       "\n",
       "    .dataframe tbody tr th {\n",
       "        vertical-align: top;\n",
       "    }\n",
       "\n",
       "    .dataframe thead th {\n",
       "        text-align: right;\n",
       "    }\n",
       "</style>\n",
       "<table border=\"1\" class=\"dataframe\">\n",
       "  <thead>\n",
       "    <tr style=\"text-align: right;\">\n",
       "      <th></th>\n",
       "      <th>Percentage of null values</th>\n",
       "      <th>No.of columns</th>\n",
       "    </tr>\n",
       "  </thead>\n",
       "  <tbody>\n",
       "    <tr>\n",
       "      <th>0</th>\n",
       "      <td>30% or less</td>\n",
       "      <td>53</td>\n",
       "    </tr>\n",
       "    <tr>\n",
       "      <th>1</th>\n",
       "      <td>40% or less</td>\n",
       "      <td>54</td>\n",
       "    </tr>\n",
       "    <tr>\n",
       "      <th>2</th>\n",
       "      <td>50% or less</td>\n",
       "      <td>54</td>\n",
       "    </tr>\n",
       "    <tr>\n",
       "      <th>3</th>\n",
       "      <td>60% or less</td>\n",
       "      <td>54</td>\n",
       "    </tr>\n",
       "    <tr>\n",
       "      <th>4</th>\n",
       "      <td>70% or less</td>\n",
       "      <td>55</td>\n",
       "    </tr>\n",
       "  </tbody>\n",
       "</table>\n",
       "</div>"
      ],
      "text/plain": [
       "  Percentage of null values  No.of columns\n",
       "0               30% or less             53\n",
       "1               40% or less             54\n",
       "2               50% or less             54\n",
       "3               60% or less             54\n",
       "4               70% or less             55"
      ]
     },
     "execution_count": 6,
     "metadata": {},
     "output_type": "execute_result"
    }
   ],
   "source": [
    "# Creating a dataframe to display percentage of null values in each column\n",
    "percent_null_values = pd.DataFrame()\n",
    "percent_null_values['Percentage of null values']=['30% or less','40% or less','50% or less','60% or less','70% or less']\n",
    "\n",
    "thirty_percent = len(loan_df.columns[((loan_df.isnull().sum())/len(loan_df)) < 0.3])\n",
    "fourty_percent = len(loan_df.columns[((loan_df.isnull().sum())/len(loan_df)) < 0.4])\n",
    "fifty_percent = len(loan_df.columns[((loan_df.isnull().sum())/len(loan_df)) < 0.5])\n",
    "sixty_percent = len(loan_df.columns[((loan_df.isnull().sum())/len(loan_df)) < 0.6])\n",
    "seventy_percent = len(loan_df.columns[((loan_df.isnull().sum())/len(loan_df)) < 0.7])\n",
    "\n",
    "\n",
    "percent_null_values['No.of columns'] = [thirty_percent,fourty_percent,fifty_percent,sixty_percent,seventy_percent]\n",
    "percent_null_values"
   ]
  },
  {
   "cell_type": "markdown",
   "metadata": {},
   "source": [
    "##### We can decrease the total number of columns from 111 to 53 by considering only those columns which has null values less than 30%."
   ]
  },
  {
   "cell_type": "code",
   "execution_count": 7,
   "metadata": {},
   "outputs": [
    {
     "data": {
      "text/plain": [
       "(39717, 53)"
      ]
     },
     "execution_count": 7,
     "metadata": {},
     "output_type": "execute_result"
    }
   ],
   "source": [
    "# Considering only those columns which have null values less than 30% in that particular column\n",
    "df = loan_df[loan_df.columns[((loan_df.isnull().sum())/len(loan_df)) < 0.3]]\n",
    "df.shape"
   ]
  },
  {
   "cell_type": "code",
   "execution_count": 8,
   "metadata": {},
   "outputs": [
    {
     "data": {
      "text/html": [
       "<div>\n",
       "<style scoped>\n",
       "    .dataframe tbody tr th:only-of-type {\n",
       "        vertical-align: middle;\n",
       "    }\n",
       "\n",
       "    .dataframe tbody tr th {\n",
       "        vertical-align: top;\n",
       "    }\n",
       "\n",
       "    .dataframe thead th {\n",
       "        text-align: right;\n",
       "    }\n",
       "</style>\n",
       "<table border=\"1\" class=\"dataframe\">\n",
       "  <thead>\n",
       "    <tr style=\"text-align: right;\">\n",
       "      <th></th>\n",
       "      <th>id</th>\n",
       "      <th>member_id</th>\n",
       "      <th>loan_amnt</th>\n",
       "      <th>funded_amnt</th>\n",
       "      <th>funded_amnt_inv</th>\n",
       "      <th>term</th>\n",
       "      <th>int_rate</th>\n",
       "      <th>installment</th>\n",
       "      <th>grade</th>\n",
       "      <th>sub_grade</th>\n",
       "      <th>emp_title</th>\n",
       "      <th>emp_length</th>\n",
       "      <th>home_ownership</th>\n",
       "      <th>annual_inc</th>\n",
       "      <th>verification_status</th>\n",
       "      <th>issue_d</th>\n",
       "      <th>loan_status</th>\n",
       "      <th>pymnt_plan</th>\n",
       "      <th>url</th>\n",
       "      <th>purpose</th>\n",
       "      <th>title</th>\n",
       "      <th>zip_code</th>\n",
       "      <th>addr_state</th>\n",
       "      <th>dti</th>\n",
       "      <th>delinq_2yrs</th>\n",
       "      <th>earliest_cr_line</th>\n",
       "      <th>inq_last_6mths</th>\n",
       "      <th>open_acc</th>\n",
       "      <th>pub_rec</th>\n",
       "      <th>revol_bal</th>\n",
       "      <th>revol_util</th>\n",
       "      <th>total_acc</th>\n",
       "      <th>initial_list_status</th>\n",
       "      <th>out_prncp</th>\n",
       "      <th>out_prncp_inv</th>\n",
       "      <th>total_pymnt</th>\n",
       "      <th>total_pymnt_inv</th>\n",
       "      <th>total_rec_prncp</th>\n",
       "      <th>total_rec_int</th>\n",
       "      <th>total_rec_late_fee</th>\n",
       "      <th>recoveries</th>\n",
       "      <th>collection_recovery_fee</th>\n",
       "      <th>last_pymnt_d</th>\n",
       "      <th>last_pymnt_amnt</th>\n",
       "      <th>last_credit_pull_d</th>\n",
       "      <th>collections_12_mths_ex_med</th>\n",
       "      <th>policy_code</th>\n",
       "      <th>application_type</th>\n",
       "      <th>acc_now_delinq</th>\n",
       "      <th>chargeoff_within_12_mths</th>\n",
       "      <th>delinq_amnt</th>\n",
       "      <th>pub_rec_bankruptcies</th>\n",
       "      <th>tax_liens</th>\n",
       "    </tr>\n",
       "  </thead>\n",
       "  <tbody>\n",
       "    <tr>\n",
       "      <th>0</th>\n",
       "      <td>1077501</td>\n",
       "      <td>1296599</td>\n",
       "      <td>5000</td>\n",
       "      <td>5000</td>\n",
       "      <td>4975.0</td>\n",
       "      <td>36 months</td>\n",
       "      <td>10.65%</td>\n",
       "      <td>162.87</td>\n",
       "      <td>B</td>\n",
       "      <td>B2</td>\n",
       "      <td>NaN</td>\n",
       "      <td>10+ years</td>\n",
       "      <td>RENT</td>\n",
       "      <td>24000.0</td>\n",
       "      <td>Verified</td>\n",
       "      <td>Dec-11</td>\n",
       "      <td>Fully Paid</td>\n",
       "      <td>n</td>\n",
       "      <td>https://lendingclub.com/browse/loanDetail.acti...</td>\n",
       "      <td>credit_card</td>\n",
       "      <td>Computer</td>\n",
       "      <td>860xx</td>\n",
       "      <td>AZ</td>\n",
       "      <td>27.65</td>\n",
       "      <td>0</td>\n",
       "      <td>Jan-85</td>\n",
       "      <td>1</td>\n",
       "      <td>3</td>\n",
       "      <td>0</td>\n",
       "      <td>13648</td>\n",
       "      <td>83.70%</td>\n",
       "      <td>9</td>\n",
       "      <td>f</td>\n",
       "      <td>0.00</td>\n",
       "      <td>0.00</td>\n",
       "      <td>5863.155187</td>\n",
       "      <td>5833.84</td>\n",
       "      <td>5000.00</td>\n",
       "      <td>863.16</td>\n",
       "      <td>0.00</td>\n",
       "      <td>0.00</td>\n",
       "      <td>0.00</td>\n",
       "      <td>Jan-15</td>\n",
       "      <td>171.62</td>\n",
       "      <td>May-16</td>\n",
       "      <td>0.0</td>\n",
       "      <td>1</td>\n",
       "      <td>INDIVIDUAL</td>\n",
       "      <td>0</td>\n",
       "      <td>0.0</td>\n",
       "      <td>0</td>\n",
       "      <td>0.0</td>\n",
       "      <td>0.0</td>\n",
       "    </tr>\n",
       "    <tr>\n",
       "      <th>1</th>\n",
       "      <td>1077430</td>\n",
       "      <td>1314167</td>\n",
       "      <td>2500</td>\n",
       "      <td>2500</td>\n",
       "      <td>2500.0</td>\n",
       "      <td>60 months</td>\n",
       "      <td>15.27%</td>\n",
       "      <td>59.83</td>\n",
       "      <td>C</td>\n",
       "      <td>C4</td>\n",
       "      <td>Ryder</td>\n",
       "      <td>&lt; 1 year</td>\n",
       "      <td>RENT</td>\n",
       "      <td>30000.0</td>\n",
       "      <td>Source Verified</td>\n",
       "      <td>Dec-11</td>\n",
       "      <td>Charged Off</td>\n",
       "      <td>n</td>\n",
       "      <td>https://lendingclub.com/browse/loanDetail.acti...</td>\n",
       "      <td>car</td>\n",
       "      <td>bike</td>\n",
       "      <td>309xx</td>\n",
       "      <td>GA</td>\n",
       "      <td>1.00</td>\n",
       "      <td>0</td>\n",
       "      <td>Apr-99</td>\n",
       "      <td>5</td>\n",
       "      <td>3</td>\n",
       "      <td>0</td>\n",
       "      <td>1687</td>\n",
       "      <td>9.40%</td>\n",
       "      <td>4</td>\n",
       "      <td>f</td>\n",
       "      <td>0.00</td>\n",
       "      <td>0.00</td>\n",
       "      <td>1008.710000</td>\n",
       "      <td>1008.71</td>\n",
       "      <td>456.46</td>\n",
       "      <td>435.17</td>\n",
       "      <td>0.00</td>\n",
       "      <td>117.08</td>\n",
       "      <td>1.11</td>\n",
       "      <td>Apr-13</td>\n",
       "      <td>119.66</td>\n",
       "      <td>Sep-13</td>\n",
       "      <td>0.0</td>\n",
       "      <td>1</td>\n",
       "      <td>INDIVIDUAL</td>\n",
       "      <td>0</td>\n",
       "      <td>0.0</td>\n",
       "      <td>0</td>\n",
       "      <td>0.0</td>\n",
       "      <td>0.0</td>\n",
       "    </tr>\n",
       "    <tr>\n",
       "      <th>2</th>\n",
       "      <td>1077175</td>\n",
       "      <td>1313524</td>\n",
       "      <td>2400</td>\n",
       "      <td>2400</td>\n",
       "      <td>2400.0</td>\n",
       "      <td>36 months</td>\n",
       "      <td>15.96%</td>\n",
       "      <td>84.33</td>\n",
       "      <td>C</td>\n",
       "      <td>C5</td>\n",
       "      <td>NaN</td>\n",
       "      <td>10+ years</td>\n",
       "      <td>RENT</td>\n",
       "      <td>12252.0</td>\n",
       "      <td>Not Verified</td>\n",
       "      <td>Dec-11</td>\n",
       "      <td>Fully Paid</td>\n",
       "      <td>n</td>\n",
       "      <td>https://lendingclub.com/browse/loanDetail.acti...</td>\n",
       "      <td>small_business</td>\n",
       "      <td>real estate business</td>\n",
       "      <td>606xx</td>\n",
       "      <td>IL</td>\n",
       "      <td>8.72</td>\n",
       "      <td>0</td>\n",
       "      <td>Nov-01</td>\n",
       "      <td>2</td>\n",
       "      <td>2</td>\n",
       "      <td>0</td>\n",
       "      <td>2956</td>\n",
       "      <td>98.50%</td>\n",
       "      <td>10</td>\n",
       "      <td>f</td>\n",
       "      <td>0.00</td>\n",
       "      <td>0.00</td>\n",
       "      <td>3005.666844</td>\n",
       "      <td>3005.67</td>\n",
       "      <td>2400.00</td>\n",
       "      <td>605.67</td>\n",
       "      <td>0.00</td>\n",
       "      <td>0.00</td>\n",
       "      <td>0.00</td>\n",
       "      <td>Jun-14</td>\n",
       "      <td>649.91</td>\n",
       "      <td>May-16</td>\n",
       "      <td>0.0</td>\n",
       "      <td>1</td>\n",
       "      <td>INDIVIDUAL</td>\n",
       "      <td>0</td>\n",
       "      <td>0.0</td>\n",
       "      <td>0</td>\n",
       "      <td>0.0</td>\n",
       "      <td>0.0</td>\n",
       "    </tr>\n",
       "    <tr>\n",
       "      <th>3</th>\n",
       "      <td>1076863</td>\n",
       "      <td>1277178</td>\n",
       "      <td>10000</td>\n",
       "      <td>10000</td>\n",
       "      <td>10000.0</td>\n",
       "      <td>36 months</td>\n",
       "      <td>13.49%</td>\n",
       "      <td>339.31</td>\n",
       "      <td>C</td>\n",
       "      <td>C1</td>\n",
       "      <td>AIR RESOURCES BOARD</td>\n",
       "      <td>10+ years</td>\n",
       "      <td>RENT</td>\n",
       "      <td>49200.0</td>\n",
       "      <td>Source Verified</td>\n",
       "      <td>Dec-11</td>\n",
       "      <td>Fully Paid</td>\n",
       "      <td>n</td>\n",
       "      <td>https://lendingclub.com/browse/loanDetail.acti...</td>\n",
       "      <td>other</td>\n",
       "      <td>personel</td>\n",
       "      <td>917xx</td>\n",
       "      <td>CA</td>\n",
       "      <td>20.00</td>\n",
       "      <td>0</td>\n",
       "      <td>Feb-96</td>\n",
       "      <td>1</td>\n",
       "      <td>10</td>\n",
       "      <td>0</td>\n",
       "      <td>5598</td>\n",
       "      <td>21%</td>\n",
       "      <td>37</td>\n",
       "      <td>f</td>\n",
       "      <td>0.00</td>\n",
       "      <td>0.00</td>\n",
       "      <td>12231.890000</td>\n",
       "      <td>12231.89</td>\n",
       "      <td>10000.00</td>\n",
       "      <td>2214.92</td>\n",
       "      <td>16.97</td>\n",
       "      <td>0.00</td>\n",
       "      <td>0.00</td>\n",
       "      <td>Jan-15</td>\n",
       "      <td>357.48</td>\n",
       "      <td>Apr-16</td>\n",
       "      <td>0.0</td>\n",
       "      <td>1</td>\n",
       "      <td>INDIVIDUAL</td>\n",
       "      <td>0</td>\n",
       "      <td>0.0</td>\n",
       "      <td>0</td>\n",
       "      <td>0.0</td>\n",
       "      <td>0.0</td>\n",
       "    </tr>\n",
       "    <tr>\n",
       "      <th>4</th>\n",
       "      <td>1075358</td>\n",
       "      <td>1311748</td>\n",
       "      <td>3000</td>\n",
       "      <td>3000</td>\n",
       "      <td>3000.0</td>\n",
       "      <td>60 months</td>\n",
       "      <td>12.69%</td>\n",
       "      <td>67.79</td>\n",
       "      <td>B</td>\n",
       "      <td>B5</td>\n",
       "      <td>University Medical Group</td>\n",
       "      <td>1 year</td>\n",
       "      <td>RENT</td>\n",
       "      <td>80000.0</td>\n",
       "      <td>Source Verified</td>\n",
       "      <td>Dec-11</td>\n",
       "      <td>Current</td>\n",
       "      <td>n</td>\n",
       "      <td>https://lendingclub.com/browse/loanDetail.acti...</td>\n",
       "      <td>other</td>\n",
       "      <td>Personal</td>\n",
       "      <td>972xx</td>\n",
       "      <td>OR</td>\n",
       "      <td>17.94</td>\n",
       "      <td>0</td>\n",
       "      <td>Jan-96</td>\n",
       "      <td>0</td>\n",
       "      <td>15</td>\n",
       "      <td>0</td>\n",
       "      <td>27783</td>\n",
       "      <td>53.90%</td>\n",
       "      <td>38</td>\n",
       "      <td>f</td>\n",
       "      <td>524.06</td>\n",
       "      <td>524.06</td>\n",
       "      <td>3513.330000</td>\n",
       "      <td>3513.33</td>\n",
       "      <td>2475.94</td>\n",
       "      <td>1037.39</td>\n",
       "      <td>0.00</td>\n",
       "      <td>0.00</td>\n",
       "      <td>0.00</td>\n",
       "      <td>May-16</td>\n",
       "      <td>67.79</td>\n",
       "      <td>May-16</td>\n",
       "      <td>0.0</td>\n",
       "      <td>1</td>\n",
       "      <td>INDIVIDUAL</td>\n",
       "      <td>0</td>\n",
       "      <td>0.0</td>\n",
       "      <td>0</td>\n",
       "      <td>0.0</td>\n",
       "      <td>0.0</td>\n",
       "    </tr>\n",
       "  </tbody>\n",
       "</table>\n",
       "</div>"
      ],
      "text/plain": [
       "        id  member_id  loan_amnt  funded_amnt  funded_amnt_inv        term  \\\n",
       "0  1077501    1296599       5000         5000           4975.0   36 months   \n",
       "1  1077430    1314167       2500         2500           2500.0   60 months   \n",
       "2  1077175    1313524       2400         2400           2400.0   36 months   \n",
       "3  1076863    1277178      10000        10000          10000.0   36 months   \n",
       "4  1075358    1311748       3000         3000           3000.0   60 months   \n",
       "\n",
       "  int_rate  installment grade sub_grade                 emp_title emp_length  \\\n",
       "0   10.65%       162.87     B        B2                       NaN  10+ years   \n",
       "1   15.27%        59.83     C        C4                     Ryder   < 1 year   \n",
       "2   15.96%        84.33     C        C5                       NaN  10+ years   \n",
       "3   13.49%       339.31     C        C1       AIR RESOURCES BOARD  10+ years   \n",
       "4   12.69%        67.79     B        B5  University Medical Group     1 year   \n",
       "\n",
       "  home_ownership  annual_inc verification_status issue_d  loan_status  \\\n",
       "0           RENT     24000.0            Verified  Dec-11   Fully Paid   \n",
       "1           RENT     30000.0     Source Verified  Dec-11  Charged Off   \n",
       "2           RENT     12252.0        Not Verified  Dec-11   Fully Paid   \n",
       "3           RENT     49200.0     Source Verified  Dec-11   Fully Paid   \n",
       "4           RENT     80000.0     Source Verified  Dec-11      Current   \n",
       "\n",
       "  pymnt_plan                                                url  \\\n",
       "0          n  https://lendingclub.com/browse/loanDetail.acti...   \n",
       "1          n  https://lendingclub.com/browse/loanDetail.acti...   \n",
       "2          n  https://lendingclub.com/browse/loanDetail.acti...   \n",
       "3          n  https://lendingclub.com/browse/loanDetail.acti...   \n",
       "4          n  https://lendingclub.com/browse/loanDetail.acti...   \n",
       "\n",
       "          purpose                 title zip_code addr_state    dti  \\\n",
       "0     credit_card              Computer    860xx         AZ  27.65   \n",
       "1             car                  bike    309xx         GA   1.00   \n",
       "2  small_business  real estate business    606xx         IL   8.72   \n",
       "3           other              personel    917xx         CA  20.00   \n",
       "4           other              Personal    972xx         OR  17.94   \n",
       "\n",
       "   delinq_2yrs earliest_cr_line  inq_last_6mths  open_acc  pub_rec  revol_bal  \\\n",
       "0            0           Jan-85               1         3        0      13648   \n",
       "1            0           Apr-99               5         3        0       1687   \n",
       "2            0           Nov-01               2         2        0       2956   \n",
       "3            0           Feb-96               1        10        0       5598   \n",
       "4            0           Jan-96               0        15        0      27783   \n",
       "\n",
       "  revol_util  total_acc initial_list_status  out_prncp  out_prncp_inv  \\\n",
       "0     83.70%          9                   f       0.00           0.00   \n",
       "1      9.40%          4                   f       0.00           0.00   \n",
       "2     98.50%         10                   f       0.00           0.00   \n",
       "3        21%         37                   f       0.00           0.00   \n",
       "4     53.90%         38                   f     524.06         524.06   \n",
       "\n",
       "    total_pymnt  total_pymnt_inv  total_rec_prncp  total_rec_int  \\\n",
       "0   5863.155187          5833.84          5000.00         863.16   \n",
       "1   1008.710000          1008.71           456.46         435.17   \n",
       "2   3005.666844          3005.67          2400.00         605.67   \n",
       "3  12231.890000         12231.89         10000.00        2214.92   \n",
       "4   3513.330000          3513.33          2475.94        1037.39   \n",
       "\n",
       "   total_rec_late_fee  recoveries  collection_recovery_fee last_pymnt_d  \\\n",
       "0                0.00        0.00                     0.00       Jan-15   \n",
       "1                0.00      117.08                     1.11       Apr-13   \n",
       "2                0.00        0.00                     0.00       Jun-14   \n",
       "3               16.97        0.00                     0.00       Jan-15   \n",
       "4                0.00        0.00                     0.00       May-16   \n",
       "\n",
       "   last_pymnt_amnt last_credit_pull_d  collections_12_mths_ex_med  \\\n",
       "0           171.62             May-16                         0.0   \n",
       "1           119.66             Sep-13                         0.0   \n",
       "2           649.91             May-16                         0.0   \n",
       "3           357.48             Apr-16                         0.0   \n",
       "4            67.79             May-16                         0.0   \n",
       "\n",
       "   policy_code application_type  acc_now_delinq  chargeoff_within_12_mths  \\\n",
       "0            1       INDIVIDUAL               0                       0.0   \n",
       "1            1       INDIVIDUAL               0                       0.0   \n",
       "2            1       INDIVIDUAL               0                       0.0   \n",
       "3            1       INDIVIDUAL               0                       0.0   \n",
       "4            1       INDIVIDUAL               0                       0.0   \n",
       "\n",
       "   delinq_amnt  pub_rec_bankruptcies  tax_liens  \n",
       "0            0                   0.0        0.0  \n",
       "1            0                   0.0        0.0  \n",
       "2            0                   0.0        0.0  \n",
       "3            0                   0.0        0.0  \n",
       "4            0                   0.0        0.0  "
      ]
     },
     "execution_count": 8,
     "metadata": {},
     "output_type": "execute_result"
    }
   ],
   "source": [
    "# Looking at the top 5 rows to understand data\n",
    "pd.set_option('display.max_columns', None)\n",
    "df.head()"
   ]
  },
  {
   "cell_type": "markdown",
   "metadata": {},
   "source": [
    "##### It seems there are multiple columns which are single valued, so verifying those with value_counts."
   ]
  },
  {
   "cell_type": "code",
   "execution_count": 9,
   "metadata": {},
   "outputs": [
    {
     "data": {
      "text/plain": [
       "n    39717\n",
       "Name: pymnt_plan, dtype: int64"
      ]
     },
     "execution_count": 9,
     "metadata": {},
     "output_type": "execute_result"
    }
   ],
   "source": [
    "df['pymnt_plan'].value_counts()"
   ]
  },
  {
   "cell_type": "code",
   "execution_count": 10,
   "metadata": {},
   "outputs": [
    {
     "data": {
      "text/plain": [
       "0.0    39661\n",
       "Name: collections_12_mths_ex_med, dtype: int64"
      ]
     },
     "execution_count": 10,
     "metadata": {},
     "output_type": "execute_result"
    }
   ],
   "source": [
    "df['collections_12_mths_ex_med'].value_counts()"
   ]
  },
  {
   "cell_type": "code",
   "execution_count": 11,
   "metadata": {},
   "outputs": [
    {
     "data": {
      "text/plain": [
       "f    39717\n",
       "Name: initial_list_status, dtype: int64"
      ]
     },
     "execution_count": 11,
     "metadata": {},
     "output_type": "execute_result"
    }
   ],
   "source": [
    "df['initial_list_status'].value_counts()"
   ]
  },
  {
   "cell_type": "code",
   "execution_count": 12,
   "metadata": {},
   "outputs": [
    {
     "data": {
      "text/plain": [
       "1    39717\n",
       "Name: policy_code, dtype: int64"
      ]
     },
     "execution_count": 12,
     "metadata": {},
     "output_type": "execute_result"
    }
   ],
   "source": [
    "df['policy_code'].value_counts()"
   ]
  },
  {
   "cell_type": "code",
   "execution_count": 13,
   "metadata": {},
   "outputs": [
    {
     "data": {
      "text/plain": [
       "INDIVIDUAL    39717\n",
       "Name: application_type, dtype: int64"
      ]
     },
     "execution_count": 13,
     "metadata": {},
     "output_type": "execute_result"
    }
   ],
   "source": [
    "df['application_type'].value_counts()"
   ]
  },
  {
   "cell_type": "code",
   "execution_count": 14,
   "metadata": {},
   "outputs": [
    {
     "data": {
      "text/plain": [
       "0    39717\n",
       "Name: acc_now_delinq, dtype: int64"
      ]
     },
     "execution_count": 14,
     "metadata": {},
     "output_type": "execute_result"
    }
   ],
   "source": [
    "df['acc_now_delinq'].value_counts()"
   ]
  },
  {
   "cell_type": "code",
   "execution_count": 15,
   "metadata": {},
   "outputs": [
    {
     "data": {
      "text/plain": [
       "0.0    39661\n",
       "Name: chargeoff_within_12_mths, dtype: int64"
      ]
     },
     "execution_count": 15,
     "metadata": {},
     "output_type": "execute_result"
    }
   ],
   "source": [
    "df['chargeoff_within_12_mths'].value_counts()"
   ]
  },
  {
   "cell_type": "code",
   "execution_count": 16,
   "metadata": {},
   "outputs": [
    {
     "data": {
      "text/plain": [
       "0    39717\n",
       "Name: delinq_amnt, dtype: int64"
      ]
     },
     "execution_count": 16,
     "metadata": {},
     "output_type": "execute_result"
    }
   ],
   "source": [
    "df['delinq_amnt'].value_counts()"
   ]
  },
  {
   "cell_type": "code",
   "execution_count": 17,
   "metadata": {},
   "outputs": [
    {
     "data": {
      "text/plain": [
       "0.0    39678\n",
       "Name: tax_liens, dtype: int64"
      ]
     },
     "execution_count": 17,
     "metadata": {},
     "output_type": "execute_result"
    }
   ],
   "source": [
    "df['tax_liens'].value_counts()"
   ]
  },
  {
   "cell_type": "markdown",
   "metadata": {},
   "source": [
    "##### Above Single valued columns will not contribute to our analysis so dropping these single valued column"
   ]
  },
  {
   "cell_type": "code",
   "execution_count": 18,
   "metadata": {},
   "outputs": [],
   "source": [
    "df = df.drop(['pymnt_plan','collections_12_mths_ex_med','initial_list_status','policy_code','application_type','acc_now_delinq','chargeoff_within_12_mths','delinq_amnt','tax_liens'], axis = 1)"
   ]
  },
  {
   "cell_type": "code",
   "execution_count": 19,
   "metadata": {},
   "outputs": [
    {
     "data": {
      "text/html": [
       "<div>\n",
       "<style scoped>\n",
       "    .dataframe tbody tr th:only-of-type {\n",
       "        vertical-align: middle;\n",
       "    }\n",
       "\n",
       "    .dataframe tbody tr th {\n",
       "        vertical-align: top;\n",
       "    }\n",
       "\n",
       "    .dataframe thead th {\n",
       "        text-align: right;\n",
       "    }\n",
       "</style>\n",
       "<table border=\"1\" class=\"dataframe\">\n",
       "  <thead>\n",
       "    <tr style=\"text-align: right;\">\n",
       "      <th></th>\n",
       "      <th>id</th>\n",
       "      <th>member_id</th>\n",
       "      <th>loan_amnt</th>\n",
       "      <th>funded_amnt</th>\n",
       "      <th>funded_amnt_inv</th>\n",
       "      <th>term</th>\n",
       "      <th>int_rate</th>\n",
       "      <th>installment</th>\n",
       "      <th>grade</th>\n",
       "      <th>sub_grade</th>\n",
       "      <th>emp_title</th>\n",
       "      <th>emp_length</th>\n",
       "      <th>home_ownership</th>\n",
       "      <th>annual_inc</th>\n",
       "      <th>verification_status</th>\n",
       "      <th>issue_d</th>\n",
       "      <th>loan_status</th>\n",
       "      <th>url</th>\n",
       "      <th>purpose</th>\n",
       "      <th>title</th>\n",
       "      <th>zip_code</th>\n",
       "      <th>addr_state</th>\n",
       "      <th>dti</th>\n",
       "      <th>delinq_2yrs</th>\n",
       "      <th>earliest_cr_line</th>\n",
       "      <th>inq_last_6mths</th>\n",
       "      <th>open_acc</th>\n",
       "      <th>pub_rec</th>\n",
       "      <th>revol_bal</th>\n",
       "      <th>revol_util</th>\n",
       "      <th>total_acc</th>\n",
       "      <th>out_prncp</th>\n",
       "      <th>out_prncp_inv</th>\n",
       "      <th>total_pymnt</th>\n",
       "      <th>total_pymnt_inv</th>\n",
       "      <th>total_rec_prncp</th>\n",
       "      <th>total_rec_int</th>\n",
       "      <th>total_rec_late_fee</th>\n",
       "      <th>recoveries</th>\n",
       "      <th>collection_recovery_fee</th>\n",
       "      <th>last_pymnt_d</th>\n",
       "      <th>last_pymnt_amnt</th>\n",
       "      <th>last_credit_pull_d</th>\n",
       "      <th>pub_rec_bankruptcies</th>\n",
       "    </tr>\n",
       "  </thead>\n",
       "  <tbody>\n",
       "    <tr>\n",
       "      <th>0</th>\n",
       "      <td>1077501</td>\n",
       "      <td>1296599</td>\n",
       "      <td>5000</td>\n",
       "      <td>5000</td>\n",
       "      <td>4975.0</td>\n",
       "      <td>36 months</td>\n",
       "      <td>10.65%</td>\n",
       "      <td>162.87</td>\n",
       "      <td>B</td>\n",
       "      <td>B2</td>\n",
       "      <td>NaN</td>\n",
       "      <td>10+ years</td>\n",
       "      <td>RENT</td>\n",
       "      <td>24000.0</td>\n",
       "      <td>Verified</td>\n",
       "      <td>Dec-11</td>\n",
       "      <td>Fully Paid</td>\n",
       "      <td>https://lendingclub.com/browse/loanDetail.acti...</td>\n",
       "      <td>credit_card</td>\n",
       "      <td>Computer</td>\n",
       "      <td>860xx</td>\n",
       "      <td>AZ</td>\n",
       "      <td>27.65</td>\n",
       "      <td>0</td>\n",
       "      <td>Jan-85</td>\n",
       "      <td>1</td>\n",
       "      <td>3</td>\n",
       "      <td>0</td>\n",
       "      <td>13648</td>\n",
       "      <td>83.70%</td>\n",
       "      <td>9</td>\n",
       "      <td>0.00</td>\n",
       "      <td>0.00</td>\n",
       "      <td>5863.155187</td>\n",
       "      <td>5833.84</td>\n",
       "      <td>5000.00</td>\n",
       "      <td>863.16</td>\n",
       "      <td>0.00</td>\n",
       "      <td>0.00</td>\n",
       "      <td>0.00</td>\n",
       "      <td>Jan-15</td>\n",
       "      <td>171.62</td>\n",
       "      <td>May-16</td>\n",
       "      <td>0.0</td>\n",
       "    </tr>\n",
       "    <tr>\n",
       "      <th>1</th>\n",
       "      <td>1077430</td>\n",
       "      <td>1314167</td>\n",
       "      <td>2500</td>\n",
       "      <td>2500</td>\n",
       "      <td>2500.0</td>\n",
       "      <td>60 months</td>\n",
       "      <td>15.27%</td>\n",
       "      <td>59.83</td>\n",
       "      <td>C</td>\n",
       "      <td>C4</td>\n",
       "      <td>Ryder</td>\n",
       "      <td>&lt; 1 year</td>\n",
       "      <td>RENT</td>\n",
       "      <td>30000.0</td>\n",
       "      <td>Source Verified</td>\n",
       "      <td>Dec-11</td>\n",
       "      <td>Charged Off</td>\n",
       "      <td>https://lendingclub.com/browse/loanDetail.acti...</td>\n",
       "      <td>car</td>\n",
       "      <td>bike</td>\n",
       "      <td>309xx</td>\n",
       "      <td>GA</td>\n",
       "      <td>1.00</td>\n",
       "      <td>0</td>\n",
       "      <td>Apr-99</td>\n",
       "      <td>5</td>\n",
       "      <td>3</td>\n",
       "      <td>0</td>\n",
       "      <td>1687</td>\n",
       "      <td>9.40%</td>\n",
       "      <td>4</td>\n",
       "      <td>0.00</td>\n",
       "      <td>0.00</td>\n",
       "      <td>1008.710000</td>\n",
       "      <td>1008.71</td>\n",
       "      <td>456.46</td>\n",
       "      <td>435.17</td>\n",
       "      <td>0.00</td>\n",
       "      <td>117.08</td>\n",
       "      <td>1.11</td>\n",
       "      <td>Apr-13</td>\n",
       "      <td>119.66</td>\n",
       "      <td>Sep-13</td>\n",
       "      <td>0.0</td>\n",
       "    </tr>\n",
       "    <tr>\n",
       "      <th>2</th>\n",
       "      <td>1077175</td>\n",
       "      <td>1313524</td>\n",
       "      <td>2400</td>\n",
       "      <td>2400</td>\n",
       "      <td>2400.0</td>\n",
       "      <td>36 months</td>\n",
       "      <td>15.96%</td>\n",
       "      <td>84.33</td>\n",
       "      <td>C</td>\n",
       "      <td>C5</td>\n",
       "      <td>NaN</td>\n",
       "      <td>10+ years</td>\n",
       "      <td>RENT</td>\n",
       "      <td>12252.0</td>\n",
       "      <td>Not Verified</td>\n",
       "      <td>Dec-11</td>\n",
       "      <td>Fully Paid</td>\n",
       "      <td>https://lendingclub.com/browse/loanDetail.acti...</td>\n",
       "      <td>small_business</td>\n",
       "      <td>real estate business</td>\n",
       "      <td>606xx</td>\n",
       "      <td>IL</td>\n",
       "      <td>8.72</td>\n",
       "      <td>0</td>\n",
       "      <td>Nov-01</td>\n",
       "      <td>2</td>\n",
       "      <td>2</td>\n",
       "      <td>0</td>\n",
       "      <td>2956</td>\n",
       "      <td>98.50%</td>\n",
       "      <td>10</td>\n",
       "      <td>0.00</td>\n",
       "      <td>0.00</td>\n",
       "      <td>3005.666844</td>\n",
       "      <td>3005.67</td>\n",
       "      <td>2400.00</td>\n",
       "      <td>605.67</td>\n",
       "      <td>0.00</td>\n",
       "      <td>0.00</td>\n",
       "      <td>0.00</td>\n",
       "      <td>Jun-14</td>\n",
       "      <td>649.91</td>\n",
       "      <td>May-16</td>\n",
       "      <td>0.0</td>\n",
       "    </tr>\n",
       "    <tr>\n",
       "      <th>3</th>\n",
       "      <td>1076863</td>\n",
       "      <td>1277178</td>\n",
       "      <td>10000</td>\n",
       "      <td>10000</td>\n",
       "      <td>10000.0</td>\n",
       "      <td>36 months</td>\n",
       "      <td>13.49%</td>\n",
       "      <td>339.31</td>\n",
       "      <td>C</td>\n",
       "      <td>C1</td>\n",
       "      <td>AIR RESOURCES BOARD</td>\n",
       "      <td>10+ years</td>\n",
       "      <td>RENT</td>\n",
       "      <td>49200.0</td>\n",
       "      <td>Source Verified</td>\n",
       "      <td>Dec-11</td>\n",
       "      <td>Fully Paid</td>\n",
       "      <td>https://lendingclub.com/browse/loanDetail.acti...</td>\n",
       "      <td>other</td>\n",
       "      <td>personel</td>\n",
       "      <td>917xx</td>\n",
       "      <td>CA</td>\n",
       "      <td>20.00</td>\n",
       "      <td>0</td>\n",
       "      <td>Feb-96</td>\n",
       "      <td>1</td>\n",
       "      <td>10</td>\n",
       "      <td>0</td>\n",
       "      <td>5598</td>\n",
       "      <td>21%</td>\n",
       "      <td>37</td>\n",
       "      <td>0.00</td>\n",
       "      <td>0.00</td>\n",
       "      <td>12231.890000</td>\n",
       "      <td>12231.89</td>\n",
       "      <td>10000.00</td>\n",
       "      <td>2214.92</td>\n",
       "      <td>16.97</td>\n",
       "      <td>0.00</td>\n",
       "      <td>0.00</td>\n",
       "      <td>Jan-15</td>\n",
       "      <td>357.48</td>\n",
       "      <td>Apr-16</td>\n",
       "      <td>0.0</td>\n",
       "    </tr>\n",
       "    <tr>\n",
       "      <th>4</th>\n",
       "      <td>1075358</td>\n",
       "      <td>1311748</td>\n",
       "      <td>3000</td>\n",
       "      <td>3000</td>\n",
       "      <td>3000.0</td>\n",
       "      <td>60 months</td>\n",
       "      <td>12.69%</td>\n",
       "      <td>67.79</td>\n",
       "      <td>B</td>\n",
       "      <td>B5</td>\n",
       "      <td>University Medical Group</td>\n",
       "      <td>1 year</td>\n",
       "      <td>RENT</td>\n",
       "      <td>80000.0</td>\n",
       "      <td>Source Verified</td>\n",
       "      <td>Dec-11</td>\n",
       "      <td>Current</td>\n",
       "      <td>https://lendingclub.com/browse/loanDetail.acti...</td>\n",
       "      <td>other</td>\n",
       "      <td>Personal</td>\n",
       "      <td>972xx</td>\n",
       "      <td>OR</td>\n",
       "      <td>17.94</td>\n",
       "      <td>0</td>\n",
       "      <td>Jan-96</td>\n",
       "      <td>0</td>\n",
       "      <td>15</td>\n",
       "      <td>0</td>\n",
       "      <td>27783</td>\n",
       "      <td>53.90%</td>\n",
       "      <td>38</td>\n",
       "      <td>524.06</td>\n",
       "      <td>524.06</td>\n",
       "      <td>3513.330000</td>\n",
       "      <td>3513.33</td>\n",
       "      <td>2475.94</td>\n",
       "      <td>1037.39</td>\n",
       "      <td>0.00</td>\n",
       "      <td>0.00</td>\n",
       "      <td>0.00</td>\n",
       "      <td>May-16</td>\n",
       "      <td>67.79</td>\n",
       "      <td>May-16</td>\n",
       "      <td>0.0</td>\n",
       "    </tr>\n",
       "  </tbody>\n",
       "</table>\n",
       "</div>"
      ],
      "text/plain": [
       "        id  member_id  loan_amnt  funded_amnt  funded_amnt_inv        term  \\\n",
       "0  1077501    1296599       5000         5000           4975.0   36 months   \n",
       "1  1077430    1314167       2500         2500           2500.0   60 months   \n",
       "2  1077175    1313524       2400         2400           2400.0   36 months   \n",
       "3  1076863    1277178      10000        10000          10000.0   36 months   \n",
       "4  1075358    1311748       3000         3000           3000.0   60 months   \n",
       "\n",
       "  int_rate  installment grade sub_grade                 emp_title emp_length  \\\n",
       "0   10.65%       162.87     B        B2                       NaN  10+ years   \n",
       "1   15.27%        59.83     C        C4                     Ryder   < 1 year   \n",
       "2   15.96%        84.33     C        C5                       NaN  10+ years   \n",
       "3   13.49%       339.31     C        C1       AIR RESOURCES BOARD  10+ years   \n",
       "4   12.69%        67.79     B        B5  University Medical Group     1 year   \n",
       "\n",
       "  home_ownership  annual_inc verification_status issue_d  loan_status  \\\n",
       "0           RENT     24000.0            Verified  Dec-11   Fully Paid   \n",
       "1           RENT     30000.0     Source Verified  Dec-11  Charged Off   \n",
       "2           RENT     12252.0        Not Verified  Dec-11   Fully Paid   \n",
       "3           RENT     49200.0     Source Verified  Dec-11   Fully Paid   \n",
       "4           RENT     80000.0     Source Verified  Dec-11      Current   \n",
       "\n",
       "                                                 url         purpose  \\\n",
       "0  https://lendingclub.com/browse/loanDetail.acti...     credit_card   \n",
       "1  https://lendingclub.com/browse/loanDetail.acti...             car   \n",
       "2  https://lendingclub.com/browse/loanDetail.acti...  small_business   \n",
       "3  https://lendingclub.com/browse/loanDetail.acti...           other   \n",
       "4  https://lendingclub.com/browse/loanDetail.acti...           other   \n",
       "\n",
       "                  title zip_code addr_state    dti  delinq_2yrs  \\\n",
       "0              Computer    860xx         AZ  27.65            0   \n",
       "1                  bike    309xx         GA   1.00            0   \n",
       "2  real estate business    606xx         IL   8.72            0   \n",
       "3              personel    917xx         CA  20.00            0   \n",
       "4              Personal    972xx         OR  17.94            0   \n",
       "\n",
       "  earliest_cr_line  inq_last_6mths  open_acc  pub_rec  revol_bal revol_util  \\\n",
       "0           Jan-85               1         3        0      13648     83.70%   \n",
       "1           Apr-99               5         3        0       1687      9.40%   \n",
       "2           Nov-01               2         2        0       2956     98.50%   \n",
       "3           Feb-96               1        10        0       5598        21%   \n",
       "4           Jan-96               0        15        0      27783     53.90%   \n",
       "\n",
       "   total_acc  out_prncp  out_prncp_inv   total_pymnt  total_pymnt_inv  \\\n",
       "0          9       0.00           0.00   5863.155187          5833.84   \n",
       "1          4       0.00           0.00   1008.710000          1008.71   \n",
       "2         10       0.00           0.00   3005.666844          3005.67   \n",
       "3         37       0.00           0.00  12231.890000         12231.89   \n",
       "4         38     524.06         524.06   3513.330000          3513.33   \n",
       "\n",
       "   total_rec_prncp  total_rec_int  total_rec_late_fee  recoveries  \\\n",
       "0          5000.00         863.16                0.00        0.00   \n",
       "1           456.46         435.17                0.00      117.08   \n",
       "2          2400.00         605.67                0.00        0.00   \n",
       "3         10000.00        2214.92               16.97        0.00   \n",
       "4          2475.94        1037.39                0.00        0.00   \n",
       "\n",
       "   collection_recovery_fee last_pymnt_d  last_pymnt_amnt last_credit_pull_d  \\\n",
       "0                     0.00       Jan-15           171.62             May-16   \n",
       "1                     1.11       Apr-13           119.66             Sep-13   \n",
       "2                     0.00       Jun-14           649.91             May-16   \n",
       "3                     0.00       Jan-15           357.48             Apr-16   \n",
       "4                     0.00       May-16            67.79             May-16   \n",
       "\n",
       "   pub_rec_bankruptcies  \n",
       "0                   0.0  \n",
       "1                   0.0  \n",
       "2                   0.0  \n",
       "3                   0.0  \n",
       "4                   0.0  "
      ]
     },
     "execution_count": 19,
     "metadata": {},
     "output_type": "execute_result"
    }
   ],
   "source": [
    "# Looking at the top 5 rows to understand data\n",
    "pd.set_option('display.max_columns', None)\n",
    "df.head()"
   ]
  },
  {
   "cell_type": "code",
   "execution_count": 20,
   "metadata": {},
   "outputs": [
    {
     "data": {
      "text/plain": [
       "(39717, 44)"
      ]
     },
     "execution_count": 20,
     "metadata": {},
     "output_type": "execute_result"
    }
   ],
   "source": [
    "df.shape"
   ]
  },
  {
   "cell_type": "code",
   "execution_count": 21,
   "metadata": {},
   "outputs": [
    {
     "name": "stdout",
     "output_type": "stream",
     "text": [
      "<class 'pandas.core.frame.DataFrame'>\n",
      "RangeIndex: 39717 entries, 0 to 39716\n",
      "Data columns (total 44 columns):\n",
      " #   Column                   Non-Null Count  Dtype  \n",
      "---  ------                   --------------  -----  \n",
      " 0   id                       39717 non-null  int64  \n",
      " 1   member_id                39717 non-null  int64  \n",
      " 2   loan_amnt                39717 non-null  int64  \n",
      " 3   funded_amnt              39717 non-null  int64  \n",
      " 4   funded_amnt_inv          39717 non-null  float64\n",
      " 5   term                     39717 non-null  object \n",
      " 6   int_rate                 39717 non-null  object \n",
      " 7   installment              39717 non-null  float64\n",
      " 8   grade                    39717 non-null  object \n",
      " 9   sub_grade                39717 non-null  object \n",
      " 10  emp_title                37258 non-null  object \n",
      " 11  emp_length               38642 non-null  object \n",
      " 12  home_ownership           39717 non-null  object \n",
      " 13  annual_inc               39717 non-null  float64\n",
      " 14  verification_status      39717 non-null  object \n",
      " 15  issue_d                  39717 non-null  object \n",
      " 16  loan_status              39717 non-null  object \n",
      " 17  url                      39717 non-null  object \n",
      " 18  purpose                  39717 non-null  object \n",
      " 19  title                    39706 non-null  object \n",
      " 20  zip_code                 39717 non-null  object \n",
      " 21  addr_state               39717 non-null  object \n",
      " 22  dti                      39717 non-null  float64\n",
      " 23  delinq_2yrs              39717 non-null  int64  \n",
      " 24  earliest_cr_line         39717 non-null  object \n",
      " 25  inq_last_6mths           39717 non-null  int64  \n",
      " 26  open_acc                 39717 non-null  int64  \n",
      " 27  pub_rec                  39717 non-null  int64  \n",
      " 28  revol_bal                39717 non-null  int64  \n",
      " 29  revol_util               39667 non-null  object \n",
      " 30  total_acc                39717 non-null  int64  \n",
      " 31  out_prncp                39717 non-null  float64\n",
      " 32  out_prncp_inv            39717 non-null  float64\n",
      " 33  total_pymnt              39717 non-null  float64\n",
      " 34  total_pymnt_inv          39717 non-null  float64\n",
      " 35  total_rec_prncp          39717 non-null  float64\n",
      " 36  total_rec_int            39717 non-null  float64\n",
      " 37  total_rec_late_fee       39717 non-null  float64\n",
      " 38  recoveries               39717 non-null  float64\n",
      " 39  collection_recovery_fee  39717 non-null  float64\n",
      " 40  last_pymnt_d             39646 non-null  object \n",
      " 41  last_pymnt_amnt          39717 non-null  float64\n",
      " 42  last_credit_pull_d       39715 non-null  object \n",
      " 43  pub_rec_bankruptcies     39020 non-null  float64\n",
      "dtypes: float64(15), int64(10), object(19)\n",
      "memory usage: 13.3+ MB\n"
     ]
    }
   ],
   "source": [
    "df.info()"
   ]
  },
  {
   "cell_type": "code",
   "execution_count": 22,
   "metadata": {},
   "outputs": [
    {
     "data": {
      "text/plain": [
       "10+ years    8879\n",
       "< 1 year     4583\n",
       "2 years      4388\n",
       "3 years      4095\n",
       "4 years      3436\n",
       "5 years      3282\n",
       "1 year       3240\n",
       "6 years      2229\n",
       "7 years      1773\n",
       "8 years      1479\n",
       "9 years      1258\n",
       "Name: emp_length, dtype: int64"
      ]
     },
     "execution_count": 22,
     "metadata": {},
     "output_type": "execute_result"
    }
   ],
   "source": [
    "df.emp_length.value_counts()"
   ]
  },
  {
   "cell_type": "code",
   "execution_count": 23,
   "metadata": {},
   "outputs": [
    {
     "data": {
      "text/plain": [
       "0%        977\n",
       "0.20%      63\n",
       "63%        62\n",
       "0.10%      58\n",
       "66.70%     58\n",
       "         ... \n",
       "10.17%      1\n",
       "38.77%      1\n",
       "7.43%       1\n",
       "24.89%      1\n",
       "0.12%       1\n",
       "Name: revol_util, Length: 1089, dtype: int64"
      ]
     },
     "execution_count": 23,
     "metadata": {},
     "output_type": "execute_result"
    }
   ],
   "source": [
    "df.revol_util.value_counts()"
   ]
  },
  {
   "cell_type": "code",
   "execution_count": 24,
   "metadata": {},
   "outputs": [
    {
     "data": {
      "text/html": [
       "<div>\n",
       "<style scoped>\n",
       "    .dataframe tbody tr th:only-of-type {\n",
       "        vertical-align: middle;\n",
       "    }\n",
       "\n",
       "    .dataframe tbody tr th {\n",
       "        vertical-align: top;\n",
       "    }\n",
       "\n",
       "    .dataframe thead th {\n",
       "        text-align: right;\n",
       "    }\n",
       "</style>\n",
       "<table border=\"1\" class=\"dataframe\">\n",
       "  <thead>\n",
       "    <tr style=\"text-align: right;\">\n",
       "      <th></th>\n",
       "      <th>id</th>\n",
       "      <th>member_id</th>\n",
       "      <th>loan_amnt</th>\n",
       "      <th>funded_amnt</th>\n",
       "      <th>funded_amnt_inv</th>\n",
       "      <th>term</th>\n",
       "      <th>int_rate</th>\n",
       "      <th>installment</th>\n",
       "      <th>grade</th>\n",
       "      <th>sub_grade</th>\n",
       "      <th>emp_title</th>\n",
       "      <th>emp_length</th>\n",
       "      <th>home_ownership</th>\n",
       "      <th>annual_inc</th>\n",
       "      <th>verification_status</th>\n",
       "      <th>issue_d</th>\n",
       "      <th>loan_status</th>\n",
       "      <th>url</th>\n",
       "      <th>purpose</th>\n",
       "      <th>title</th>\n",
       "      <th>zip_code</th>\n",
       "      <th>addr_state</th>\n",
       "      <th>dti</th>\n",
       "      <th>delinq_2yrs</th>\n",
       "      <th>earliest_cr_line</th>\n",
       "      <th>inq_last_6mths</th>\n",
       "      <th>open_acc</th>\n",
       "      <th>pub_rec</th>\n",
       "      <th>revol_bal</th>\n",
       "      <th>revol_util</th>\n",
       "      <th>total_acc</th>\n",
       "      <th>out_prncp</th>\n",
       "      <th>out_prncp_inv</th>\n",
       "      <th>total_pymnt</th>\n",
       "      <th>total_pymnt_inv</th>\n",
       "      <th>total_rec_prncp</th>\n",
       "      <th>total_rec_int</th>\n",
       "      <th>total_rec_late_fee</th>\n",
       "      <th>recoveries</th>\n",
       "      <th>collection_recovery_fee</th>\n",
       "      <th>last_pymnt_d</th>\n",
       "      <th>last_pymnt_amnt</th>\n",
       "      <th>last_credit_pull_d</th>\n",
       "      <th>pub_rec_bankruptcies</th>\n",
       "    </tr>\n",
       "  </thead>\n",
       "  <tbody>\n",
       "    <tr>\n",
       "      <th>0</th>\n",
       "      <td>1077501</td>\n",
       "      <td>1296599</td>\n",
       "      <td>5000</td>\n",
       "      <td>5000</td>\n",
       "      <td>4975.0</td>\n",
       "      <td>36 months</td>\n",
       "      <td>10.65</td>\n",
       "      <td>162.87</td>\n",
       "      <td>B</td>\n",
       "      <td>B2</td>\n",
       "      <td>NaN</td>\n",
       "      <td>10</td>\n",
       "      <td>RENT</td>\n",
       "      <td>24000.0</td>\n",
       "      <td>Verified</td>\n",
       "      <td>Dec-11</td>\n",
       "      <td>Fully Paid</td>\n",
       "      <td>https://lendingclub.com/browse/loanDetail.acti...</td>\n",
       "      <td>credit_card</td>\n",
       "      <td>Computer</td>\n",
       "      <td>860xx</td>\n",
       "      <td>AZ</td>\n",
       "      <td>27.65</td>\n",
       "      <td>0</td>\n",
       "      <td>Jan-85</td>\n",
       "      <td>1</td>\n",
       "      <td>3</td>\n",
       "      <td>0</td>\n",
       "      <td>13648</td>\n",
       "      <td>83.70</td>\n",
       "      <td>9</td>\n",
       "      <td>0.00</td>\n",
       "      <td>0.00</td>\n",
       "      <td>5863.155187</td>\n",
       "      <td>5833.84</td>\n",
       "      <td>5000.00</td>\n",
       "      <td>863.16</td>\n",
       "      <td>0.00</td>\n",
       "      <td>0.00</td>\n",
       "      <td>0.00</td>\n",
       "      <td>Jan-15</td>\n",
       "      <td>171.62</td>\n",
       "      <td>May-16</td>\n",
       "      <td>0</td>\n",
       "    </tr>\n",
       "    <tr>\n",
       "      <th>1</th>\n",
       "      <td>1077430</td>\n",
       "      <td>1314167</td>\n",
       "      <td>2500</td>\n",
       "      <td>2500</td>\n",
       "      <td>2500.0</td>\n",
       "      <td>60 months</td>\n",
       "      <td>15.27</td>\n",
       "      <td>59.83</td>\n",
       "      <td>C</td>\n",
       "      <td>C4</td>\n",
       "      <td>Ryder</td>\n",
       "      <td>1</td>\n",
       "      <td>RENT</td>\n",
       "      <td>30000.0</td>\n",
       "      <td>Source Verified</td>\n",
       "      <td>Dec-11</td>\n",
       "      <td>Charged Off</td>\n",
       "      <td>https://lendingclub.com/browse/loanDetail.acti...</td>\n",
       "      <td>car</td>\n",
       "      <td>bike</td>\n",
       "      <td>309xx</td>\n",
       "      <td>GA</td>\n",
       "      <td>1.00</td>\n",
       "      <td>0</td>\n",
       "      <td>Apr-99</td>\n",
       "      <td>5</td>\n",
       "      <td>3</td>\n",
       "      <td>0</td>\n",
       "      <td>1687</td>\n",
       "      <td>9.40</td>\n",
       "      <td>4</td>\n",
       "      <td>0.00</td>\n",
       "      <td>0.00</td>\n",
       "      <td>1008.710000</td>\n",
       "      <td>1008.71</td>\n",
       "      <td>456.46</td>\n",
       "      <td>435.17</td>\n",
       "      <td>0.00</td>\n",
       "      <td>117.08</td>\n",
       "      <td>1.11</td>\n",
       "      <td>Apr-13</td>\n",
       "      <td>119.66</td>\n",
       "      <td>Sep-13</td>\n",
       "      <td>0</td>\n",
       "    </tr>\n",
       "    <tr>\n",
       "      <th>2</th>\n",
       "      <td>1077175</td>\n",
       "      <td>1313524</td>\n",
       "      <td>2400</td>\n",
       "      <td>2400</td>\n",
       "      <td>2400.0</td>\n",
       "      <td>36 months</td>\n",
       "      <td>15.96</td>\n",
       "      <td>84.33</td>\n",
       "      <td>C</td>\n",
       "      <td>C5</td>\n",
       "      <td>NaN</td>\n",
       "      <td>10</td>\n",
       "      <td>RENT</td>\n",
       "      <td>12252.0</td>\n",
       "      <td>Not Verified</td>\n",
       "      <td>Dec-11</td>\n",
       "      <td>Fully Paid</td>\n",
       "      <td>https://lendingclub.com/browse/loanDetail.acti...</td>\n",
       "      <td>small_business</td>\n",
       "      <td>real estate business</td>\n",
       "      <td>606xx</td>\n",
       "      <td>IL</td>\n",
       "      <td>8.72</td>\n",
       "      <td>0</td>\n",
       "      <td>Nov-01</td>\n",
       "      <td>2</td>\n",
       "      <td>2</td>\n",
       "      <td>0</td>\n",
       "      <td>2956</td>\n",
       "      <td>98.50</td>\n",
       "      <td>10</td>\n",
       "      <td>0.00</td>\n",
       "      <td>0.00</td>\n",
       "      <td>3005.666844</td>\n",
       "      <td>3005.67</td>\n",
       "      <td>2400.00</td>\n",
       "      <td>605.67</td>\n",
       "      <td>0.00</td>\n",
       "      <td>0.00</td>\n",
       "      <td>0.00</td>\n",
       "      <td>Jun-14</td>\n",
       "      <td>649.91</td>\n",
       "      <td>May-16</td>\n",
       "      <td>0</td>\n",
       "    </tr>\n",
       "    <tr>\n",
       "      <th>3</th>\n",
       "      <td>1076863</td>\n",
       "      <td>1277178</td>\n",
       "      <td>10000</td>\n",
       "      <td>10000</td>\n",
       "      <td>10000.0</td>\n",
       "      <td>36 months</td>\n",
       "      <td>13.49</td>\n",
       "      <td>339.31</td>\n",
       "      <td>C</td>\n",
       "      <td>C1</td>\n",
       "      <td>AIR RESOURCES BOARD</td>\n",
       "      <td>10</td>\n",
       "      <td>RENT</td>\n",
       "      <td>49200.0</td>\n",
       "      <td>Source Verified</td>\n",
       "      <td>Dec-11</td>\n",
       "      <td>Fully Paid</td>\n",
       "      <td>https://lendingclub.com/browse/loanDetail.acti...</td>\n",
       "      <td>other</td>\n",
       "      <td>personel</td>\n",
       "      <td>917xx</td>\n",
       "      <td>CA</td>\n",
       "      <td>20.00</td>\n",
       "      <td>0</td>\n",
       "      <td>Feb-96</td>\n",
       "      <td>1</td>\n",
       "      <td>10</td>\n",
       "      <td>0</td>\n",
       "      <td>5598</td>\n",
       "      <td>21</td>\n",
       "      <td>37</td>\n",
       "      <td>0.00</td>\n",
       "      <td>0.00</td>\n",
       "      <td>12231.890000</td>\n",
       "      <td>12231.89</td>\n",
       "      <td>10000.00</td>\n",
       "      <td>2214.92</td>\n",
       "      <td>16.97</td>\n",
       "      <td>0.00</td>\n",
       "      <td>0.00</td>\n",
       "      <td>Jan-15</td>\n",
       "      <td>357.48</td>\n",
       "      <td>Apr-16</td>\n",
       "      <td>0</td>\n",
       "    </tr>\n",
       "    <tr>\n",
       "      <th>4</th>\n",
       "      <td>1075358</td>\n",
       "      <td>1311748</td>\n",
       "      <td>3000</td>\n",
       "      <td>3000</td>\n",
       "      <td>3000.0</td>\n",
       "      <td>60 months</td>\n",
       "      <td>12.69</td>\n",
       "      <td>67.79</td>\n",
       "      <td>B</td>\n",
       "      <td>B5</td>\n",
       "      <td>University Medical Group</td>\n",
       "      <td>1</td>\n",
       "      <td>RENT</td>\n",
       "      <td>80000.0</td>\n",
       "      <td>Source Verified</td>\n",
       "      <td>Dec-11</td>\n",
       "      <td>Current</td>\n",
       "      <td>https://lendingclub.com/browse/loanDetail.acti...</td>\n",
       "      <td>other</td>\n",
       "      <td>Personal</td>\n",
       "      <td>972xx</td>\n",
       "      <td>OR</td>\n",
       "      <td>17.94</td>\n",
       "      <td>0</td>\n",
       "      <td>Jan-96</td>\n",
       "      <td>0</td>\n",
       "      <td>15</td>\n",
       "      <td>0</td>\n",
       "      <td>27783</td>\n",
       "      <td>53.90</td>\n",
       "      <td>38</td>\n",
       "      <td>524.06</td>\n",
       "      <td>524.06</td>\n",
       "      <td>3513.330000</td>\n",
       "      <td>3513.33</td>\n",
       "      <td>2475.94</td>\n",
       "      <td>1037.39</td>\n",
       "      <td>0.00</td>\n",
       "      <td>0.00</td>\n",
       "      <td>0.00</td>\n",
       "      <td>May-16</td>\n",
       "      <td>67.79</td>\n",
       "      <td>May-16</td>\n",
       "      <td>0</td>\n",
       "    </tr>\n",
       "  </tbody>\n",
       "</table>\n",
       "</div>"
      ],
      "text/plain": [
       "        id  member_id  loan_amnt  funded_amnt  funded_amnt_inv        term  \\\n",
       "0  1077501    1296599       5000         5000           4975.0   36 months   \n",
       "1  1077430    1314167       2500         2500           2500.0   60 months   \n",
       "2  1077175    1313524       2400         2400           2400.0   36 months   \n",
       "3  1076863    1277178      10000        10000          10000.0   36 months   \n",
       "4  1075358    1311748       3000         3000           3000.0   60 months   \n",
       "\n",
       "  int_rate  installment grade sub_grade                 emp_title emp_length  \\\n",
       "0    10.65       162.87     B        B2                       NaN         10   \n",
       "1    15.27        59.83     C        C4                     Ryder          1   \n",
       "2    15.96        84.33     C        C5                       NaN         10   \n",
       "3    13.49       339.31     C        C1       AIR RESOURCES BOARD         10   \n",
       "4    12.69        67.79     B        B5  University Medical Group          1   \n",
       "\n",
       "  home_ownership  annual_inc verification_status issue_d  loan_status  \\\n",
       "0           RENT     24000.0            Verified  Dec-11   Fully Paid   \n",
       "1           RENT     30000.0     Source Verified  Dec-11  Charged Off   \n",
       "2           RENT     12252.0        Not Verified  Dec-11   Fully Paid   \n",
       "3           RENT     49200.0     Source Verified  Dec-11   Fully Paid   \n",
       "4           RENT     80000.0     Source Verified  Dec-11      Current   \n",
       "\n",
       "                                                 url         purpose  \\\n",
       "0  https://lendingclub.com/browse/loanDetail.acti...     credit_card   \n",
       "1  https://lendingclub.com/browse/loanDetail.acti...             car   \n",
       "2  https://lendingclub.com/browse/loanDetail.acti...  small_business   \n",
       "3  https://lendingclub.com/browse/loanDetail.acti...           other   \n",
       "4  https://lendingclub.com/browse/loanDetail.acti...           other   \n",
       "\n",
       "                  title zip_code addr_state    dti  delinq_2yrs  \\\n",
       "0              Computer    860xx         AZ  27.65            0   \n",
       "1                  bike    309xx         GA   1.00            0   \n",
       "2  real estate business    606xx         IL   8.72            0   \n",
       "3              personel    917xx         CA  20.00            0   \n",
       "4              Personal    972xx         OR  17.94            0   \n",
       "\n",
       "  earliest_cr_line  inq_last_6mths  open_acc  pub_rec  revol_bal revol_util  \\\n",
       "0           Jan-85               1         3        0      13648      83.70   \n",
       "1           Apr-99               5         3        0       1687       9.40   \n",
       "2           Nov-01               2         2        0       2956      98.50   \n",
       "3           Feb-96               1        10        0       5598         21   \n",
       "4           Jan-96               0        15        0      27783      53.90   \n",
       "\n",
       "   total_acc  out_prncp  out_prncp_inv   total_pymnt  total_pymnt_inv  \\\n",
       "0          9       0.00           0.00   5863.155187          5833.84   \n",
       "1          4       0.00           0.00   1008.710000          1008.71   \n",
       "2         10       0.00           0.00   3005.666844          3005.67   \n",
       "3         37       0.00           0.00  12231.890000         12231.89   \n",
       "4         38     524.06         524.06   3513.330000          3513.33   \n",
       "\n",
       "   total_rec_prncp  total_rec_int  total_rec_late_fee  recoveries  \\\n",
       "0          5000.00         863.16                0.00        0.00   \n",
       "1           456.46         435.17                0.00      117.08   \n",
       "2          2400.00         605.67                0.00        0.00   \n",
       "3         10000.00        2214.92               16.97        0.00   \n",
       "4          2475.94        1037.39                0.00        0.00   \n",
       "\n",
       "   collection_recovery_fee last_pymnt_d  last_pymnt_amnt last_credit_pull_d  \\\n",
       "0                     0.00       Jan-15           171.62             May-16   \n",
       "1                     1.11       Apr-13           119.66             Sep-13   \n",
       "2                     0.00       Jun-14           649.91             May-16   \n",
       "3                     0.00       Jan-15           357.48             Apr-16   \n",
       "4                     0.00       May-16            67.79             May-16   \n",
       "\n",
       "  pub_rec_bankruptcies  \n",
       "0                    0  \n",
       "1                    0  \n",
       "2                    0  \n",
       "3                    0  \n",
       "4                    0  "
      ]
     },
     "execution_count": 24,
     "metadata": {},
     "output_type": "execute_result"
    }
   ],
   "source": [
    "# We can see that employment length for 10 years or more has maximum counts but replacing with this value would be impractical.\n",
    "# So Lets fill null values in employment length with 0 and format employment length column to have only numbers.\n",
    "# Further only small percentage of values are replaced so it should not effect our results.\n",
    "df.emp_length.fillna('0',inplace=True)\n",
    "df['emp_length']=df.emp_length.str.extract('(\\d+)')\n",
    "\n",
    "# Lets fill null values in public record bankruptcies with not known\n",
    "df.pub_rec_bankruptcies.fillna('Not Known',inplace=True)\n",
    "\n",
    "# Lets fill null values in revol_util with its mode\n",
    "df.revol_util.fillna('0' , inplace = True)\n",
    "\n",
    "# Lets remove % symbol from intrest rate column so that it can be used in calculations\n",
    "df['revol_util'] = df['revol_util'].str.rstrip('%')\n",
    "\n",
    "# Lets remove % symbol from intrest rate column so that it can be used in calculations\n",
    "df['int_rate'] = df['int_rate'].str.rstrip('%')\n",
    "\n",
    "df.head()"
   ]
  },
  {
   "cell_type": "code",
   "execution_count": 25,
   "metadata": {},
   "outputs": [
    {
     "name": "stdout",
     "output_type": "stream",
     "text": [
      " 36 months    29096\n",
      " 60 months    10621\n",
      "Name: term, dtype: int64\n",
      "-------------------------\n",
      "10.99    956\n",
      "13.49    826\n",
      "11.49    825\n",
      "7.51     787\n",
      "7.88     725\n",
      "        ... \n",
      "18.72      1\n",
      "22.64      1\n",
      "21.48      1\n",
      "16.96      1\n",
      "17.46      1\n",
      "Name: int_rate, Length: 371, dtype: int64\n",
      "-------------------------\n",
      "B    12020\n",
      "A    10085\n",
      "C     8098\n",
      "D     5307\n",
      "E     2842\n",
      "F     1049\n",
      "G      316\n",
      "Name: grade, dtype: int64\n",
      "-------------------------\n",
      "B3    2917\n",
      "A4    2886\n",
      "A5    2742\n",
      "B5    2704\n",
      "B4    2512\n",
      "C1    2136\n",
      "B2    2057\n",
      "C2    2011\n",
      "B1    1830\n",
      "A3    1810\n",
      "C3    1529\n",
      "A2    1508\n",
      "D2    1348\n",
      "C4    1236\n",
      "C5    1186\n",
      "D3    1173\n",
      "A1    1139\n",
      "D4     981\n",
      "D1     931\n",
      "D5     874\n",
      "E1     763\n",
      "E2     656\n",
      "E3     553\n",
      "E4     454\n",
      "E5     416\n",
      "F1     329\n",
      "F2     249\n",
      "F3     185\n",
      "F4     168\n",
      "F5     118\n",
      "G1     104\n",
      "G2      78\n",
      "G4      56\n",
      "G3      48\n",
      "G5      30\n",
      "Name: sub_grade, dtype: int64\n",
      "-------------------------\n",
      "US Army                             134\n",
      "Bank of America                     109\n",
      "IBM                                  66\n",
      "AT&T                                 59\n",
      "Kaiser Permanente                    56\n",
      "                                   ... \n",
      "SonicWALL Inc                         1\n",
      "LukOil                                1\n",
      "Armed Forces Academy Bank             1\n",
      "Florida house of representatives      1\n",
      "Loudon County Schools                 1\n",
      "Name: emp_title, Length: 28820, dtype: int64\n",
      "-------------------------\n",
      "10    8879\n",
      "1     7823\n",
      "2     4388\n",
      "3     4095\n",
      "4     3436\n",
      "5     3282\n",
      "6     2229\n",
      "7     1773\n",
      "8     1479\n",
      "9     1258\n",
      "0     1075\n",
      "Name: emp_length, dtype: int64\n",
      "-------------------------\n",
      "RENT        18899\n",
      "MORTGAGE    17659\n",
      "OWN          3058\n",
      "OTHER          98\n",
      "NONE            3\n",
      "Name: home_ownership, dtype: int64\n",
      "-------------------------\n",
      "Not Verified       16921\n",
      "Verified           12809\n",
      "Source Verified     9987\n",
      "Name: verification_status, dtype: int64\n",
      "-------------------------\n",
      "Dec-11    2260\n",
      "Nov-11    2223\n",
      "Oct-11    2114\n",
      "Sep-11    2063\n",
      "Aug-11    1928\n",
      "Jul-11    1870\n",
      "Jun-11    1827\n",
      "May-11    1689\n",
      "Apr-11    1562\n",
      "Mar-11    1443\n",
      "Jan-11    1380\n",
      "Feb-11    1297\n",
      "Dec-10    1267\n",
      "Oct-10    1132\n",
      "Nov-10    1121\n",
      "Jul-10    1119\n",
      "Sep-10    1086\n",
      "Aug-10    1078\n",
      "Jun-10    1029\n",
      "May-10     920\n",
      "Apr-10     827\n",
      "Mar-10     737\n",
      "Feb-10     627\n",
      "Nov-09     602\n",
      "Dec-09     598\n",
      "Jan-10     589\n",
      "Oct-09     545\n",
      "Sep-09     449\n",
      "Aug-09     408\n",
      "Jul-09     374\n",
      "Jun-09     356\n",
      "May-09     319\n",
      "Apr-09     290\n",
      "Mar-09     276\n",
      "Feb-09     260\n",
      "Jan-09     239\n",
      "Mar-08     236\n",
      "Dec-08     223\n",
      "Nov-08     184\n",
      "Feb-08     174\n",
      "Jan-08     171\n",
      "Apr-08     155\n",
      "Oct-08      96\n",
      "Dec-07      85\n",
      "Jul-08      83\n",
      "Aug-08      71\n",
      "May-08      71\n",
      "Jun-08      66\n",
      "Oct-07      47\n",
      "Nov-07      37\n",
      "Aug-07      33\n",
      "Sep-08      32\n",
      "Jul-07      30\n",
      "Sep-07      18\n",
      "Jun-07       1\n",
      "Name: issue_d, dtype: int64\n",
      "-------------------------\n",
      "Fully Paid     32950\n",
      "Charged Off     5627\n",
      "Current         1140\n",
      "Name: loan_status, dtype: int64\n",
      "-------------------------\n",
      "https://lendingclub.com/browse/loanDetail.action?loan_id=766212     1\n",
      "https://lendingclub.com/browse/loanDetail.action?loan_id=755705     1\n",
      "https://lendingclub.com/browse/loanDetail.action?loan_id=449671     1\n",
      "https://lendingclub.com/browse/loanDetail.action?loan_id=347936     1\n",
      "https://lendingclub.com/browse/loanDetail.action?loan_id=971529     1\n",
      "                                                                   ..\n",
      "https://lendingclub.com/browse/loanDetail.action?loan_id=882067     1\n",
      "https://lendingclub.com/browse/loanDetail.action?loan_id=1056374    1\n",
      "https://lendingclub.com/browse/loanDetail.action?loan_id=385291     1\n",
      "https://lendingclub.com/browse/loanDetail.action?loan_id=780124     1\n",
      "https://lendingclub.com/browse/loanDetail.action?loan_id=605373     1\n",
      "Name: url, Length: 39717, dtype: int64\n",
      "-------------------------\n",
      "debt_consolidation    18641\n",
      "credit_card            5130\n",
      "other                  3993\n",
      "home_improvement       2976\n",
      "major_purchase         2187\n",
      "small_business         1828\n",
      "car                    1549\n",
      "wedding                 947\n",
      "medical                 693\n",
      "moving                  583\n",
      "vacation                381\n",
      "house                   381\n",
      "educational             325\n",
      "renewable_energy        103\n",
      "Name: purpose, dtype: int64\n",
      "-------------------------\n",
      "Debt Consolidation                     2184\n",
      "Debt Consolidation Loan                1729\n",
      "Personal Loan                           659\n",
      "Consolidation                           517\n",
      "debt consolidation                      505\n",
      "                                       ... \n",
      "STUDENT. BUYING CAR OFF FREIND.  :]       1\n",
      "personal home loan                        1\n",
      "Servers                                   1\n",
      "Windows/Doors and RV Gate                 1\n",
      "Natural gas project                       1\n",
      "Name: title, Length: 19615, dtype: int64\n",
      "-------------------------\n",
      "100xx    597\n",
      "945xx    545\n",
      "112xx    516\n",
      "606xx    503\n",
      "070xx    473\n",
      "        ... \n",
      "375xx      1\n",
      "369xx      1\n",
      "965xx      1\n",
      "162xx      1\n",
      "689xx      1\n",
      "Name: zip_code, Length: 823, dtype: int64\n",
      "-------------------------\n",
      "CA    7099\n",
      "NY    3812\n",
      "FL    2866\n",
      "TX    2727\n",
      "NJ    1850\n",
      "IL    1525\n",
      "PA    1517\n",
      "VA    1407\n",
      "GA    1398\n",
      "MA    1340\n",
      "OH    1223\n",
      "MD    1049\n",
      "AZ     879\n",
      "WA     840\n",
      "CO     792\n",
      "NC     788\n",
      "CT     751\n",
      "MI     720\n",
      "MO     686\n",
      "MN     615\n",
      "NV     497\n",
      "SC     472\n",
      "WI     460\n",
      "AL     452\n",
      "OR     451\n",
      "LA     436\n",
      "KY     325\n",
      "OK     299\n",
      "KS     271\n",
      "UT     258\n",
      "AR     245\n",
      "DC     214\n",
      "RI     198\n",
      "NM     189\n",
      "WV     177\n",
      "HI     174\n",
      "NH     171\n",
      "DE     114\n",
      "MT      85\n",
      "WY      83\n",
      "AK      80\n",
      "SD      64\n",
      "VT      54\n",
      "MS      19\n",
      "TN      17\n",
      "IN       9\n",
      "ID       6\n",
      "NE       5\n",
      "IA       5\n",
      "ME       3\n",
      "Name: addr_state, dtype: int64\n",
      "-------------------------\n",
      "Nov-98    370\n",
      "Oct-99    366\n",
      "Dec-98    348\n",
      "Oct-00    346\n",
      "Dec-97    329\n",
      "         ... \n",
      "Oct-08      1\n",
      "Dec-66      1\n",
      "Sep-63      1\n",
      "Oct-74      1\n",
      "Nov-68      1\n",
      "Name: earliest_cr_line, Length: 526, dtype: int64\n",
      "-------------------------\n",
      "0        1027\n",
      "0.20       63\n",
      "63         62\n",
      "40.70      58\n",
      "66.70      58\n",
      "         ... \n",
      "21.59       1\n",
      "70.26       1\n",
      "0.86        1\n",
      "0.16        1\n",
      "24.63       1\n",
      "Name: revol_util, Length: 1089, dtype: int64\n",
      "-------------------------\n",
      "May-16    1256\n",
      "Mar-13    1026\n",
      "Dec-14     945\n",
      "May-13     907\n",
      "Feb-13     869\n",
      "          ... \n",
      "Nov-08      10\n",
      "Jun-08      10\n",
      "Mar-08       5\n",
      "Jan-08       4\n",
      "Feb-08       1\n",
      "Name: last_pymnt_d, Length: 101, dtype: int64\n",
      "-------------------------\n",
      "May-16    10308\n",
      "Apr-16     2547\n",
      "Mar-16     1123\n",
      "Feb-13      843\n",
      "Feb-16      736\n",
      "          ...  \n",
      "Jun-08        1\n",
      "Jul-07        1\n",
      "May-08        1\n",
      "May-07        1\n",
      "Jul-08        1\n",
      "Name: last_credit_pull_d, Length: 106, dtype: int64\n",
      "-------------------------\n",
      "0.0          37339\n",
      "1.0           1674\n",
      "Not Known      697\n",
      "2.0              7\n",
      "Name: pub_rec_bankruptcies, dtype: int64\n",
      "-------------------------\n"
     ]
    }
   ],
   "source": [
    "# Checking every column by running a for loop on top of 'object' columns.\n",
    "for i in df.columns[df.dtypes == 'object']:\n",
    "    print(df[i].value_counts())\n",
    "    print('-------------------------')"
   ]
  },
  {
   "cell_type": "markdown",
   "metadata": {},
   "source": [
    "###### Dropping Columns that doesn't add value to our objective\n",
    " \n",
    "Now we are left with 44 columns after removing columns with more than 30% null values and dropping single valued columns.\n",
    "\n",
    "* Our objective is to identify driving factors behind loan defaulters. \n",
    "* Now in these 44 columns, there are several columns that would not add value to our analyis. \n",
    "* So we can safely remove such columns like 'id', 'member_id', 'url', 'title', 'emp_title', 'zip_code', 'addr_state' as these   features doesn't contribute to loan defaulting in any way.\n",
    "* Further Columns like 'acc_now_delinq', 'chargeoff_within_12_mths', 'collection_recovery_fee', 'collections_12_mths_ex_med', 'delinq_amnt', 'policy_code', 'tax_liens' are not so useful columns as seen in above column examination."
   ]
  },
  {
   "cell_type": "code",
   "execution_count": 26,
   "metadata": {},
   "outputs": [
    {
     "data": {
      "text/plain": [
       "(39717, 37)"
      ]
     },
     "execution_count": 26,
     "metadata": {},
     "output_type": "execute_result"
    }
   ],
   "source": [
    "# After carefully observing the above output, we are dropping certain columns which are insignificant to our objective of analysis\n",
    "\n",
    "df.drop(['member_id', 'url', 'emp_title','title', 'zip_code', 'addr_state', 'collection_recovery_fee'],axis=1,inplace=True)\n",
    "df.shape"
   ]
  },
  {
   "cell_type": "code",
   "execution_count": 27,
   "metadata": {},
   "outputs": [
    {
     "name": "stdout",
     "output_type": "stream",
     "text": [
      "<class 'pandas.core.frame.DataFrame'>\n",
      "RangeIndex: 39717 entries, 0 to 39716\n",
      "Data columns (total 37 columns):\n",
      " #   Column                Non-Null Count  Dtype  \n",
      "---  ------                --------------  -----  \n",
      " 0   id                    39717 non-null  int64  \n",
      " 1   loan_amnt             39717 non-null  int64  \n",
      " 2   funded_amnt           39717 non-null  int64  \n",
      " 3   funded_amnt_inv       39717 non-null  float64\n",
      " 4   term                  39717 non-null  object \n",
      " 5   int_rate              39717 non-null  object \n",
      " 6   installment           39717 non-null  float64\n",
      " 7   grade                 39717 non-null  object \n",
      " 8   sub_grade             39717 non-null  object \n",
      " 9   emp_length            39717 non-null  object \n",
      " 10  home_ownership        39717 non-null  object \n",
      " 11  annual_inc            39717 non-null  float64\n",
      " 12  verification_status   39717 non-null  object \n",
      " 13  issue_d               39717 non-null  object \n",
      " 14  loan_status           39717 non-null  object \n",
      " 15  purpose               39717 non-null  object \n",
      " 16  dti                   39717 non-null  float64\n",
      " 17  delinq_2yrs           39717 non-null  int64  \n",
      " 18  earliest_cr_line      39717 non-null  object \n",
      " 19  inq_last_6mths        39717 non-null  int64  \n",
      " 20  open_acc              39717 non-null  int64  \n",
      " 21  pub_rec               39717 non-null  int64  \n",
      " 22  revol_bal             39717 non-null  int64  \n",
      " 23  revol_util            39717 non-null  object \n",
      " 24  total_acc             39717 non-null  int64  \n",
      " 25  out_prncp             39717 non-null  float64\n",
      " 26  out_prncp_inv         39717 non-null  float64\n",
      " 27  total_pymnt           39717 non-null  float64\n",
      " 28  total_pymnt_inv       39717 non-null  float64\n",
      " 29  total_rec_prncp       39717 non-null  float64\n",
      " 30  total_rec_int         39717 non-null  float64\n",
      " 31  total_rec_late_fee    39717 non-null  float64\n",
      " 32  recoveries            39717 non-null  float64\n",
      " 33  last_pymnt_d          39646 non-null  object \n",
      " 34  last_pymnt_amnt       39717 non-null  float64\n",
      " 35  last_credit_pull_d    39715 non-null  object \n",
      " 36  pub_rec_bankruptcies  39717 non-null  object \n",
      "dtypes: float64(13), int64(9), object(15)\n",
      "memory usage: 11.2+ MB\n"
     ]
    }
   ],
   "source": [
    "df.info()"
   ]
  },
  {
   "cell_type": "code",
   "execution_count": 28,
   "metadata": {},
   "outputs": [],
   "source": [
    "# Converting some numeric columns from object (as it contained associated symbols) to numeric for further analysis\n",
    "\n",
    "cols1 = ['int_rate','emp_length', 'revol_util']\n",
    "df[cols1] = df[cols1].apply(pd.to_numeric)"
   ]
  },
  {
   "cell_type": "markdown",
   "metadata": {},
   "source": [
    "### Outlier Treatment\n",
    "###### Outliers must be removed as it adversely affect our results"
   ]
  },
  {
   "cell_type": "code",
   "execution_count": 29,
   "metadata": {},
   "outputs": [
    {
     "data": {
      "image/png": "[encoded data removed]",
      "text/plain": [
       "<Figure size 432x288 with 1 Axes>"
      ]
     },
     "metadata": {
      "needs_background": "light"
     },
     "output_type": "display_data"
    }
   ],
   "source": [
    "# best method for analysing outliers is boxplot\n",
    "sns.boxplot(df['loan_amnt'])\n",
    "plt.show()"
   ]
  },
  {
   "cell_type": "markdown",
   "metadata": {},
   "source": [
    "* It s clearly observed that outliers are present and it should be removed.\n",
    "* We can take an appropriate action through quantile information\n",
    "* Considering 5% threshold for removing outliers"
   ]
  },
  {
   "cell_type": "code",
   "execution_count": 30,
   "metadata": {},
   "outputs": [
    {
     "data": {
      "image/png": "[encoded data removed]",
      "text/plain": [
       "<Figure size 432x288 with 1 Axes>"
      ]
     },
     "metadata": {
      "needs_background": "light"
     },
     "output_type": "display_data"
    }
   ],
   "source": [
    "df = df[df['loan_amnt'] < df['loan_amnt'].quantile(0.95)]\n",
    "sns.boxplot(df['loan_amnt'])\n",
    "plt.show()"
   ]
  },
  {
   "cell_type": "markdown",
   "metadata": {},
   "source": [
    "Observation\n",
    "* It can be observed that outliers are significantly reduced.\n",
    "* Similar treatment can be applied to other columns comprising numerical values"
   ]
  },
  {
   "cell_type": "code",
   "execution_count": 31,
   "metadata": {},
   "outputs": [
    {
     "data": {
      "image/png": "[encoded data removed]",
      "text/plain": [
       "<Figure size 432x288 with 1 Axes>"
      ]
     },
     "metadata": {
      "needs_background": "light"
     },
     "output_type": "display_data"
    }
   ],
   "source": [
    "sns.boxplot(df['funded_amnt'])\n",
    "plt.show()"
   ]
  },
  {
   "cell_type": "code",
   "execution_count": 32,
   "metadata": {},
   "outputs": [
    {
     "data": {
      "image/png": "[encoded data removed]",
      "text/plain": [
       "<Figure size 432x288 with 1 Axes>"
      ]
     },
     "metadata": {
      "needs_background": "light"
     },
     "output_type": "display_data"
    }
   ],
   "source": [
    "sns.boxplot(df['annual_inc'])\n",
    "plt.show()"
   ]
  },
  {
   "cell_type": "code",
   "execution_count": 33,
   "metadata": {},
   "outputs": [
    {
     "data": {
      "image/png": "[encoded data removed]",
      "text/plain": [
       "<Figure size 432x288 with 1 Axes>"
      ]
     },
     "metadata": {
      "needs_background": "light"
     },
     "output_type": "display_data"
    }
   ],
   "source": [
    "df = df[df['annual_inc'] < df['annual_inc'].quantile(0.95)]\n",
    "sns.boxplot(df['annual_inc'])\n",
    "plt.show()"
   ]
  },
  {
   "cell_type": "code",
   "execution_count": 34,
   "metadata": {},
   "outputs": [
    {
     "data": {
      "image/png": "[encoded data removed]",
      "text/plain": [
       "<Figure size 432x288 with 1 Axes>"
      ]
     },
     "metadata": {
      "needs_background": "light"
     },
     "output_type": "display_data"
    }
   ],
   "source": [
    "sns.boxplot(df['int_rate'])\n",
    "plt.show()"
   ]
  },
  {
   "cell_type": "code",
   "execution_count": 35,
   "metadata": {},
   "outputs": [
    {
     "data": {
      "image/png": "[encoded data removed]",
      "text/plain": [
       "<Figure size 432x288 with 1 Axes>"
      ]
     },
     "metadata": {
      "needs_background": "light"
     },
     "output_type": "display_data"
    }
   ],
   "source": [
    "df = df[df['int_rate'] < df['int_rate'].quantile(0.95)]\n",
    "sns.boxplot(df['int_rate'])\n",
    "plt.show()"
   ]
  },
  {
   "cell_type": "code",
   "execution_count": 36,
   "metadata": {},
   "outputs": [
    {
     "data": {
      "image/png": "[encoded data removed]",
      "text/plain": [
       "<Figure size 432x288 with 1 Axes>"
      ]
     },
     "metadata": {
      "needs_background": "light"
     },
     "output_type": "display_data"
    }
   ],
   "source": [
    "sns.boxplot(df['total_pymnt'])\n",
    "plt.show()"
   ]
  },
  {
   "cell_type": "code",
   "execution_count": 37,
   "metadata": {},
   "outputs": [
    {
     "data": {
      "image/png": "[encoded data removed]",
      "text/plain": [
       "<Figure size 432x288 with 1 Axes>"
      ]
     },
     "metadata": {
      "needs_background": "light"
     },
     "output_type": "display_data"
    }
   ],
   "source": [
    "df = df[df['total_pymnt'] < df['total_pymnt'].quantile(0.95)]\n",
    "sns.boxplot(df['total_pymnt'])\n",
    "plt.show()"
   ]
  },
  {
   "cell_type": "markdown",
   "metadata": {},
   "source": [
    "#### After Data cleaning lets have a look towards our objective "
   ]
  },
  {
   "cell_type": "code",
   "execution_count": 38,
   "metadata": {},
   "outputs": [
    {
     "data": {
      "text/plain": [
       "Fully Paid     26498\n",
       "Charged Off     4291\n",
       "Current          536\n",
       "Name: loan_status, dtype: int64"
      ]
     },
     "execution_count": 38,
     "metadata": {},
     "output_type": "execute_result"
    }
   ],
   "source": [
    "df['loan_status'] = df['loan_status'].astype('category')\n",
    "df['loan_status'].value_counts()"
   ]
  },
  {
   "cell_type": "code",
   "execution_count": 39,
   "metadata": {},
   "outputs": [
    {
     "data": {
      "text/plain": [
       "Fully Paid     84.590583\n",
       "Charged Off    13.698324\n",
       "Current         1.711093\n",
       "Name: loan_status, dtype: float64"
      ]
     },
     "execution_count": 39,
     "metadata": {},
     "output_type": "execute_result"
    }
   ],
   "source": [
    "(df.loan_status.value_counts()*100)/len(df)"
   ]
  },
  {
   "cell_type": "markdown",
   "metadata": {},
   "source": [
    "##### We can see that fully paid comprises 84.5% and defaulters are 13.6%.\n",
    "###### The 'current' ones are neither fully paid not defaulted, so let's get rid of the current loans as this wont contribute to our analysis "
   ]
  },
  {
   "cell_type": "code",
   "execution_count": 40,
   "metadata": {},
   "outputs": [
    {
     "data": {
      "text/plain": [
       "Fully Paid     26498\n",
       "Charged Off     4291\n",
       "Current            0\n",
       "Name: loan_status, dtype: int64"
      ]
     },
     "execution_count": 40,
     "metadata": {},
     "output_type": "execute_result"
    }
   ],
   "source": [
    "df = df[df['loan_status'] != 'Current']\n",
    "df['loan_status'].value_counts()"
   ]
  },
  {
   "cell_type": "markdown",
   "metadata": {},
   "source": [
    "# Univariate Analysis"
   ]
  },
  {
   "cell_type": "markdown",
   "metadata": {},
   "source": [
    "###### Lets take a look on some of the important variables that concerns our objective"
   ]
  },
  {
   "cell_type": "markdown",
   "metadata": {},
   "source": [
    "##### Quantitative Variables"
   ]
  },
  {
   "cell_type": "code",
   "execution_count": 41,
   "metadata": {},
   "outputs": [
    {
     "data": {
      "image/png": "[encoded data removed]",
      "text/plain": [
       "<Figure size 1080x576 with 3 Axes>"
      ]
     },
     "metadata": {
      "needs_background": "light"
     },
     "output_type": "display_data"
    }
   ],
   "source": [
    "plt.figure(figsize=(15,8))\n",
    "# subplot 1\n",
    "plt.subplot(2, 3, 1)\n",
    "ax = sns.distplot(df['loan_amnt'],rug = True)\n",
    "plt.title('Loan Amount - Distribution Plot')\n",
    "\n",
    "# subplot 2\n",
    "plt.subplot(2, 3, 2)\n",
    "ax = sns.distplot(df['funded_amnt'],rug = True)\n",
    "plt.title('Funded Amount - Distribution Plot')\n",
    "\n",
    "# subplot 3\n",
    "plt.subplot(2, 3, 3)\n",
    "ax = sns.distplot(df['funded_amnt_inv'],rug = True)\n",
    "plt.title('Funded Amount Inv. - Distribution Plot')\n",
    "\n",
    "plt.show()"
   ]
  },
  {
   "cell_type": "markdown",
   "metadata": {},
   "source": [
    "Observation: \n",
    "* Distribution of amounts for Loan Amount, Funded Amount and Funded Amount Investment looks very much similar.\n",
    "* Hence, we can work with only loan amount column for rest of our analysis"
   ]
  },
  {
   "cell_type": "code",
   "execution_count": 42,
   "metadata": {},
   "outputs": [
    {
     "data": {
      "image/png": "[encoded data removed]",
      "text/plain": [
       "<Figure size 1080x576 with 3 Axes>"
      ]
     },
     "metadata": {
      "needs_background": "light"
     },
     "output_type": "display_data"
    }
   ],
   "source": [
    "plt.figure(figsize=(15,8))\n",
    "# subplot 1\n",
    "plt.subplot(2, 3, 1)\n",
    "ax = sns.distplot(df['annual_inc'],rug = True)\n",
    "plt.title('Annual Income - Distribution Plot')\n",
    "\n",
    "# subplot 2\n",
    "plt.subplot(2, 3, 2)\n",
    "ax = sns.distplot(df['total_pymnt'],rug = True)\n",
    "plt.title('Total Payment - Distribution Plot')\n",
    "\n",
    "# subplot 3\n",
    "plt.subplot(2, 3, 3)\n",
    "ax = sns.distplot(df['int_rate'],rug = True)\n",
    "plt.title('Interest Rate - Distribution Plot')\n",
    "\n",
    "plt.show()"
   ]
  },
  {
   "cell_type": "markdown",
   "metadata": {},
   "source": [
    "Observation (This can be observed in above box plot as well)\n",
    "* Maxium loan applicants have their annual income in range 30000-80000\n",
    "* Most of the total payment are in range of 5000-13000\n",
    "* Most of the Interest Rates on loans are in range of 10% - 15%"
   ]
  },
  {
   "cell_type": "markdown",
   "metadata": {},
   "source": [
    "## Segemnted Univariate Analysis"
   ]
  },
  {
   "cell_type": "markdown",
   "metadata": {},
   "source": [
    "##### Unordered Categorical Variables"
   ]
  },
  {
   "cell_type": "code",
   "execution_count": 43,
   "metadata": {},
   "outputs": [
    {
     "data": {
      "text/plain": [
       "debt_consolidation    45.152490\n",
       "credit_card           13.219007\n",
       "other                 10.877261\n",
       "home_improvement       6.947286\n",
       "major_purchase         6.122316\n",
       "car                    4.524343\n",
       "small_business         3.816298\n",
       "wedding                2.543116\n",
       "medical                1.900029\n",
       "moving                 1.623957\n",
       "vacation               1.133522\n",
       "educational            0.980870\n",
       "house                  0.893176\n",
       "renewable_energy       0.266329\n",
       "Name: purpose, dtype: float64"
      ]
     },
     "execution_count": 43,
     "metadata": {},
     "output_type": "execute_result"
    }
   ],
   "source": [
    "# Purpose of loan\n",
    "\n",
    "(df.purpose.value_counts()*100)/len(df)"
   ]
  },
  {
   "cell_type": "code",
   "execution_count": 44,
   "metadata": {},
   "outputs": [
    {
     "data": {
      "image/png": "[encoded data removed]",
      "text/plain": [
       "<Figure size 432x288 with 1 Axes>"
      ]
     },
     "metadata": {
      "needs_background": "light"
     },
     "output_type": "display_data"
    }
   ],
   "source": [
    "ax = sns.countplot(x=\"purpose\",data=df,hue='loan_status')\n",
    "plt.xticks(rotation=90)\n",
    "h,l = ax.get_legend_handles_labels()\n",
    "labels=['Charged Off', 'Current','Fully Paid']\n",
    "ax.legend(h,labels,title='Status')   \n",
    "plt.show()"
   ]
  },
  {
   "cell_type": "markdown",
   "metadata": {},
   "source": [
    "Observations\n",
    "* Most of the loans taken for debt consolidation(45.15%) and Credit card bill payment (13.21%)\n",
    "* Other (10.8%) is also one of the main area where loans were taken and then the home improvement is another major reason (6.94%)"
   ]
  },
  {
   "cell_type": "code",
   "execution_count": 45,
   "metadata": {},
   "outputs": [
    {
     "data": {
      "image/png": "[encoded data removed]",
      "text/plain": [
       "<Figure size 432x288 with 1 Axes>"
      ]
     },
     "metadata": {
      "needs_background": "light"
     },
     "output_type": "display_data"
    }
   ],
   "source": [
    "# Home Ownership\n",
    "\n",
    "ax = sns.countplot(x=\"home_ownership\",data=df,hue='loan_status')\n",
    "plt.xticks(rotation=45)\n",
    "ax.legend(bbox_to_anchor=(1, 1))\n",
    "h,l = ax.get_legend_handles_labels()\n",
    "labels=['Charged Off', 'Current','Fully Paid']\n",
    "ax.legend(h,labels,title='Status')   \n",
    "plt.show()"
   ]
  },
  {
   "cell_type": "markdown",
   "metadata": {},
   "source": [
    "Observations :\n",
    "* Above plot shows that the applicant numbers are highest for those living in rented home \n",
    "* Next Highest applicants are those who mortgazed their home.\n",
    "* Others have least numbers of applicants."
   ]
  },
  {
   "cell_type": "code",
   "execution_count": 46,
   "metadata": {},
   "outputs": [
    {
     "data": {
      "image/png": "[encoded data removed]",
      "text/plain": [
       "<Figure size 432x288 with 1 Axes>"
      ]
     },
     "metadata": {
      "needs_background": "light"
     },
     "output_type": "display_data"
    }
   ],
   "source": [
    "# Loan Grade \n",
    "\n",
    "ax = sns.countplot(x=\"grade\",data=df,hue='loan_status')\n",
    "plt.xticks(rotation=0)\n",
    "h,l = ax.get_legend_handles_labels()\n",
    "labels=['Charged Off', 'Current','Fully Paid']\n",
    "ax.legend(h,labels,title='Status')   \n",
    "plt.show()"
   ]
  },
  {
   "cell_type": "markdown",
   "metadata": {},
   "source": [
    "Observations\n",
    "* Number of loan applications is maximum for grade A and B. \n",
    "* Loan defaulters are comparatively less for grade A. \n",
    "* Number of loan applications then gradually decreases from B to F."
   ]
  },
  {
   "cell_type": "code",
   "execution_count": 47,
   "metadata": {},
   "outputs": [
    {
     "data": {
      "image/png": "[encoded data removed]",
      "text/plain": [
       "<Figure size 1008x432 with 1 Axes>"
      ]
     },
     "metadata": {
      "needs_background": "light"
     },
     "output_type": "display_data"
    }
   ],
   "source": [
    "# Loan Sub Grade \n",
    "plt.figure(figsize=(14,6))\n",
    "ax = sns.countplot(x=\"sub_grade\",data=df,hue='loan_status')\n",
    "plt.xticks(rotation=90)\n",
    "h,l = ax.get_legend_handles_labels()\n",
    "labels=['Charged Off', 'Current','Fully Paid']\n",
    "ax.legend(h,labels,title='Status')   \n",
    "plt.show()"
   ]
  },
  {
   "cell_type": "markdown",
   "metadata": {},
   "source": [
    "Count of Loan applicants reduces from subgrades A to subgrades F"
   ]
  },
  {
   "cell_type": "markdown",
   "metadata": {},
   "source": [
    "##### Ordered Categorical Variables"
   ]
  },
  {
   "cell_type": "code",
   "execution_count": 48,
   "metadata": {},
   "outputs": [],
   "source": [
    "# Derive month and year columns separately using existing data to use it for further analysis.\n",
    "\n",
    "df.issue_d = pd.to_datetime(df.issue_d, format='%b-%y')\n",
    "df['year']=df['issue_d'].dt.year\n",
    "df['month']=df['issue_d'].dt.month"
   ]
  },
  {
   "cell_type": "code",
   "execution_count": 49,
   "metadata": {},
   "outputs": [
    {
     "data": {
      "image/png": "[encoded data removed]",
      "text/plain": [
       "<Figure size 1008x432 with 1 Axes>"
      ]
     },
     "metadata": {
      "needs_background": "light"
     },
     "output_type": "display_data"
    }
   ],
   "source": [
    "# Number of loans which were approved every year/month\n",
    "\n",
    "plt.figure(figsize=(14,6))\n",
    "df.groupby(['year','month']).id.count().plot(kind='bar')\n",
    "h,l = ax.get_legend_handles_labels()\n",
    "labels=['Charged Off', 'Fully Paid']\n",
    "ax.legend(h,labels,title='Status')   \n",
    "plt.show()"
   ]
  },
  {
   "cell_type": "markdown",
   "metadata": {},
   "source": [
    "Observation \n",
    "* There is increase in count of loan application with each passing year.\n",
    "* Above observation holds true except for May-October in the year 2008, reason for this can be recession. \n",
    "* Hence, increase in number of loan applications will add to increased number of charged off applications."
   ]
  },
  {
   "cell_type": "code",
   "execution_count": 50,
   "metadata": {},
   "outputs": [
    {
     "data": {
      "image/png": "[encoded data removed]",
      "text/plain": [
       "<Figure size 432x288 with 1 Axes>"
      ]
     },
     "metadata": {
      "needs_background": "light"
     },
     "output_type": "display_data"
    }
   ],
   "source": [
    "# Loan Paying Terms\n",
    "ax = sns.countplot(x=\"term\",data=df,hue='loan_status')\n",
    "h,l = ax.get_legend_handles_labels()\n",
    "labels=['Charged Off', 'Current','Fully Paid']\n",
    "ax.legend(h,labels,title='Status')   \n",
    "plt.show()"
   ]
  },
  {
   "cell_type": "markdown",
   "metadata": {},
   "source": [
    "Observations :\n",
    "* The plot suggests that loan repayment term of 36 months has higher count of loan applicant as compared to loan repayment term of 60 months."
   ]
  },
  {
   "cell_type": "code",
   "execution_count": 51,
   "metadata": {},
   "outputs": [
    {
     "data": {
      "image/png": "[encoded data removed]",
      "text/plain": [
       "<Figure size 432x288 with 1 Axes>"
      ]
     },
     "metadata": {
      "needs_background": "light"
     },
     "output_type": "display_data"
    }
   ],
   "source": [
    "# verification_status\n",
    "ax = sns.countplot(x=\"verification_status\",data=df,hue='loan_status')\n",
    "h,l = ax.get_legend_handles_labels()\n",
    "labels=['Charged Off', 'Current','Fully Paid']\n",
    "ax.legend(h,labels,title='Loan Status')   \n",
    "plt.show()"
   ]
  },
  {
   "cell_type": "markdown",
   "metadata": {},
   "source": [
    "Observation \n",
    "* Not verified loan applications are highest in numbers\n",
    "* Verified loan applications are less in numbers"
   ]
  },
  {
   "cell_type": "code",
   "execution_count": 52,
   "metadata": {},
   "outputs": [
    {
     "data": {
      "image/png": "[encoded data removed]",
      "text/plain": [
       "<Figure size 432x288 with 1 Axes>"
      ]
     },
     "metadata": {
      "needs_background": "light"
     },
     "output_type": "display_data"
    }
   ],
   "source": [
    "# Employment Length\n",
    "ax = sns.countplot(x=\"emp_length\",data=df,hue='loan_status')\n",
    "h,l = ax.get_legend_handles_labels()\n",
    "labels=['Charged Off', 'Current','Fully Paid']\n",
    "ax.legend(h,labels,title='Loan Status')   \n",
    "plt.show()"
   ]
  },
  {
   "cell_type": "markdown",
   "metadata": {},
   "source": [
    "Observation\n",
    "* Less count of loan applications is seen for employment length less than an year\n",
    "* Maximum count of laon applicants are observed for employment length of 1 year, hence maximum defaulters as well\n",
    "* And this count of loan applications gradually reduces from employment length of 2 year to 9 year.\n",
    "* Then Surge in count of loan applications is observed for employment length 10 years+\n",
    "* Reason for huge loan application for employment length of 1 year can be debt_consolidation which contributes 45% to loan purpose\n",
    "* Reason for huge loan application for employment length of 10+ year can be numerous like home improvement, major purchase, etc.\n",
    "* Further, 10+ year buckets covers remaining employment length so has huge count"
   ]
  },
  {
   "cell_type": "markdown",
   "metadata": {},
   "source": [
    "# Bivariate Analysis"
   ]
  },
  {
   "cell_type": "markdown",
   "metadata": {},
   "source": [
    "Here, we will analyze the loan status against some significant columns which might have played important role in charged off of loans. "
   ]
  },
  {
   "cell_type": "markdown",
   "metadata": {},
   "source": [
    "###### Loan Amount as driving variable"
   ]
  },
  {
   "cell_type": "code",
   "execution_count": 53,
   "metadata": {},
   "outputs": [
    {
     "data": {
      "text/plain": [
       "count    30789.000000\n",
       "mean      8734.795706\n",
       "std       4851.492517\n",
       "min        500.000000\n",
       "25%       5000.000000\n",
       "50%       8000.000000\n",
       "75%      12000.000000\n",
       "max      24650.000000\n",
       "Name: loan_amnt, dtype: float64"
      ]
     },
     "execution_count": 53,
     "metadata": {},
     "output_type": "execute_result"
    }
   ],
   "source": [
    "df['loan_amnt'].describe()"
   ]
  },
  {
   "cell_type": "code",
   "execution_count": 54,
   "metadata": {},
   "outputs": [
    {
     "data": {
      "text/plain": [
       "5000-10000     11922\n",
       "0-5000          9045\n",
       "10000-15000     6728\n",
       "15000-20000     2775\n",
       "20000-25000      319\n",
       "Name: loan_amnt_cats, dtype: int64"
      ]
     },
     "execution_count": 54,
     "metadata": {},
     "output_type": "execute_result"
    }
   ],
   "source": [
    "# Categorise loan amount into buckets.\n",
    "df['loan_amnt_cats'] = pd.cut(df['loan_amnt'], [0, 5000, 10000, 15000, 20000, 25000], \n",
    "                              labels=['0-5000', '5000-10000', '10000-15000', '15000-20000','20000-25000'])\n",
    "df['loan_amnt_cats'].value_counts()"
   ]
  },
  {
   "cell_type": "code",
   "execution_count": 55,
   "metadata": {},
   "outputs": [
    {
     "data": {
      "text/html": [
       "<div>\n",
       "<style scoped>\n",
       "    .dataframe tbody tr th:only-of-type {\n",
       "        vertical-align: middle;\n",
       "    }\n",
       "\n",
       "    .dataframe tbody tr th {\n",
       "        vertical-align: top;\n",
       "    }\n",
       "\n",
       "    .dataframe thead th {\n",
       "        text-align: right;\n",
       "    }\n",
       "</style>\n",
       "<table border=\"1\" class=\"dataframe\">\n",
       "  <thead>\n",
       "    <tr style=\"text-align: right;\">\n",
       "      <th>loan_status</th>\n",
       "      <th>Charged Off</th>\n",
       "      <th>Current</th>\n",
       "      <th>Fully Paid</th>\n",
       "      <th>Charged Off prop</th>\n",
       "    </tr>\n",
       "    <tr>\n",
       "      <th>loan_amnt_cats</th>\n",
       "      <th></th>\n",
       "      <th></th>\n",
       "      <th></th>\n",
       "      <th></th>\n",
       "    </tr>\n",
       "  </thead>\n",
       "  <tbody>\n",
       "    <tr>\n",
       "      <th>0-5000</th>\n",
       "      <td>1225</td>\n",
       "      <td>0</td>\n",
       "      <td>7820</td>\n",
       "      <td>0.135434</td>\n",
       "    </tr>\n",
       "    <tr>\n",
       "      <th>5000-10000</th>\n",
       "      <td>1473</td>\n",
       "      <td>0</td>\n",
       "      <td>10449</td>\n",
       "      <td>0.123553</td>\n",
       "    </tr>\n",
       "    <tr>\n",
       "      <th>10000-15000</th>\n",
       "      <td>859</td>\n",
       "      <td>0</td>\n",
       "      <td>5869</td>\n",
       "      <td>0.127675</td>\n",
       "    </tr>\n",
       "    <tr>\n",
       "      <th>15000-20000</th>\n",
       "      <td>577</td>\n",
       "      <td>0</td>\n",
       "      <td>2198</td>\n",
       "      <td>0.207928</td>\n",
       "    </tr>\n",
       "    <tr>\n",
       "      <th>20000-25000</th>\n",
       "      <td>157</td>\n",
       "      <td>0</td>\n",
       "      <td>162</td>\n",
       "      <td>0.492163</td>\n",
       "    </tr>\n",
       "  </tbody>\n",
       "</table>\n",
       "</div>"
      ],
      "text/plain": [
       "loan_status     Charged Off  Current  Fully Paid  Charged Off prop\n",
       "loan_amnt_cats                                                    \n",
       "0-5000                 1225        0        7820          0.135434\n",
       "5000-10000             1473        0       10449          0.123553\n",
       "10000-15000             859        0        5869          0.127675\n",
       "15000-20000             577        0        2198          0.207928\n",
       "20000-25000             157        0         162          0.492163"
      ]
     },
     "execution_count": 55,
     "metadata": {},
     "output_type": "execute_result"
    }
   ],
   "source": [
    "loan_amount = df.groupby([ 'loan_amnt_cats', 'loan_status'])\n",
    "df_cross = loan_amount.loan_status.count()\n",
    "df_unstacked = df_cross.unstack()\n",
    "df1 = df_unstacked.fillna(0)\n",
    "df1.columns=df1.columns.astype('str')\n",
    "df1.reset_index()\n",
    "df1['Charged Off prop'] = df1['Charged Off']/(df1['Fully Paid']+df1['Charged Off'])\n",
    "df1"
   ]
  },
  {
   "cell_type": "code",
   "execution_count": 56,
   "metadata": {},
   "outputs": [
    {
     "data": {
      "image/png": "[encoded data removed]",
      "text/plain": [
       "<Figure size 432x288 with 1 Axes>"
      ]
     },
     "metadata": {
      "needs_background": "light"
     },
     "output_type": "display_data"
    }
   ],
   "source": [
    "ax1=sns.barplot(y='Charged Off prop', x=df1.index, data=df1)\n",
    "plt.xticks(rotation=90)\n",
    "plt.ylabel('Charged off Proportion',fontsize=14)\n",
    "plt.xlabel('Loan Amount',fontsize=14)\n",
    "plt.show()"
   ]
  },
  {
   "cell_type": "markdown",
   "metadata": {},
   "source": [
    "Observation \n",
    "* Loan amount of 20000+ has high chances of charged off."
   ]
  },
  {
   "cell_type": "markdown",
   "metadata": {},
   "source": [
    "##### Interest Rate as driving Variable"
   ]
  },
  {
   "cell_type": "code",
   "execution_count": 57,
   "metadata": {},
   "outputs": [
    {
     "data": {
      "text/plain": [
       "count    30789.000000\n",
       "mean        11.204086\n",
       "std          3.187047\n",
       "min          5.420000\n",
       "25%          8.380000\n",
       "50%         11.140000\n",
       "75%         13.570000\n",
       "max         17.880000\n",
       "Name: int_rate, dtype: float64"
      ]
     },
     "execution_count": 57,
     "metadata": {},
     "output_type": "execute_result"
    }
   ],
   "source": [
    "df.int_rate.describe()"
   ]
  },
  {
   "cell_type": "code",
   "execution_count": 58,
   "metadata": {},
   "outputs": [
    {
     "data": {
      "text/plain": [
       "5-10     11337\n",
       "10-13     9797\n",
       "13-16     7516\n",
       "16 +      2139\n",
       "0-5          0\n",
       "Name: int_rate_cats, dtype: int64"
      ]
     },
     "execution_count": 58,
     "metadata": {},
     "output_type": "execute_result"
    }
   ],
   "source": [
    "# categorise intrest rates into buckets.\n",
    "df['int_rate_cats'] = pd.cut(df['int_rate'], [0, 5, 10, 13, 16, 20], labels=['0-5', '5-10', '10-13', '13-16', '16 +'])\n",
    "df['int_rate_cats'].value_counts()"
   ]
  },
  {
   "cell_type": "code",
   "execution_count": 59,
   "metadata": {},
   "outputs": [
    {
     "data": {
      "text/html": [
       "<div>\n",
       "<style scoped>\n",
       "    .dataframe tbody tr th:only-of-type {\n",
       "        vertical-align: middle;\n",
       "    }\n",
       "\n",
       "    .dataframe tbody tr th {\n",
       "        vertical-align: top;\n",
       "    }\n",
       "\n",
       "    .dataframe thead th {\n",
       "        text-align: right;\n",
       "    }\n",
       "</style>\n",
       "<table border=\"1\" class=\"dataframe\">\n",
       "  <thead>\n",
       "    <tr style=\"text-align: right;\">\n",
       "      <th>loan_status</th>\n",
       "      <th>Charged Off</th>\n",
       "      <th>Current</th>\n",
       "      <th>Fully Paid</th>\n",
       "      <th>Charged Off prop</th>\n",
       "    </tr>\n",
       "    <tr>\n",
       "      <th>int_rate_cats</th>\n",
       "      <th></th>\n",
       "      <th></th>\n",
       "      <th></th>\n",
       "      <th></th>\n",
       "    </tr>\n",
       "  </thead>\n",
       "  <tbody>\n",
       "    <tr>\n",
       "      <th>0-5</th>\n",
       "      <td>0</td>\n",
       "      <td>0</td>\n",
       "      <td>0</td>\n",
       "      <td>NaN</td>\n",
       "    </tr>\n",
       "    <tr>\n",
       "      <th>5-10</th>\n",
       "      <td>795</td>\n",
       "      <td>0</td>\n",
       "      <td>10542</td>\n",
       "      <td>0.070124</td>\n",
       "    </tr>\n",
       "    <tr>\n",
       "      <th>10-13</th>\n",
       "      <td>1432</td>\n",
       "      <td>0</td>\n",
       "      <td>8365</td>\n",
       "      <td>0.146167</td>\n",
       "    </tr>\n",
       "    <tr>\n",
       "      <th>13-16</th>\n",
       "      <td>1453</td>\n",
       "      <td>0</td>\n",
       "      <td>6063</td>\n",
       "      <td>0.193321</td>\n",
       "    </tr>\n",
       "    <tr>\n",
       "      <th>16 +</th>\n",
       "      <td>611</td>\n",
       "      <td>0</td>\n",
       "      <td>1528</td>\n",
       "      <td>0.285647</td>\n",
       "    </tr>\n",
       "  </tbody>\n",
       "</table>\n",
       "</div>"
      ],
      "text/plain": [
       "loan_status    Charged Off  Current  Fully Paid  Charged Off prop\n",
       "int_rate_cats                                                    \n",
       "0-5                      0        0           0               NaN\n",
       "5-10                   795        0       10542          0.070124\n",
       "10-13                 1432        0        8365          0.146167\n",
       "13-16                 1453        0        6063          0.193321\n",
       "16 +                   611        0        1528          0.285647"
      ]
     },
     "execution_count": 59,
     "metadata": {},
     "output_type": "execute_result"
    }
   ],
   "source": [
    "interest_vs_loan = df.groupby([ 'int_rate_cats', 'loan_status'])\n",
    "df_cross = interest_vs_loan.loan_status.count()\n",
    "df_unstacked = df_cross.unstack()\n",
    "df1 = df_unstacked.fillna(0)\n",
    "df1.columns=df1.columns.astype('str')\n",
    "df1.reset_index()\n",
    "df1['Charged Off prop'] = df1['Charged Off']/(df1['Fully Paid']+df1['Charged Off'])\n",
    "df1"
   ]
  },
  {
   "cell_type": "code",
   "execution_count": 60,
   "metadata": {},
   "outputs": [
    {
     "data": {
      "image/png": "[encoded data removed]",
      "text/plain": [
       "<Figure size 432x288 with 1 Axes>"
      ]
     },
     "metadata": {
      "needs_background": "light"
     },
     "output_type": "display_data"
    }
   ],
   "source": [
    "ax1=sns.barplot(y='Charged Off prop', x=df1.index, data=df1)\n",
    "plt.xticks(rotation=90)\n",
    "plt.ylabel('Charged off Proportion',fontsize=14)\n",
    "plt.xlabel('Interest Rate',fontsize=14)\n",
    "plt.show()"
   ]
  },
  {
   "cell_type": "markdown",
   "metadata": {},
   "source": [
    "Observations:\n",
    "* Intrest rates are starting from minimin 5 %.\n",
    "* Interest rate less than 10% has very less chances of charged off. \n",
    "* Interest rate more than 16% has very high chances of charged off.\n",
    "* Charged off proportion is increasing with higher intrest rates."
   ]
  },
  {
   "cell_type": "markdown",
   "metadata": {},
   "source": [
    "##### DTI (ratio of total monthly debt payments to the total debt obligations) as driving Variable"
   ]
  },
  {
   "cell_type": "code",
   "execution_count": 61,
   "metadata": {},
   "outputs": [
    {
     "data": {
      "text/plain": [
       "10-15    7663\n",
       "15-20    6977\n",
       "05-10    6204\n",
       "25+      5364\n",
       "0-5      3909\n",
       "Name: dti_cats, dtype: int64"
      ]
     },
     "execution_count": 61,
     "metadata": {},
     "output_type": "execute_result"
    }
   ],
   "source": [
    "# categorise dti into buckets.\n",
    "df['dti_cats'] = pd.cut(df['dti'], [0, 5, 10, 15, 20, 25], labels=['0-5', '05-10', '10-15', '15-20', '25+'])\n",
    "df['dti_cats'].value_counts()"
   ]
  },
  {
   "cell_type": "code",
   "execution_count": 62,
   "metadata": {},
   "outputs": [
    {
     "data": {
      "text/html": [
       "<div>\n",
       "<style scoped>\n",
       "    .dataframe tbody tr th:only-of-type {\n",
       "        vertical-align: middle;\n",
       "    }\n",
       "\n",
       "    .dataframe tbody tr th {\n",
       "        vertical-align: top;\n",
       "    }\n",
       "\n",
       "    .dataframe thead th {\n",
       "        text-align: right;\n",
       "    }\n",
       "</style>\n",
       "<table border=\"1\" class=\"dataframe\">\n",
       "  <thead>\n",
       "    <tr style=\"text-align: right;\">\n",
       "      <th>loan_status</th>\n",
       "      <th>Charged Off</th>\n",
       "      <th>Current</th>\n",
       "      <th>Fully Paid</th>\n",
       "      <th>Charged Off prop</th>\n",
       "    </tr>\n",
       "    <tr>\n",
       "      <th>dti_cats</th>\n",
       "      <th></th>\n",
       "      <th></th>\n",
       "      <th></th>\n",
       "      <th></th>\n",
       "    </tr>\n",
       "  </thead>\n",
       "  <tbody>\n",
       "    <tr>\n",
       "      <th>0-5</th>\n",
       "      <td>459</td>\n",
       "      <td>0</td>\n",
       "      <td>3450</td>\n",
       "      <td>0.117421</td>\n",
       "    </tr>\n",
       "    <tr>\n",
       "      <th>05-10</th>\n",
       "      <td>751</td>\n",
       "      <td>0</td>\n",
       "      <td>5453</td>\n",
       "      <td>0.121051</td>\n",
       "    </tr>\n",
       "    <tr>\n",
       "      <th>10-15</th>\n",
       "      <td>1066</td>\n",
       "      <td>0</td>\n",
       "      <td>6597</td>\n",
       "      <td>0.139110</td>\n",
       "    </tr>\n",
       "    <tr>\n",
       "      <th>15-20</th>\n",
       "      <td>1039</td>\n",
       "      <td>0</td>\n",
       "      <td>5938</td>\n",
       "      <td>0.148918</td>\n",
       "    </tr>\n",
       "    <tr>\n",
       "      <th>25+</th>\n",
       "      <td>877</td>\n",
       "      <td>0</td>\n",
       "      <td>4487</td>\n",
       "      <td>0.163497</td>\n",
       "    </tr>\n",
       "  </tbody>\n",
       "</table>\n",
       "</div>"
      ],
      "text/plain": [
       "loan_status  Charged Off  Current  Fully Paid  Charged Off prop\n",
       "dti_cats                                                       \n",
       "0-5                  459        0        3450          0.117421\n",
       "05-10                751        0        5453          0.121051\n",
       "10-15               1066        0        6597          0.139110\n",
       "15-20               1039        0        5938          0.148918\n",
       "25+                  877        0        4487          0.163497"
      ]
     },
     "execution_count": 62,
     "metadata": {},
     "output_type": "execute_result"
    }
   ],
   "source": [
    "dti_vs_loan = df.groupby([ 'dti_cats', 'loan_status'])\n",
    "df_cross = dti_vs_loan.loan_status.count()\n",
    "df_unstacked = df_cross.unstack()\n",
    "df1 = df_unstacked.fillna(0)\n",
    "df1.columns=df1.columns.astype('str')\n",
    "df1.reset_index()\n",
    "df1['Charged Off prop'] = df1['Charged Off']/(df1['Fully Paid']+df1['Charged Off'])\n",
    "df1"
   ]
  },
  {
   "cell_type": "code",
   "execution_count": 63,
   "metadata": {},
   "outputs": [
    {
     "data": {
      "image/png": "[encoded data removed]",
      "text/plain": [
       "<Figure size 432x288 with 1 Axes>"
      ]
     },
     "metadata": {
      "needs_background": "light"
     },
     "output_type": "display_data"
    }
   ],
   "source": [
    "ax1=sns.barplot(y='Charged Off prop', x=df1.index, data=df1)\n",
    "plt.xticks(rotation=90)\n",
    "plt.ylabel('Charged off Proportion',fontsize=14)\n",
    "plt.xlabel('DTI (ratio of total monthly debt payments to the total debt obligations)',fontsize=14)\n",
    "plt.show()"
   ]
  },
  {
   "cell_type": "markdown",
   "metadata": {},
   "source": [
    "Observation\n",
    "* As DTI increases chances of charged off applicants increases"
   ]
  },
  {
   "cell_type": "markdown",
   "metadata": {},
   "source": [
    "###### Annual Income as driving variable"
   ]
  },
  {
   "cell_type": "code",
   "execution_count": 64,
   "metadata": {},
   "outputs": [
    {
     "data": {
      "text/plain": [
       "count     30789.000000\n",
       "mean      56795.745547\n",
       "std       25200.165215\n",
       "min        4000.000000\n",
       "25%       38000.000000\n",
       "50%       52392.000000\n",
       "75%       72000.000000\n",
       "max      129996.000000\n",
       "Name: annual_inc, dtype: float64"
      ]
     },
     "execution_count": 64,
     "metadata": {},
     "output_type": "execute_result"
    }
   ],
   "source": [
    "df['annual_inc'].describe()"
   ]
  },
  {
   "cell_type": "code",
   "execution_count": 65,
   "metadata": {},
   "outputs": [
    {
     "data": {
      "text/plain": [
       "40000-60000      10002\n",
       "20000-40000       8130\n",
       "60000-80000       6171\n",
       "80000-100000      3382\n",
       "100000-120000     1604\n",
       "0-20000           1144\n",
       "120000+            356\n",
       "Name: annual_inc_cats, dtype: int64"
      ]
     },
     "execution_count": 65,
     "metadata": {},
     "output_type": "execute_result"
    }
   ],
   "source": [
    "# categorise annual incomes into buckets.\n",
    "df['annual_inc_cats'] = pd.cut(df['annual_inc'], [0, 20000, 40000, 60000, 80000,100000,120000,140000], \n",
    "                                 labels=['0-20000', '20000-40000', '40000-60000', '60000-80000', '80000-100000','100000-120000', '120000+'])\n",
    "df['annual_inc_cats'].value_counts()"
   ]
  },
  {
   "cell_type": "code",
   "execution_count": 66,
   "metadata": {},
   "outputs": [
    {
     "data": {
      "text/html": [
       "<div>\n",
       "<style scoped>\n",
       "    .dataframe tbody tr th:only-of-type {\n",
       "        vertical-align: middle;\n",
       "    }\n",
       "\n",
       "    .dataframe tbody tr th {\n",
       "        vertical-align: top;\n",
       "    }\n",
       "\n",
       "    .dataframe thead th {\n",
       "        text-align: right;\n",
       "    }\n",
       "</style>\n",
       "<table border=\"1\" class=\"dataframe\">\n",
       "  <thead>\n",
       "    <tr style=\"text-align: right;\">\n",
       "      <th>loan_status</th>\n",
       "      <th>Charged Off</th>\n",
       "      <th>Current</th>\n",
       "      <th>Fully Paid</th>\n",
       "      <th>Charged Off prop</th>\n",
       "    </tr>\n",
       "    <tr>\n",
       "      <th>annual_inc_cats</th>\n",
       "      <th></th>\n",
       "      <th></th>\n",
       "      <th></th>\n",
       "      <th></th>\n",
       "    </tr>\n",
       "  </thead>\n",
       "  <tbody>\n",
       "    <tr>\n",
       "      <th>0-20000</th>\n",
       "      <td>224</td>\n",
       "      <td>0</td>\n",
       "      <td>920</td>\n",
       "      <td>0.195804</td>\n",
       "    </tr>\n",
       "    <tr>\n",
       "      <th>20000-40000</th>\n",
       "      <td>1373</td>\n",
       "      <td>0</td>\n",
       "      <td>6757</td>\n",
       "      <td>0.168881</td>\n",
       "    </tr>\n",
       "    <tr>\n",
       "      <th>40000-60000</th>\n",
       "      <td>1425</td>\n",
       "      <td>0</td>\n",
       "      <td>8577</td>\n",
       "      <td>0.142472</td>\n",
       "    </tr>\n",
       "    <tr>\n",
       "      <th>60000-80000</th>\n",
       "      <td>739</td>\n",
       "      <td>0</td>\n",
       "      <td>5432</td>\n",
       "      <td>0.119754</td>\n",
       "    </tr>\n",
       "    <tr>\n",
       "      <th>80000-100000</th>\n",
       "      <td>354</td>\n",
       "      <td>0</td>\n",
       "      <td>3028</td>\n",
       "      <td>0.104672</td>\n",
       "    </tr>\n",
       "    <tr>\n",
       "      <th>100000-120000</th>\n",
       "      <td>136</td>\n",
       "      <td>0</td>\n",
       "      <td>1468</td>\n",
       "      <td>0.084788</td>\n",
       "    </tr>\n",
       "    <tr>\n",
       "      <th>120000+</th>\n",
       "      <td>40</td>\n",
       "      <td>0</td>\n",
       "      <td>316</td>\n",
       "      <td>0.112360</td>\n",
       "    </tr>\n",
       "  </tbody>\n",
       "</table>\n",
       "</div>"
      ],
      "text/plain": [
       "loan_status      Charged Off  Current  Fully Paid  Charged Off prop\n",
       "annual_inc_cats                                                    \n",
       "0-20000                  224        0         920          0.195804\n",
       "20000-40000             1373        0        6757          0.168881\n",
       "40000-60000             1425        0        8577          0.142472\n",
       "60000-80000              739        0        5432          0.119754\n",
       "80000-100000             354        0        3028          0.104672\n",
       "100000-120000            136        0        1468          0.084788\n",
       "120000+                   40        0         316          0.112360"
      ]
     },
     "execution_count": 66,
     "metadata": {},
     "output_type": "execute_result"
    }
   ],
   "source": [
    "income_vs_loan = df.groupby([ 'annual_inc_cats', 'loan_status'])\n",
    "df_cross = income_vs_loan.loan_status.count()\n",
    "df_unstacked = df_cross.unstack()\n",
    "df1 = df_unstacked.fillna(0)\n",
    "df1.columns=df1.columns.astype('str')\n",
    "df1.reset_index()\n",
    "df1['Charged Off prop'] = df1['Charged Off']/(df1['Fully Paid']+df1['Charged Off'])\n",
    "df1"
   ]
  },
  {
   "cell_type": "code",
   "execution_count": 67,
   "metadata": {},
   "outputs": [
    {
     "data": {
      "image/png": "[encoded data removed]",
      "text/plain": [
       "<Figure size 432x288 with 1 Axes>"
      ]
     },
     "metadata": {
      "needs_background": "light"
     },
     "output_type": "display_data"
    }
   ],
   "source": [
    "ax1=sns.barplot(y='Charged Off prop', x=df1.index, data=df1)\n",
    "plt.xticks(rotation=90)\n",
    "plt.ylabel('Charged off Proportion',fontsize=14)\n",
    "plt.xlabel('Annual Income',fontsize=14)\n",
    "plt.show()"
   ]
  },
  {
   "cell_type": "markdown",
   "metadata": {},
   "source": [
    "Observation\n",
    "* Income range (0-20000) has high chances of charged off.\n",
    "* With increase in annual income charged off chances decreases.\n",
    "* 120000+ bucket has slightly higher as it comprises huge income range"
   ]
  },
  {
   "cell_type": "markdown",
   "metadata": {},
   "source": [
    "###### Purpose as driving variable"
   ]
  },
  {
   "cell_type": "code",
   "execution_count": 68,
   "metadata": {},
   "outputs": [
    {
     "data": {
      "text/html": [
       "<div>\n",
       "<style scoped>\n",
       "    .dataframe tbody tr th:only-of-type {\n",
       "        vertical-align: middle;\n",
       "    }\n",
       "\n",
       "    .dataframe tbody tr th {\n",
       "        vertical-align: top;\n",
       "    }\n",
       "\n",
       "    .dataframe thead th {\n",
       "        text-align: right;\n",
       "    }\n",
       "</style>\n",
       "<table border=\"1\" class=\"dataframe\">\n",
       "  <thead>\n",
       "    <tr style=\"text-align: right;\">\n",
       "      <th>loan_status</th>\n",
       "      <th>Charged Off</th>\n",
       "      <th>Current</th>\n",
       "      <th>Fully Paid</th>\n",
       "      <th>Charged Off prop</th>\n",
       "    </tr>\n",
       "    <tr>\n",
       "      <th>purpose</th>\n",
       "      <th></th>\n",
       "      <th></th>\n",
       "      <th></th>\n",
       "      <th></th>\n",
       "    </tr>\n",
       "  </thead>\n",
       "  <tbody>\n",
       "    <tr>\n",
       "      <th>car</th>\n",
       "      <td>148</td>\n",
       "      <td>0</td>\n",
       "      <td>1245</td>\n",
       "      <td>0.106246</td>\n",
       "    </tr>\n",
       "    <tr>\n",
       "      <th>credit_card</th>\n",
       "      <td>421</td>\n",
       "      <td>0</td>\n",
       "      <td>3649</td>\n",
       "      <td>0.103440</td>\n",
       "    </tr>\n",
       "    <tr>\n",
       "      <th>debt_consolidation</th>\n",
       "      <td>2033</td>\n",
       "      <td>0</td>\n",
       "      <td>11869</td>\n",
       "      <td>0.146238</td>\n",
       "    </tr>\n",
       "    <tr>\n",
       "      <th>educational</th>\n",
       "      <td>52</td>\n",
       "      <td>0</td>\n",
       "      <td>250</td>\n",
       "      <td>0.172185</td>\n",
       "    </tr>\n",
       "    <tr>\n",
       "      <th>home_improvement</th>\n",
       "      <td>262</td>\n",
       "      <td>0</td>\n",
       "      <td>1877</td>\n",
       "      <td>0.122487</td>\n",
       "    </tr>\n",
       "    <tr>\n",
       "      <th>house</th>\n",
       "      <td>38</td>\n",
       "      <td>0</td>\n",
       "      <td>237</td>\n",
       "      <td>0.138182</td>\n",
       "    </tr>\n",
       "    <tr>\n",
       "      <th>major_purchase</th>\n",
       "      <td>194</td>\n",
       "      <td>0</td>\n",
       "      <td>1691</td>\n",
       "      <td>0.102918</td>\n",
       "    </tr>\n",
       "    <tr>\n",
       "      <th>medical</th>\n",
       "      <td>91</td>\n",
       "      <td>0</td>\n",
       "      <td>494</td>\n",
       "      <td>0.155556</td>\n",
       "    </tr>\n",
       "    <tr>\n",
       "      <th>moving</th>\n",
       "      <td>82</td>\n",
       "      <td>0</td>\n",
       "      <td>418</td>\n",
       "      <td>0.164000</td>\n",
       "    </tr>\n",
       "    <tr>\n",
       "      <th>other</th>\n",
       "      <td>522</td>\n",
       "      <td>0</td>\n",
       "      <td>2827</td>\n",
       "      <td>0.155867</td>\n",
       "    </tr>\n",
       "    <tr>\n",
       "      <th>renewable_energy</th>\n",
       "      <td>16</td>\n",
       "      <td>0</td>\n",
       "      <td>66</td>\n",
       "      <td>0.195122</td>\n",
       "    </tr>\n",
       "    <tr>\n",
       "      <th>small_business</th>\n",
       "      <td>307</td>\n",
       "      <td>0</td>\n",
       "      <td>868</td>\n",
       "      <td>0.261277</td>\n",
       "    </tr>\n",
       "    <tr>\n",
       "      <th>vacation</th>\n",
       "      <td>50</td>\n",
       "      <td>0</td>\n",
       "      <td>299</td>\n",
       "      <td>0.143266</td>\n",
       "    </tr>\n",
       "    <tr>\n",
       "      <th>wedding</th>\n",
       "      <td>75</td>\n",
       "      <td>0</td>\n",
       "      <td>708</td>\n",
       "      <td>0.095785</td>\n",
       "    </tr>\n",
       "  </tbody>\n",
       "</table>\n",
       "</div>"
      ],
      "text/plain": [
       "loan_status         Charged Off  Current  Fully Paid  Charged Off prop\n",
       "purpose                                                               \n",
       "car                         148        0        1245          0.106246\n",
       "credit_card                 421        0        3649          0.103440\n",
       "debt_consolidation         2033        0       11869          0.146238\n",
       "educational                  52        0         250          0.172185\n",
       "home_improvement            262        0        1877          0.122487\n",
       "house                        38        0         237          0.138182\n",
       "major_purchase              194        0        1691          0.102918\n",
       "medical                      91        0         494          0.155556\n",
       "moving                       82        0         418          0.164000\n",
       "other                       522        0        2827          0.155867\n",
       "renewable_energy             16        0          66          0.195122\n",
       "small_business              307        0         868          0.261277\n",
       "vacation                     50        0         299          0.143266\n",
       "wedding                      75        0         708          0.095785"
      ]
     },
     "execution_count": 68,
     "metadata": {},
     "output_type": "execute_result"
    }
   ],
   "source": [
    "purpose_vs_loan = df.groupby([ 'purpose', 'loan_status'])\n",
    "df_cross = purpose_vs_loan.loan_status.count()\n",
    "df_unstacked = df_cross.unstack()\n",
    "df1 = df_unstacked.fillna(0)\n",
    "df1.columns=df1.columns.astype('str')\n",
    "df1.reset_index()\n",
    "df1['Charged Off prop'] = df1['Charged Off']/(df1['Fully Paid']+df1['Charged Off'])\n",
    "df1"
   ]
  },
  {
   "cell_type": "code",
   "execution_count": 69,
   "metadata": {},
   "outputs": [
    {
     "data": {
      "image/png": "[encoded data removed]",
      "text/plain": [
       "<Figure size 432x288 with 1 Axes>"
      ]
     },
     "metadata": {
      "needs_background": "light"
     },
     "output_type": "display_data"
    }
   ],
   "source": [
    "ax1=sns.barplot(y='Charged Off prop', x=df1.index, data=df1)\n",
    "plt.xticks(rotation=90)\n",
    "plt.ylabel('Charged off Proportion',fontsize=14)\n",
    "plt.xlabel('Purpose of Loans',fontsize=14)\n",
    "plt.show()"
   ]
  },
  {
   "cell_type": "markdown",
   "metadata": {},
   "source": [
    "Observations:\n",
    "* Small Business applicants have high chances of getting charged off.\n",
    "* Renewable_energy and educational applicants are next categories where charge off is high"
   ]
  },
  {
   "cell_type": "markdown",
   "metadata": {},
   "source": [
    "###### Grade as driving variable"
   ]
  },
  {
   "cell_type": "code",
   "execution_count": 70,
   "metadata": {},
   "outputs": [
    {
     "data": {
      "text/html": [
       "<div>\n",
       "<style scoped>\n",
       "    .dataframe tbody tr th:only-of-type {\n",
       "        vertical-align: middle;\n",
       "    }\n",
       "\n",
       "    .dataframe tbody tr th {\n",
       "        vertical-align: top;\n",
       "    }\n",
       "\n",
       "    .dataframe thead th {\n",
       "        text-align: right;\n",
       "    }\n",
       "</style>\n",
       "<table border=\"1\" class=\"dataframe\">\n",
       "  <thead>\n",
       "    <tr style=\"text-align: right;\">\n",
       "      <th>loan_status</th>\n",
       "      <th>Charged Off</th>\n",
       "      <th>Current</th>\n",
       "      <th>Fully Paid</th>\n",
       "      <th>Charged Off prop</th>\n",
       "    </tr>\n",
       "    <tr>\n",
       "      <th>grade</th>\n",
       "      <th></th>\n",
       "      <th></th>\n",
       "      <th></th>\n",
       "      <th></th>\n",
       "    </tr>\n",
       "  </thead>\n",
       "  <tbody>\n",
       "    <tr>\n",
       "      <th>A</th>\n",
       "      <td>581</td>\n",
       "      <td>0</td>\n",
       "      <td>8724</td>\n",
       "      <td>0.062440</td>\n",
       "    </tr>\n",
       "    <tr>\n",
       "      <th>B</th>\n",
       "      <td>1286</td>\n",
       "      <td>0</td>\n",
       "      <td>8562</td>\n",
       "      <td>0.130585</td>\n",
       "    </tr>\n",
       "    <tr>\n",
       "      <th>C</th>\n",
       "      <td>1212</td>\n",
       "      <td>0</td>\n",
       "      <td>5361</td>\n",
       "      <td>0.184391</td>\n",
       "    </tr>\n",
       "    <tr>\n",
       "      <th>D</th>\n",
       "      <td>919</td>\n",
       "      <td>0</td>\n",
       "      <td>2992</td>\n",
       "      <td>0.234978</td>\n",
       "    </tr>\n",
       "    <tr>\n",
       "      <th>E</th>\n",
       "      <td>282</td>\n",
       "      <td>0</td>\n",
       "      <td>831</td>\n",
       "      <td>0.253369</td>\n",
       "    </tr>\n",
       "    <tr>\n",
       "      <th>F</th>\n",
       "      <td>11</td>\n",
       "      <td>0</td>\n",
       "      <td>28</td>\n",
       "      <td>0.282051</td>\n",
       "    </tr>\n",
       "  </tbody>\n",
       "</table>\n",
       "</div>"
      ],
      "text/plain": [
       "loan_status  Charged Off  Current  Fully Paid  Charged Off prop\n",
       "grade                                                          \n",
       "A                    581        0        8724          0.062440\n",
       "B                   1286        0        8562          0.130585\n",
       "C                   1212        0        5361          0.184391\n",
       "D                    919        0        2992          0.234978\n",
       "E                    282        0         831          0.253369\n",
       "F                     11        0          28          0.282051"
      ]
     },
     "execution_count": 70,
     "metadata": {},
     "output_type": "execute_result"
    }
   ],
   "source": [
    "grade_vs_loan = df.groupby([ 'grade', 'loan_status'])\n",
    "df_cross = grade_vs_loan.loan_status.count()\n",
    "df_unstacked = df_cross.unstack()\n",
    "df1 = df_unstacked.fillna(0)\n",
    "df1.columns=df1.columns.astype('str')\n",
    "df1.reset_index()\n",
    "df1['Charged Off prop'] = df1['Charged Off']/(df1['Fully Paid']+df1['Charged Off'])\n",
    "df1"
   ]
  },
  {
   "cell_type": "code",
   "execution_count": 71,
   "metadata": {},
   "outputs": [
    {
     "data": {
      "image/png": "[encoded data removed]",
      "text/plain": [
       "<Figure size 432x288 with 1 Axes>"
      ]
     },
     "metadata": {
      "needs_background": "light"
     },
     "output_type": "display_data"
    }
   ],
   "source": [
    "ax1=sns.barplot(y='Charged Off prop', x=df1.index, data=df1)\n",
    "plt.xticks(rotation=90)\n",
    "plt.ylabel('Charged off Proportion',fontsize=14)\n",
    "plt.xlabel('Assigned Loan Grade',fontsize=14)\n",
    "plt.show()"
   ]
  },
  {
   "cell_type": "markdown",
   "metadata": {},
   "source": [
    "Observations:\n",
    "* Grade \"A\" has minimum chances of charged off.\n",
    "* Grade \"F\" have maximum chances of charged off.\n",
    "* Chances of charged of is increasing with grade moving from \"A\" towards \"F\""
   ]
  },
  {
   "cell_type": "markdown",
   "metadata": {},
   "source": [
    "###### Sub Grade as driving variable"
   ]
  },
  {
   "cell_type": "code",
   "execution_count": 72,
   "metadata": {},
   "outputs": [
    {
     "data": {
      "text/html": [
       "<div>\n",
       "<style scoped>\n",
       "    .dataframe tbody tr th:only-of-type {\n",
       "        vertical-align: middle;\n",
       "    }\n",
       "\n",
       "    .dataframe tbody tr th {\n",
       "        vertical-align: top;\n",
       "    }\n",
       "\n",
       "    .dataframe thead th {\n",
       "        text-align: right;\n",
       "    }\n",
       "</style>\n",
       "<table border=\"1\" class=\"dataframe\">\n",
       "  <thead>\n",
       "    <tr style=\"text-align: right;\">\n",
       "      <th>loan_status</th>\n",
       "      <th>Charged Off</th>\n",
       "      <th>Current</th>\n",
       "      <th>Fully Paid</th>\n",
       "      <th>Charged Off prop</th>\n",
       "    </tr>\n",
       "    <tr>\n",
       "      <th>sub_grade</th>\n",
       "      <th></th>\n",
       "      <th></th>\n",
       "      <th></th>\n",
       "      <th></th>\n",
       "    </tr>\n",
       "  </thead>\n",
       "  <tbody>\n",
       "    <tr>\n",
       "      <th>A1</th>\n",
       "      <td>30</td>\n",
       "      <td>0</td>\n",
       "      <td>1049</td>\n",
       "      <td>0.027804</td>\n",
       "    </tr>\n",
       "    <tr>\n",
       "      <th>A2</th>\n",
       "      <td>73</td>\n",
       "      <td>0</td>\n",
       "      <td>1343</td>\n",
       "      <td>0.051554</td>\n",
       "    </tr>\n",
       "    <tr>\n",
       "      <th>A3</th>\n",
       "      <td>98</td>\n",
       "      <td>0</td>\n",
       "      <td>1591</td>\n",
       "      <td>0.058022</td>\n",
       "    </tr>\n",
       "    <tr>\n",
       "      <th>A4</th>\n",
       "      <td>169</td>\n",
       "      <td>0</td>\n",
       "      <td>2444</td>\n",
       "      <td>0.064677</td>\n",
       "    </tr>\n",
       "    <tr>\n",
       "      <th>A5</th>\n",
       "      <td>211</td>\n",
       "      <td>0</td>\n",
       "      <td>2297</td>\n",
       "      <td>0.084131</td>\n",
       "    </tr>\n",
       "    <tr>\n",
       "      <th>B1</th>\n",
       "      <td>165</td>\n",
       "      <td>0</td>\n",
       "      <td>1459</td>\n",
       "      <td>0.101601</td>\n",
       "    </tr>\n",
       "    <tr>\n",
       "      <th>B2</th>\n",
       "      <td>210</td>\n",
       "      <td>0</td>\n",
       "      <td>1510</td>\n",
       "      <td>0.122093</td>\n",
       "    </tr>\n",
       "    <tr>\n",
       "      <th>B3</th>\n",
       "      <td>303</td>\n",
       "      <td>0</td>\n",
       "      <td>2028</td>\n",
       "      <td>0.129987</td>\n",
       "    </tr>\n",
       "    <tr>\n",
       "      <th>B4</th>\n",
       "      <td>293</td>\n",
       "      <td>0</td>\n",
       "      <td>1741</td>\n",
       "      <td>0.144051</td>\n",
       "    </tr>\n",
       "    <tr>\n",
       "      <th>B5</th>\n",
       "      <td>315</td>\n",
       "      <td>0</td>\n",
       "      <td>1824</td>\n",
       "      <td>0.147265</td>\n",
       "    </tr>\n",
       "    <tr>\n",
       "      <th>C1</th>\n",
       "      <td>295</td>\n",
       "      <td>0</td>\n",
       "      <td>1426</td>\n",
       "      <td>0.171412</td>\n",
       "    </tr>\n",
       "    <tr>\n",
       "      <th>C2</th>\n",
       "      <td>284</td>\n",
       "      <td>0</td>\n",
       "      <td>1308</td>\n",
       "      <td>0.178392</td>\n",
       "    </tr>\n",
       "    <tr>\n",
       "      <th>C3</th>\n",
       "      <td>245</td>\n",
       "      <td>0</td>\n",
       "      <td>1024</td>\n",
       "      <td>0.193065</td>\n",
       "    </tr>\n",
       "    <tr>\n",
       "      <th>C4</th>\n",
       "      <td>195</td>\n",
       "      <td>0</td>\n",
       "      <td>836</td>\n",
       "      <td>0.189137</td>\n",
       "    </tr>\n",
       "    <tr>\n",
       "      <th>C5</th>\n",
       "      <td>193</td>\n",
       "      <td>0</td>\n",
       "      <td>767</td>\n",
       "      <td>0.201042</td>\n",
       "    </tr>\n",
       "    <tr>\n",
       "      <th>D1</th>\n",
       "      <td>149</td>\n",
       "      <td>0</td>\n",
       "      <td>622</td>\n",
       "      <td>0.193256</td>\n",
       "    </tr>\n",
       "    <tr>\n",
       "      <th>D2</th>\n",
       "      <td>239</td>\n",
       "      <td>0</td>\n",
       "      <td>795</td>\n",
       "      <td>0.231141</td>\n",
       "    </tr>\n",
       "    <tr>\n",
       "      <th>D3</th>\n",
       "      <td>212</td>\n",
       "      <td>0</td>\n",
       "      <td>689</td>\n",
       "      <td>0.235294</td>\n",
       "    </tr>\n",
       "    <tr>\n",
       "      <th>D4</th>\n",
       "      <td>185</td>\n",
       "      <td>0</td>\n",
       "      <td>496</td>\n",
       "      <td>0.271659</td>\n",
       "    </tr>\n",
       "    <tr>\n",
       "      <th>D5</th>\n",
       "      <td>134</td>\n",
       "      <td>0</td>\n",
       "      <td>390</td>\n",
       "      <td>0.255725</td>\n",
       "    </tr>\n",
       "    <tr>\n",
       "      <th>E1</th>\n",
       "      <td>92</td>\n",
       "      <td>0</td>\n",
       "      <td>269</td>\n",
       "      <td>0.254848</td>\n",
       "    </tr>\n",
       "    <tr>\n",
       "      <th>E2</th>\n",
       "      <td>70</td>\n",
       "      <td>0</td>\n",
       "      <td>206</td>\n",
       "      <td>0.253623</td>\n",
       "    </tr>\n",
       "    <tr>\n",
       "      <th>E3</th>\n",
       "      <td>51</td>\n",
       "      <td>0</td>\n",
       "      <td>188</td>\n",
       "      <td>0.213389</td>\n",
       "    </tr>\n",
       "    <tr>\n",
       "      <th>E4</th>\n",
       "      <td>50</td>\n",
       "      <td>0</td>\n",
       "      <td>115</td>\n",
       "      <td>0.303030</td>\n",
       "    </tr>\n",
       "    <tr>\n",
       "      <th>E5</th>\n",
       "      <td>19</td>\n",
       "      <td>0</td>\n",
       "      <td>53</td>\n",
       "      <td>0.263889</td>\n",
       "    </tr>\n",
       "    <tr>\n",
       "      <th>F1</th>\n",
       "      <td>6</td>\n",
       "      <td>0</td>\n",
       "      <td>14</td>\n",
       "      <td>0.300000</td>\n",
       "    </tr>\n",
       "    <tr>\n",
       "      <th>F2</th>\n",
       "      <td>3</td>\n",
       "      <td>0</td>\n",
       "      <td>10</td>\n",
       "      <td>0.230769</td>\n",
       "    </tr>\n",
       "    <tr>\n",
       "      <th>F3</th>\n",
       "      <td>1</td>\n",
       "      <td>0</td>\n",
       "      <td>1</td>\n",
       "      <td>0.500000</td>\n",
       "    </tr>\n",
       "    <tr>\n",
       "      <th>F4</th>\n",
       "      <td>0</td>\n",
       "      <td>0</td>\n",
       "      <td>3</td>\n",
       "      <td>0.000000</td>\n",
       "    </tr>\n",
       "    <tr>\n",
       "      <th>F5</th>\n",
       "      <td>1</td>\n",
       "      <td>0</td>\n",
       "      <td>0</td>\n",
       "      <td>1.000000</td>\n",
       "    </tr>\n",
       "  </tbody>\n",
       "</table>\n",
       "</div>"
      ],
      "text/plain": [
       "loan_status  Charged Off  Current  Fully Paid  Charged Off prop\n",
       "sub_grade                                                      \n",
       "A1                    30        0        1049          0.027804\n",
       "A2                    73        0        1343          0.051554\n",
       "A3                    98        0        1591          0.058022\n",
       "A4                   169        0        2444          0.064677\n",
       "A5                   211        0        2297          0.084131\n",
       "B1                   165        0        1459          0.101601\n",
       "B2                   210        0        1510          0.122093\n",
       "B3                   303        0        2028          0.129987\n",
       "B4                   293        0        1741          0.144051\n",
       "B5                   315        0        1824          0.147265\n",
       "C1                   295        0        1426          0.171412\n",
       "C2                   284        0        1308          0.178392\n",
       "C3                   245        0        1024          0.193065\n",
       "C4                   195        0         836          0.189137\n",
       "C5                   193        0         767          0.201042\n",
       "D1                   149        0         622          0.193256\n",
       "D2                   239        0         795          0.231141\n",
       "D3                   212        0         689          0.235294\n",
       "D4                   185        0         496          0.271659\n",
       "D5                   134        0         390          0.255725\n",
       "E1                    92        0         269          0.254848\n",
       "E2                    70        0         206          0.253623\n",
       "E3                    51        0         188          0.213389\n",
       "E4                    50        0         115          0.303030\n",
       "E5                    19        0          53          0.263889\n",
       "F1                     6        0          14          0.300000\n",
       "F2                     3        0          10          0.230769\n",
       "F3                     1        0           1          0.500000\n",
       "F4                     0        0           3          0.000000\n",
       "F5                     1        0           0          1.000000"
      ]
     },
     "execution_count": 72,
     "metadata": {},
     "output_type": "execute_result"
    }
   ],
   "source": [
    "subgrade_vs_loan = df.groupby([ 'sub_grade', 'loan_status'])\n",
    "df_cross = subgrade_vs_loan.loan_status.count()\n",
    "df_unstacked = df_cross.unstack()\n",
    "df1 = df_unstacked.fillna(0)\n",
    "df1.columns=df1.columns.astype('str')\n",
    "df1.reset_index()\n",
    "df1['Charged Off prop'] = df1['Charged Off']/(df1['Fully Paid']+df1['Charged Off'])\n",
    "df1"
   ]
  },
  {
   "cell_type": "code",
   "execution_count": 73,
   "metadata": {},
   "outputs": [
    {
     "data": {
      "image/png": "[encoded data removed]",
      "text/plain": [
       "<Figure size 1008x576 with 1 Axes>"
      ]
     },
     "metadata": {
      "needs_background": "light"
     },
     "output_type": "display_data"
    }
   ],
   "source": [
    "fig, ax1 = plt.subplots(figsize=(14, 8))\n",
    "ax1=sns.barplot(y='Charged Off prop', x=df1.index, data=df1)\n",
    "plt.xticks(rotation=90)\n",
    "plt.ylabel('Charged off Proportion',fontsize=14)\n",
    "plt.xlabel('Assigned Loan Sub Grade',fontsize=14)\n",
    "plt.show()"
   ]
  },
  {
   "cell_type": "markdown",
   "metadata": {},
   "source": [
    "Observations:\n",
    "* Sub Grades of \"A\" has minimum chances of charged off.\n",
    "* Sub Grades of \"F\" especially F2 has higher chances of charged off.\n",
    "* Proportion of charged off is increasing with sub grades moving from sub grades of \"A\" towards sub grades of \"F\""
   ]
  },
  {
   "cell_type": "markdown",
   "metadata": {},
   "source": [
    "###### Employment Length as driving variable"
   ]
  },
  {
   "cell_type": "code",
   "execution_count": 74,
   "metadata": {},
   "outputs": [
    {
     "data": {
      "text/html": [
       "<div>\n",
       "<style scoped>\n",
       "    .dataframe tbody tr th:only-of-type {\n",
       "        vertical-align: middle;\n",
       "    }\n",
       "\n",
       "    .dataframe tbody tr th {\n",
       "        vertical-align: top;\n",
       "    }\n",
       "\n",
       "    .dataframe thead th {\n",
       "        text-align: right;\n",
       "    }\n",
       "</style>\n",
       "<table border=\"1\" class=\"dataframe\">\n",
       "  <thead>\n",
       "    <tr style=\"text-align: right;\">\n",
       "      <th>loan_status</th>\n",
       "      <th>Charged Off</th>\n",
       "      <th>Current</th>\n",
       "      <th>Fully Paid</th>\n",
       "      <th>Charged Off prop</th>\n",
       "    </tr>\n",
       "    <tr>\n",
       "      <th>emp_length</th>\n",
       "      <th></th>\n",
       "      <th></th>\n",
       "      <th></th>\n",
       "      <th></th>\n",
       "    </tr>\n",
       "  </thead>\n",
       "  <tbody>\n",
       "    <tr>\n",
       "      <th>0</th>\n",
       "      <td>201</td>\n",
       "      <td>0</td>\n",
       "      <td>723</td>\n",
       "      <td>0.217532</td>\n",
       "    </tr>\n",
       "    <tr>\n",
       "      <th>1</th>\n",
       "      <td>876</td>\n",
       "      <td>0</td>\n",
       "      <td>5599</td>\n",
       "      <td>0.135290</td>\n",
       "    </tr>\n",
       "    <tr>\n",
       "      <th>2</th>\n",
       "      <td>456</td>\n",
       "      <td>0</td>\n",
       "      <td>3124</td>\n",
       "      <td>0.127374</td>\n",
       "    </tr>\n",
       "    <tr>\n",
       "      <th>3</th>\n",
       "      <td>437</td>\n",
       "      <td>0</td>\n",
       "      <td>2828</td>\n",
       "      <td>0.133844</td>\n",
       "    </tr>\n",
       "    <tr>\n",
       "      <th>4</th>\n",
       "      <td>357</td>\n",
       "      <td>0</td>\n",
       "      <td>2365</td>\n",
       "      <td>0.131154</td>\n",
       "    </tr>\n",
       "    <tr>\n",
       "      <th>5</th>\n",
       "      <td>350</td>\n",
       "      <td>0</td>\n",
       "      <td>2214</td>\n",
       "      <td>0.136505</td>\n",
       "    </tr>\n",
       "    <tr>\n",
       "      <th>6</th>\n",
       "      <td>233</td>\n",
       "      <td>0</td>\n",
       "      <td>1489</td>\n",
       "      <td>0.135308</td>\n",
       "    </tr>\n",
       "    <tr>\n",
       "      <th>7</th>\n",
       "      <td>199</td>\n",
       "      <td>0</td>\n",
       "      <td>1148</td>\n",
       "      <td>0.147736</td>\n",
       "    </tr>\n",
       "    <tr>\n",
       "      <th>8</th>\n",
       "      <td>156</td>\n",
       "      <td>0</td>\n",
       "      <td>975</td>\n",
       "      <td>0.137931</td>\n",
       "    </tr>\n",
       "    <tr>\n",
       "      <th>9</th>\n",
       "      <td>117</td>\n",
       "      <td>0</td>\n",
       "      <td>816</td>\n",
       "      <td>0.125402</td>\n",
       "    </tr>\n",
       "    <tr>\n",
       "      <th>10</th>\n",
       "      <td>909</td>\n",
       "      <td>0</td>\n",
       "      <td>5217</td>\n",
       "      <td>0.148384</td>\n",
       "    </tr>\n",
       "  </tbody>\n",
       "</table>\n",
       "</div>"
      ],
      "text/plain": [
       "loan_status  Charged Off  Current  Fully Paid  Charged Off prop\n",
       "emp_length                                                     \n",
       "0                    201        0         723          0.217532\n",
       "1                    876        0        5599          0.135290\n",
       "2                    456        0        3124          0.127374\n",
       "3                    437        0        2828          0.133844\n",
       "4                    357        0        2365          0.131154\n",
       "5                    350        0        2214          0.136505\n",
       "6                    233        0        1489          0.135308\n",
       "7                    199        0        1148          0.147736\n",
       "8                    156        0         975          0.137931\n",
       "9                    117        0         816          0.125402\n",
       "10                   909        0        5217          0.148384"
      ]
     },
     "execution_count": 74,
     "metadata": {},
     "output_type": "execute_result"
    }
   ],
   "source": [
    "emp_length_vs_loan = df.groupby([ 'emp_length', 'loan_status'])\n",
    "df_cross = emp_length_vs_loan.loan_status.count()\n",
    "df_unstacked = df_cross.unstack()\n",
    "df1 = df_unstacked.fillna(0)\n",
    "df1.columns=df1.columns.astype('str')\n",
    "df1.reset_index()\n",
    "df1['Charged Off prop'] = df1['Charged Off']/(df1['Fully Paid']+df1['Charged Off'])\n",
    "df1"
   ]
  },
  {
   "cell_type": "code",
   "execution_count": 75,
   "metadata": {},
   "outputs": [
    {
     "data": {
      "image/png": "[encoded data removed]",
      "text/plain": [
       "<Figure size 432x288 with 1 Axes>"
      ]
     },
     "metadata": {
      "needs_background": "light"
     },
     "output_type": "display_data"
    }
   ],
   "source": [
    "ax1=sns.barplot(y='Charged Off prop', x=df1.index, data=df1)\n",
    "plt.xticks(rotation=90)\n",
    "plt.ylabel('Charged off Proportion',fontsize=14)\n",
    "plt.xlabel('Employment Length',fontsize=14)\n",
    "plt.show()"
   ]
  },
  {
   "cell_type": "markdown",
   "metadata": {},
   "source": [
    "Observation\n",
    "* Employment length of less than one year has highest proportion of charged off loan applicants."
   ]
  },
  {
   "cell_type": "markdown",
   "metadata": {},
   "source": [
    "###### Home ownership as driving variable"
   ]
  },
  {
   "cell_type": "code",
   "execution_count": 76,
   "metadata": {},
   "outputs": [
    {
     "data": {
      "text/html": [
       "<div>\n",
       "<style scoped>\n",
       "    .dataframe tbody tr th:only-of-type {\n",
       "        vertical-align: middle;\n",
       "    }\n",
       "\n",
       "    .dataframe tbody tr th {\n",
       "        vertical-align: top;\n",
       "    }\n",
       "\n",
       "    .dataframe thead th {\n",
       "        text-align: right;\n",
       "    }\n",
       "</style>\n",
       "<table border=\"1\" class=\"dataframe\">\n",
       "  <thead>\n",
       "    <tr style=\"text-align: right;\">\n",
       "      <th>loan_status</th>\n",
       "      <th>Charged Off</th>\n",
       "      <th>Fully Paid</th>\n",
       "      <th>Charged Off prop</th>\n",
       "    </tr>\n",
       "    <tr>\n",
       "      <th>home_ownership</th>\n",
       "      <th></th>\n",
       "      <th></th>\n",
       "      <th></th>\n",
       "    </tr>\n",
       "  </thead>\n",
       "  <tbody>\n",
       "    <tr>\n",
       "      <th>MORTGAGE</th>\n",
       "      <td>1647</td>\n",
       "      <td>10853</td>\n",
       "      <td>0.131760</td>\n",
       "    </tr>\n",
       "    <tr>\n",
       "      <th>OTHER</th>\n",
       "      <td>16</td>\n",
       "      <td>71</td>\n",
       "      <td>0.183908</td>\n",
       "    </tr>\n",
       "    <tr>\n",
       "      <th>OWN</th>\n",
       "      <td>351</td>\n",
       "      <td>2147</td>\n",
       "      <td>0.140512</td>\n",
       "    </tr>\n",
       "    <tr>\n",
       "      <th>RENT</th>\n",
       "      <td>2277</td>\n",
       "      <td>13424</td>\n",
       "      <td>0.145023</td>\n",
       "    </tr>\n",
       "  </tbody>\n",
       "</table>\n",
       "</div>"
      ],
      "text/plain": [
       "loan_status     Charged Off  Fully Paid  Charged Off prop\n",
       "home_ownership                                           \n",
       "MORTGAGE               1647       10853          0.131760\n",
       "OTHER                    16          71          0.183908\n",
       "OWN                     351        2147          0.140512\n",
       "RENT                   2277       13424          0.145023"
      ]
     },
     "execution_count": 76,
     "metadata": {},
     "output_type": "execute_result"
    }
   ],
   "source": [
    "home_vs_loan = df.groupby([ 'home_ownership', 'loan_status'])\n",
    "df_cross = home_vs_loan.loan_status.count()[lambda x: x >= 10]\n",
    "df_unstacked = df_cross.unstack()\n",
    "df1 = df_unstacked.fillna(0)\n",
    "df1.columns=df1.columns.astype('str')\n",
    "df1.reset_index()\n",
    "df1['Charged Off prop'] = df1['Charged Off']/(df1['Fully Paid']+df1['Charged Off'])\n",
    "df1"
   ]
  },
  {
   "cell_type": "code",
   "execution_count": 77,
   "metadata": {},
   "outputs": [
    {
     "data": {
      "image/png": "[encoded data removed]",
      "text/plain": [
       "<Figure size 432x288 with 1 Axes>"
      ]
     },
     "metadata": {
      "needs_background": "light"
     },
     "output_type": "display_data"
    }
   ],
   "source": [
    "ax1=sns.barplot(y='Charged Off prop', x=df1.index, data=df1)\n",
    "plt.xticks(rotation=90)\n",
    "plt.ylabel('Charged off Proportion',fontsize=14)\n",
    "plt.xlabel('Home Ownership',fontsize=14)\n",
    "plt.show()"
   ]
  },
  {
   "cell_type": "markdown",
   "metadata": {},
   "source": [
    "Observation\n",
    "* Charge off chances is less in case of mortgaged homes\n",
    "* Charge off chances are more in case of other categories"
   ]
  },
  {
   "cell_type": "markdown",
   "metadata": {},
   "source": [
    "###### Loan term as driving variable"
   ]
  },
  {
   "cell_type": "code",
   "execution_count": 78,
   "metadata": {},
   "outputs": [
    {
     "data": {
      "text/html": [
       "<div>\n",
       "<style scoped>\n",
       "    .dataframe tbody tr th:only-of-type {\n",
       "        vertical-align: middle;\n",
       "    }\n",
       "\n",
       "    .dataframe tbody tr th {\n",
       "        vertical-align: top;\n",
       "    }\n",
       "\n",
       "    .dataframe thead th {\n",
       "        text-align: right;\n",
       "    }\n",
       "</style>\n",
       "<table border=\"1\" class=\"dataframe\">\n",
       "  <thead>\n",
       "    <tr style=\"text-align: right;\">\n",
       "      <th>loan_status</th>\n",
       "      <th>Charged Off</th>\n",
       "      <th>Current</th>\n",
       "      <th>Fully Paid</th>\n",
       "      <th>Charged Off prop</th>\n",
       "    </tr>\n",
       "    <tr>\n",
       "      <th>term</th>\n",
       "      <th></th>\n",
       "      <th></th>\n",
       "      <th></th>\n",
       "      <th></th>\n",
       "    </tr>\n",
       "  </thead>\n",
       "  <tbody>\n",
       "    <tr>\n",
       "      <th>36 months</th>\n",
       "      <td>2868</td>\n",
       "      <td>0</td>\n",
       "      <td>22411</td>\n",
       "      <td>0.113454</td>\n",
       "    </tr>\n",
       "    <tr>\n",
       "      <th>60 months</th>\n",
       "      <td>1423</td>\n",
       "      <td>0</td>\n",
       "      <td>4087</td>\n",
       "      <td>0.258258</td>\n",
       "    </tr>\n",
       "  </tbody>\n",
       "</table>\n",
       "</div>"
      ],
      "text/plain": [
       "loan_status  Charged Off  Current  Fully Paid  Charged Off prop\n",
       "term                                                           \n",
       " 36 months          2868        0       22411          0.113454\n",
       " 60 months          1423        0        4087          0.258258"
      ]
     },
     "execution_count": 78,
     "metadata": {},
     "output_type": "execute_result"
    }
   ],
   "source": [
    "term_vs_loan = df.groupby([ 'term', 'loan_status'])\n",
    "df_cross = term_vs_loan.loan_status.count()\n",
    "df_unstacked = df_cross.unstack()\n",
    "df1 = df_unstacked.fillna(0)\n",
    "df1.columns=df1.columns.astype('str')\n",
    "df1.reset_index()\n",
    "df1['Charged Off prop'] = df1['Charged Off']/(df1['Fully Paid']+df1['Charged Off'])\n",
    "df1"
   ]
  },
  {
   "cell_type": "code",
   "execution_count": 79,
   "metadata": {},
   "outputs": [
    {
     "data": {
      "image/png": "[encoded data removed]",
      "text/plain": [
       "<Figure size 432x288 with 1 Axes>"
      ]
     },
     "metadata": {
      "needs_background": "light"
     },
     "output_type": "display_data"
    }
   ],
   "source": [
    "ax1=sns.barplot(y='Charged Off prop', x=df1.index, data=df1)\n",
    "plt.ylabel('Charged off Proportion',fontsize=14)\n",
    "plt.xlabel('Loan Term',fontsize=14)\n",
    "plt.show()"
   ]
  },
  {
   "cell_type": "markdown",
   "metadata": {},
   "source": [
    "Observation\n",
    "* Charge off significantly higher in case of 60 months loan term"
   ]
  },
  {
   "cell_type": "markdown",
   "metadata": {},
   "source": [
    "###### Verification status as driving variable"
   ]
  },
  {
   "cell_type": "code",
   "execution_count": 80,
   "metadata": {},
   "outputs": [
    {
     "data": {
      "text/html": [
       "<div>\n",
       "<style scoped>\n",
       "    .dataframe tbody tr th:only-of-type {\n",
       "        vertical-align: middle;\n",
       "    }\n",
       "\n",
       "    .dataframe tbody tr th {\n",
       "        vertical-align: top;\n",
       "    }\n",
       "\n",
       "    .dataframe thead th {\n",
       "        text-align: right;\n",
       "    }\n",
       "</style>\n",
       "<table border=\"1\" class=\"dataframe\">\n",
       "  <thead>\n",
       "    <tr style=\"text-align: right;\">\n",
       "      <th>loan_status</th>\n",
       "      <th>Charged Off</th>\n",
       "      <th>Current</th>\n",
       "      <th>Fully Paid</th>\n",
       "      <th>Charged Off prop</th>\n",
       "    </tr>\n",
       "    <tr>\n",
       "      <th>verification_status</th>\n",
       "      <th></th>\n",
       "      <th></th>\n",
       "      <th></th>\n",
       "      <th></th>\n",
       "    </tr>\n",
       "  </thead>\n",
       "  <tbody>\n",
       "    <tr>\n",
       "      <th>Not Verified</th>\n",
       "      <td>1954</td>\n",
       "      <td>0</td>\n",
       "      <td>13445</td>\n",
       "      <td>0.126891</td>\n",
       "    </tr>\n",
       "    <tr>\n",
       "      <th>Source Verified</th>\n",
       "      <td>1104</td>\n",
       "      <td>0</td>\n",
       "      <td>6934</td>\n",
       "      <td>0.137348</td>\n",
       "    </tr>\n",
       "    <tr>\n",
       "      <th>Verified</th>\n",
       "      <td>1233</td>\n",
       "      <td>0</td>\n",
       "      <td>6119</td>\n",
       "      <td>0.167709</td>\n",
       "    </tr>\n",
       "  </tbody>\n",
       "</table>\n",
       "</div>"
      ],
      "text/plain": [
       "loan_status          Charged Off  Current  Fully Paid  Charged Off prop\n",
       "verification_status                                                    \n",
       "Not Verified                1954        0       13445          0.126891\n",
       "Source Verified             1104        0        6934          0.137348\n",
       "Verified                    1233        0        6119          0.167709"
      ]
     },
     "execution_count": 80,
     "metadata": {},
     "output_type": "execute_result"
    }
   ],
   "source": [
    "veri_vs_loan = df.groupby([ 'verification_status', 'loan_status'])\n",
    "df_cross = veri_vs_loan.loan_status.count()\n",
    "df_unstacked = df_cross.unstack()\n",
    "df1 = df_unstacked.fillna(0)\n",
    "df1.columns=df1.columns.astype('str')\n",
    "df1.reset_index()\n",
    "df1['Charged Off prop'] = df1['Charged Off']/(df1['Fully Paid']+df1['Charged Off'])\n",
    "df1"
   ]
  },
  {
   "cell_type": "code",
   "execution_count": 81,
   "metadata": {},
   "outputs": [
    {
     "data": {
      "image/png": "[encoded data removed]",
      "text/plain": [
       "<Figure size 432x288 with 1 Axes>"
      ]
     },
     "metadata": {
      "needs_background": "light"
     },
     "output_type": "display_data"
    }
   ],
   "source": [
    "ax1=sns.barplot(y='Charged Off prop', x=df1.index, data=df1)\n",
    "plt.xticks(rotation=90)\n",
    "plt.ylabel('Charged off Proportion',fontsize=14)\n",
    "plt.xlabel('Verification status',fontsize=14)\n",
    "plt.show()"
   ]
  },
  {
   "cell_type": "markdown",
   "metadata": {},
   "source": [
    "Observation\n",
    "* Verified loan applications has slightly higher chances of charged off"
   ]
  },
  {
   "cell_type": "markdown",
   "metadata": {},
   "source": [
    "###### Public Record Bankrupties as driving variable"
   ]
  },
  {
   "cell_type": "code",
   "execution_count": 82,
   "metadata": {},
   "outputs": [
    {
     "data": {
      "text/html": [
       "<div>\n",
       "<style scoped>\n",
       "    .dataframe tbody tr th:only-of-type {\n",
       "        vertical-align: middle;\n",
       "    }\n",
       "\n",
       "    .dataframe tbody tr th {\n",
       "        vertical-align: top;\n",
       "    }\n",
       "\n",
       "    .dataframe thead th {\n",
       "        text-align: right;\n",
       "    }\n",
       "</style>\n",
       "<table border=\"1\" class=\"dataframe\">\n",
       "  <thead>\n",
       "    <tr style=\"text-align: right;\">\n",
       "      <th>loan_status</th>\n",
       "      <th>Charged Off</th>\n",
       "      <th>Current</th>\n",
       "      <th>Fully Paid</th>\n",
       "      <th>Charged Off prop</th>\n",
       "    </tr>\n",
       "    <tr>\n",
       "      <th>pub_rec_bankruptcies</th>\n",
       "      <th></th>\n",
       "      <th></th>\n",
       "      <th></th>\n",
       "      <th></th>\n",
       "    </tr>\n",
       "  </thead>\n",
       "  <tbody>\n",
       "    <tr>\n",
       "      <th>0.0</th>\n",
       "      <td>3900</td>\n",
       "      <td>0</td>\n",
       "      <td>24909</td>\n",
       "      <td>0.135374</td>\n",
       "    </tr>\n",
       "    <tr>\n",
       "      <th>1.0</th>\n",
       "      <td>289</td>\n",
       "      <td>0</td>\n",
       "      <td>1081</td>\n",
       "      <td>0.210949</td>\n",
       "    </tr>\n",
       "    <tr>\n",
       "      <th>2.0</th>\n",
       "      <td>2</td>\n",
       "      <td>0</td>\n",
       "      <td>2</td>\n",
       "      <td>0.500000</td>\n",
       "    </tr>\n",
       "    <tr>\n",
       "      <th>Not Known</th>\n",
       "      <td>100</td>\n",
       "      <td>0</td>\n",
       "      <td>506</td>\n",
       "      <td>0.165017</td>\n",
       "    </tr>\n",
       "  </tbody>\n",
       "</table>\n",
       "</div>"
      ],
      "text/plain": [
       "loan_status           Charged Off  Current  Fully Paid  Charged Off prop\n",
       "pub_rec_bankruptcies                                                    \n",
       "0.0                          3900        0       24909          0.135374\n",
       "1.0                           289        0        1081          0.210949\n",
       "2.0                             2        0           2          0.500000\n",
       "Not Known                     100        0         506          0.165017"
      ]
     },
     "execution_count": 82,
     "metadata": {},
     "output_type": "execute_result"
    }
   ],
   "source": [
    "pub_rec_bankrupt = df.groupby([ 'pub_rec_bankruptcies', 'loan_status'])\n",
    "df_cross = pub_rec_bankrupt.loan_status.count()\n",
    "df_unstacked = df_cross.unstack()\n",
    "df1 = df_unstacked.fillna(0)\n",
    "df1.columns=df1.columns.astype('str')\n",
    "df1.reset_index()\n",
    "df1['Charged Off prop'] = df1['Charged Off']/(df1['Fully Paid']+df1['Charged Off'])\n",
    "df1"
   ]
  },
  {
   "cell_type": "code",
   "execution_count": 83,
   "metadata": {},
   "outputs": [
    {
     "data": {
      "image/png": "[encoded data removed]",
      "text/plain": [
       "<Figure size 432x288 with 1 Axes>"
      ]
     },
     "metadata": {
      "needs_background": "light"
     },
     "output_type": "display_data"
    }
   ],
   "source": [
    "ax1=sns.barplot(y='Charged Off prop', x=df1.index, data=df1)\n",
    "plt.xticks(rotation=90)\n",
    "plt.ylabel('Charged off Proportion',fontsize=14)\n",
    "plt.xlabel('Public Record Bankrupties',fontsize=14)\n",
    "plt.show()"
   ]
  },
  {
   "cell_type": "markdown",
   "metadata": {},
   "source": [
    "Observation\n",
    "* Higher number of Public Record Bankrupties results in higher rate of Charged off applicants"
   ]
  },
  {
   "cell_type": "markdown",
   "metadata": {},
   "source": [
    "### Bivariate Analysis between significant driving variables"
   ]
  },
  {
   "cell_type": "code",
   "execution_count": 84,
   "metadata": {},
   "outputs": [
    {
     "data": {
      "image/png": "[encoded data removed]",
      "text/plain": [
       "<Figure size 720x576 with 1 Axes>"
      ]
     },
     "metadata": {
      "needs_background": "light"
     },
     "output_type": "display_data"
    }
   ],
   "source": [
    "# Puprose of loan vs Loan amount\n",
    "plt.figure(figsize=(10,8))\n",
    "ax = sns.boxplot(y='purpose', x='loan_amnt', data=df)\n",
    "plt.title('Purpose of Loan vs Loan Amount',fontsize=15)\n",
    "plt.ylabel('Purpose of Loan',fontsize=14)\n",
    "plt.xlabel('Loan Amount',fontsize=14)\n",
    "plt.show()"
   ]
  },
  {
   "cell_type": "markdown",
   "metadata": {},
   "source": [
    "Observations\n",
    "* Loan amount is highest for loan taken for debt consolidation and small business purpose."
   ]
  },
  {
   "cell_type": "code",
   "execution_count": 85,
   "metadata": {},
   "outputs": [
    {
     "data": {
      "image/png": "[encoded data removed]",
      "text/plain": [
       "<Figure size 432x288 with 1 Axes>"
      ]
     },
     "metadata": {
      "needs_background": "light"
     },
     "output_type": "display_data"
    }
   ],
   "source": [
    "# Loan amount vs Interest Rate\n",
    "\n",
    "ax = sns.boxplot(x='int_rate', y='loan_amnt_cats', data=df)\n",
    "plt.title('Loan amount vs Interest Rate',fontsize=15)\n",
    "plt.ylabel('Loan Amount',fontsize=14)\n",
    "plt.xlabel('Interset Rate',fontsize=14)\n",
    "plt.show()"
   ]
  },
  {
   "cell_type": "markdown",
   "metadata": {},
   "source": [
    "Observation\n",
    "* Interest rates increases with increase in loan amount.\n",
    "* Higher interset rate leads to higher proportion of charged off applicants for higher loan amounts"
   ]
  },
  {
   "cell_type": "code",
   "execution_count": 86,
   "metadata": {},
   "outputs": [
    {
     "data": {
      "image/png": "[encoded data removed]",
      "text/plain": [
       "<Figure size 432x288 with 1 Axes>"
      ]
     },
     "metadata": {
      "needs_background": "light"
     },
     "output_type": "display_data"
    }
   ],
   "source": [
    "# Interest Rate vs Year\n",
    "ax = sns.boxplot(y='int_rate', x='year', data =df)\n",
    "ax.set_title('Year vs Interest Rate',fontsize=15)\n",
    "ax.set_ylabel('Interest Rate',fontsize=14)\n",
    "ax.set_xlabel('Year',fontsize=14)\n",
    "plt.show()"
   ]
  },
  {
   "cell_type": "markdown",
   "metadata": {},
   "source": [
    "Observation\n",
    "* Interest rate has no specific trend with increasing year"
   ]
  },
  {
   "cell_type": "code",
   "execution_count": 87,
   "metadata": {},
   "outputs": [
    {
     "data": {
      "image/png": "[encoded data removed]",
      "text/plain": [
       "<Figure size 432x288 with 1 Axes>"
      ]
     },
     "metadata": {
      "needs_background": "light"
     },
     "output_type": "display_data"
    }
   ],
   "source": [
    "# Interest Rate vs Loan Term\n",
    "ax = sns.boxplot(x='int_rate', y='term', data=df)\n",
    "plt.title('Interest Rate vs Loan Term',fontsize=15)\n",
    "plt.ylabel('Loan Term',fontsize=14)\n",
    "plt.xlabel('Interset Rate',fontsize=14)\n",
    "plt.show()"
   ]
  },
  {
   "cell_type": "markdown",
   "metadata": {},
   "source": [
    "Observation\n",
    "* Interest rate is higher in case of 60 months loan term\n",
    "* Higher interset rate leads to higher proportion of charged off applicants in 60 month term"
   ]
  },
  {
   "cell_type": "code",
   "execution_count": 88,
   "metadata": {},
   "outputs": [
    {
     "data": {
      "image/png": "[encoded data removed]",
      "text/plain": [
       "<Figure size 720x576 with 1 Axes>"
      ]
     },
     "metadata": {
      "needs_background": "light"
     },
     "output_type": "display_data"
    }
   ],
   "source": [
    "# Purpose vs Interest Rate\n",
    "plt.figure(figsize=(10,8))\n",
    "ax = sns.boxplot(x='int_rate', y='purpose', data=df)\n",
    "plt.title('Interest Rate vs Purpose',fontsize=15)\n",
    "plt.ylabel('Purpose of Loan',fontsize=14)\n",
    "plt.xlabel('Interset Rate',fontsize=14)\n",
    "plt.show()"
   ]
  },
  {
   "cell_type": "markdown",
   "metadata": {},
   "source": [
    "Observation \n",
    "* Interest rate is highest in case of small business, and higher in debt consolidation and educational purposes.\n",
    "* Higher interset rate leads to higher proportion of charged off applicants for loan applicants for purpose of small business."
   ]
  },
  {
   "cell_type": "code",
   "execution_count": 89,
   "metadata": {},
   "outputs": [
    {
     "data": {
      "image/png": "[encoded data removed]",
      "text/plain": [
       "<Figure size 432x288 with 1 Axes>"
      ]
     },
     "metadata": {
      "needs_background": "light"
     },
     "output_type": "display_data"
    }
   ],
   "source": [
    "# Grade vs Interest Rate\n",
    "ax = sns.boxplot(x='int_rate', y='grade', data=df)\n",
    "plt.title('Interest Rate vs Grade',fontsize=15)\n",
    "plt.ylabel('Loan Grade',fontsize=14)\n",
    "plt.xlabel('Interset Rate',fontsize=14)\n",
    "plt.show()"
   ]
  },
  {
   "cell_type": "markdown",
   "metadata": {},
   "source": [
    "Observation\n",
    "* Interest rate increases significantly as grade increases from A to F.\n",
    "* Higher interset rate leads to higher proportion of charged off applicants."
   ]
  },
  {
   "cell_type": "markdown",
   "metadata": {},
   "source": [
    "## Observations"
   ]
  },
  {
   "cell_type": "markdown",
   "metadata": {},
   "source": [
    "We can see that fully paid comprises 84.5%, defaulters are 13.6% and that of current is 1.71%.\n",
    "\n",
    "The 'current' ones are neither fully paid not defaulted, so let's get rid of the current loans as this wont contribute to our analysis."
   ]
  },
  {
   "cell_type": "markdown",
   "metadata": {},
   "source": [
    "##### Results obtained from Univariate Analaysis"
   ]
  },
  {
   "cell_type": "markdown",
   "metadata": {},
   "source": [
    "* Distribution of amounts for Loan Amount, Funded Amount and Funded Amount Investment looks very much similar. Hence, we can work with only loan amount column for rest of our analysis.\n",
    "* Maximum loan applicants have their annual income in range 30000-80000.\n",
    "* Most of the total payment are in range of 5000-13000.\n",
    "* Maximum loan applicants have Interest Rates on loans in the range of 10% - 15%.\n",
    "* Most of the loans taken for debt consolidation(45.15%) and Credit card bill payment (13.21%). Other (10.8%) is also one of the main area where loans were taken and then the home improvement is another major reason (6.94%)\n",
    "* When home ownership is considered, applicant numbers are highest for those living in rented home. Next highest loan applicants are those who mortgazed their home. While others category have least numbers of applicants.\n",
    "* Number of loan applications is maximum for grade A and B. Also Loan defaulters are comparatively less for grade A. And Number of loan applications then gradually decreases from B to F.\n",
    "* Count of Loan applicants reduces from subgrades A to subgrades F\n",
    "* There is increase in count of loan application with each passing year. This observation holds true except for May-October in the year 2008, reason for this can be recession. Hence, increase in number of loan applications may lead to increased number of charged off applications.\n",
    "* The loan term plot suggests that loan repayment term of 36 months has higher count of loan applicant as compared to loan repayment term of 60 months.\n",
    "* Loan verification Status plot shows 'Not verified' loan applications are highest in numbers. 'Verified' loan applications are less in numbers\n",
    "* Less count of loan applications is seen for employment length less than an year. Maximum count of laon applicants are observed for employment length of 1 year, hence can have maximum defaulters as well. And this count of loan applications gradually reduces from employment length of 2 year to 9 year. Then Surge in count of loan applications is observed for employment length 10 years+. Reason for huge loan application for employment length of 1 year can be debt_consolidation which contributes 45% to loan purpose Reason for huge loan application for employment length of 10+ year can be numerous like home improvement, major purchase, etc. Further, 10+ year buckets covers remaining employment length so has huge count"
   ]
  },
  {
   "cell_type": "markdown",
   "metadata": {},
   "source": [
    "##### Results obtained from Bivariate Analaysis"
   ]
  },
  {
   "cell_type": "markdown",
   "metadata": {},
   "source": [
    "* Loan amount of 20000+ has high chances of charged off.\n",
    "* Intrest rates are starting from minimin 5 %. Interest rate less than 10% has very less chances of charged off. Interest rate more than 16% has very high chances of charged off. Charged off proportion is increasing with higher intrest rates.\n",
    "* As DTI increases chances of charged off applicants increases\n",
    "* Income range (0-20000) has high chances of charged off. With increase in annual income charged off chances decreases. 120000+ bucket has slightly higher as it comprises huge income range\n",
    "* Small Business applicants have high chances of getting charged off. Renewable_energy and educational applicants are next categories where charge off is high\n",
    "* Grade \"A\" has minimum chances of charged off. Grade \"F\" have maximum chances of charged off. Chances of charged of is increasing with grade moving from \"A\" towards \"F\"\n",
    "* Sub Grades of \"A\" has minimum chances of charged off. Sub Grades of \"F\" especially F2 has higher chances of charged off. Proportion of charged off is increasing with sub grades moving from sub grades of \"A\" towards sub grades of \"F\"\n",
    "* Employment length of less than one year has highest proportion of charged off loan applicants.\n",
    "* Charge off chances is less in case of mortgaged homes. Charge off chances are more in case of other categories\n",
    "* Charge off significantly higher in case of 60 months loan term\n",
    "* Verified loan applications has slightly higher chances of charged off\n",
    "* Higher number of Public Record Bankrupties results in higher rate of Charged off applicants\n",
    "* Loan amount is highest for loan taken for debt consolidation and small business purpose.\n",
    "* Interest rates increases with increase in loan amount. \n",
    "* Interest rate is higher in case of 60 months loan term\n",
    "* Interest rate is highest in case of small business, and higher in debt consolidation and educational purposes.\n",
    "* Interest rate increases significantly as grade increases from A to F."
   ]
  },
  {
   "cell_type": "markdown",
   "metadata": {},
   "source": [
    "## Conclusions"
   ]
  },
  {
   "cell_type": "markdown",
   "metadata": {},
   "source": [
    "* Charged off proportion increases with increase in interest rates. Interest rate more than 16% has very high chances of charged off. \n",
    "* Interest rates increases with increase in loan amount. Consequently, Loan amount of 20000+ has high chances of charged off.\n",
    "* With respect to purpose of Loan, \"Small Business\" applicants have high chances of getting charged off. \"Renewable_energy\" and \"educational applicants\" are next categories where charge off is high. Reason for \"Small Business\" applicants have highest chances of getting charged off can be increased interest rate for \"Small Business\".\n",
    "* With increase in annual income charged off proportion decreases. Income range (0-20000) has high chances of charged off.\n",
    "* While loan applications gradually decreases from A to F, Proportion of charged off applicants increases with grade moving from \"A\" towards \"F\", implying Grade \"A\" has minimum chances of charged off and Grade \"F\" has maximum chances of charged off.\n",
    "* Proportion of charged off applicants increases with sub grades moving from sub grades of \"A\" towards sub grades of \"F\", while Count of Loan applicants reduces from subgrades A to subgrades F.\n",
    "* Reason for increasing proportion of charged off applicants while moving from grade \"A\" towards grade \"F\" can be attributed to increasing interest rate as grade increases from A to F.\n",
    "* Employment length of less than one year has highest proportion of charged off loan applicants.  Here, Maximum count of loan applicants are observed for employment length of 1 year, hence have maximum defaulters as well.\n",
    "* When home ownership is considered, applicant numbers are highest for those living in rented home. Next highest loan applicants are those who mortgaged their home. While others category have least numbers of applicants. But Charge off chances is less in case of mortgaged homes. Charge off chances are more in case of other categories.\n",
    "* As DTI increases chances of charged off applicants increases.\n",
    "* Charge off applicants numbers are significantly higher in case of 60 months loan term while applicants with loan repayment term of 36 months are higher in count. Interest rate is higher in case of 60 months loan term, leading to increased Charged off applicants.\n",
    "* Higher number of Public Record Bankruptcies results in higher rate of Charged off applicants.\n"
   ]
  },
  {
   "cell_type": "code",
   "execution_count": null,
   "metadata": {},
   "outputs": [],
   "source": []
  }
 ],
 "metadata": {
  "kernelspec": {
   "display_name": "Python 3",
   "language": "python",
   "name": "python3"
  },
  "language_info": {
   "codemirror_mode": {
    "name": "ipython",
    "version": 3
   },
   "file_extension": ".py",
   "mimetype": "text/x-python",
   "name": "python",
   "nbconvert_exporter": "python",
   "pygments_lexer": "ipython3",
   "version": "3.8.3"
  }
 },
 "nbformat": 4,
 "nbformat_minor": 4
}
